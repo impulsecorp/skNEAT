{
 "cells": [
  {
   "cell_type": "code",
   "execution_count": 1,
   "metadata": {},
   "outputs": [
    {
     "name": "stdout",
     "output_type": "stream",
     "text": [
      "Populating the interactive namespace from numpy and matplotlib\n"
     ]
    },
    {
     "data": {
      "application/javascript": [
       "IPython.notebook.set_autosave_interval(20000)"
      ]
     },
     "metadata": {},
     "output_type": "display_data"
    },
    {
     "name": "stdout",
     "output_type": "stream",
     "text": [
      "Autosaving every 20 seconds\n"
     ]
    },
    {
     "name": "stderr",
     "output_type": "stream",
     "text": [
      "Using Theano backend.\n",
      "Using cuDNN version 7103 on context None\n",
      "Mapped name None to device cuda: GeForce GTX 1080 (0000:01:00.0)\n"
     ]
    },
    {
     "name": "stdout",
     "output_type": "stream",
     "text": [
      "vizdoom could not be imported\n"
     ]
    },
    {
     "name": "stderr",
     "output_type": "stream",
     "text": [
      "[MLENS] backend: threading\n"
     ]
    }
   ],
   "source": [
    "%pylab inline\n",
    "%autosave 20\n",
    "import warnings\n",
    "warnings.filterwarnings('ignore')\n",
    "import os\n",
    "os.environ['KERAS_BACKEND']='theano'\n",
    "import keras\n",
    "import sys\n",
    "sys.path.append('/home/peter')\n",
    "sys.path.append('/home/peter/code/projects/MultiNEAT')\n",
    "sys.path.append('/home/ubuntu')\n",
    "from universal import *\n",
    "sys.path.append('/home/peter/code/projects')\n",
    "sys.path.append('/home/peter/code/work/automl')\n",
    "sys.path.append('/home/peter/code/projects/deepneat')\n",
    "sys.path.append('/home/ubuntu')\n",
    "sys.path.append('/home/ubuntu/new/automl')\n",
    "from aidevutil import *\n",
    "from keras.utils.vis_utils import plot_model\n",
    "from tqdm import tqdm_notebook as tqdm\n",
    "from deepneat import *\n",
    "from sklearn.model_selection import StratifiedKFold\n",
    "from project_common import *\n",
    "import project_common"
   ]
  },
  {
   "cell_type": "code",
   "execution_count": 2,
   "metadata": {},
   "outputs": [],
   "source": [
    "rnd.seed()"
   ]
  },
  {
   "cell_type": "code",
   "execution_count": 3,
   "metadata": {},
   "outputs": [],
   "source": [
    "from dask import compute, delayed, persist\n",
    "from dask.distributed import Client, wait\n",
    "from dask.distributed import as_completed"
   ]
  },
  {
   "cell_type": "code",
   "execution_count": 4,
   "metadata": {},
   "outputs": [],
   "source": [
    "import ipywidgets as widgets"
   ]
  },
  {
   "cell_type": "code",
   "execution_count": 5,
   "metadata": {
    "code_folding": []
   },
   "outputs": [],
   "source": [
    "from sklearn.linear_model import LogisticRegression"
   ]
  },
  {
   "cell_type": "code",
   "execution_count": 6,
   "metadata": {
    "code_folding": []
   },
   "outputs": [],
   "source": [
    "from sklearn.svm import SVC"
   ]
  },
  {
   "cell_type": "code",
   "execution_count": 7,
   "metadata": {},
   "outputs": [],
   "source": [
    "import multiprocessing as mpc"
   ]
  },
  {
   "cell_type": "markdown",
   "metadata": {},
   "source": [
    "### Load data"
   ]
  },
  {
   "cell_type": "raw",
   "metadata": {},
   "source": [
    "(x_train, y_train), (x_test, y_test) = get_mnist(size=(5,5), nrows=2000, nrows_test=2000)\n",
    "dx = x_train.reshape(x_train.shape[0], -1) / 255.0\n",
    "dy = y_train.reshape(-1, 1)\n",
    "\n",
    "dx_test = x_test.reshape(x_test.shape[0], -1) / 255.0"
   ]
  },
  {
   "cell_type": "code",
   "execution_count": 8,
   "metadata": {
    "code_folding": [
     0,
     3,
     6
    ]
   },
   "outputs": [],
   "source": [
    "def revsigm(data):\n",
    "    return 1.-(1./(1.+np.exp(-data)))\n",
    "\n",
    "def Outputs(data):\n",
    "    return np.round(revsigm(data))\n",
    "    \n",
    "def MungeData(data):\n",
    "    # Sex\n",
    "    data.drop(['Ticket', 'Name'], inplace=True, axis=1)\n",
    "    data.Sex.fillna('0', inplace=True)\n",
    "    data.loc[data.Sex != 'male', 'Sex'] = 0\n",
    "    data.loc[data.Sex == 'male', 'Sex'] = 1\n",
    "    # Cabin\n",
    "    cabin_const = 1\n",
    "    data.Cabin.fillna(str(cabin_const), inplace=True)\n",
    "    data.loc[data.Cabin.str[0] == 'A', 'Cabin'] = cabin_const\n",
    "    data.loc[data.Cabin.str[0] == 'B', 'Cabin'] = cabin_const\n",
    "    data.loc[data.Cabin.str[0] == 'C', 'Cabin'] = cabin_const\n",
    "    data.loc[data.Cabin.str[0] == 'D', 'Cabin'] = cabin_const\n",
    "    data.loc[data.Cabin.str[0] == 'E', 'Cabin'] = cabin_const\n",
    "    data.loc[data.Cabin.str[0] == 'F', 'Cabin'] = cabin_const\n",
    "    data.loc[data.Cabin.str[0] == 'G', 'Cabin'] = cabin_const\n",
    "    data.loc[data.Cabin.str[0] == 'T', 'Cabin'] = cabin_const\n",
    "    # Embarked\n",
    "    data.loc[data.Embarked == 'C', 'Embarked'] = 1\n",
    "    data.loc[data.Embarked == 'Q', 'Embarked'] = 2\n",
    "    data.loc[data.Embarked == 'S', 'Embarked'] = 3\n",
    "    data.Embarked.fillna(0, inplace=True)\n",
    "    data.fillna(-1, inplace=True)\n",
    "    return data.astype(float)\n",
    "\n",
    "if socket.gethostname() in ['desktop','laptop']:\n",
    "    train = pd.read_csv(\"../../work/automl/titanic/train.csv\", dtype={\"Age\": np.float64}, )\n",
    "    test = pd.read_csv(\"../../work/automl/titanic/test.csv\", dtype={\"Age\": np.float64}, )\n",
    "else:\n",
    "    train = pd.read_csv(\"/home/ubuntu/new/automl/titanic/train.csv\", dtype={\"Age\": np.float64}, )\n",
    "    test = pd.read_csv(\"/home/ubuntu/new/automl/titanic/test.csv\", dtype={\"Age\": np.float64}, )\n",
    "    \n",
    "mdt = MungeData(train)\n",
    "\n",
    "dy = mdt['Survived'].values\n",
    "dx = mdt.drop(['Survived'], axis=1).values[:,1:]\n",
    "dx_test_df = MungeData(test)\n",
    "dx_test = dx_test_df.values[:,1:]"
   ]
  },
  {
   "cell_type": "code",
   "execution_count": null,
   "metadata": {},
   "outputs": [],
   "source": []
  },
  {
   "cell_type": "raw",
   "metadata": {
    "code_folding": [
     0
    ],
    "run_control": {
     "marked": false
    }
   },
   "source": [
    "# ...\n",
    "\n",
    "submission = pd.read_csv('../../work/automl/data/quake/sample_submission.csv', index_col='seg_id')\n",
    "\n",
    "try:\n",
    "    X_train_scaled = pkl.load(open('../../work/automl/data/X_train_scaled.pkl','rb'))\n",
    "    y_tr = pkl.load(open('../../work/automl/data/y_tr.pkl','rb'))\n",
    "    scaler = pkl.load(open('../../work/automl/data/X_scaler.pkl','rb'))\n",
    "except:\n",
    "    # There are 629 million rows in the train.csv file\n",
    "    nrows = 30000000000000\n",
    "    train = pd.read_csv('../../work/automl/data/quake/train.csv', nrows=nrows, dtype={'acoustic_data': np.int16, 'time_to_failure': np.float32})\n",
    "\n",
    "    train_acoustic_data_small = train['acoustic_data'].values[::50]\n",
    "    train_time_to_failure_small = train['time_to_failure'].values[::50]\n",
    "\n",
    "    fig, ax1 = plt.subplots(figsize=(16, 8))\n",
    "    plt.title(\"Trends of acoustic_data and time_to_failure. 2% of data (sampled)\")\n",
    "    plt.plot(train_acoustic_data_small, color='b')\n",
    "    ax1.set_ylabel('acoustic_data', color='b')\n",
    "    plt.legend(['acoustic_data'])\n",
    "    ax2 = ax1.twinx()\n",
    "    plt.plot(train_time_to_failure_small, color='g')\n",
    "    ax2.set_ylabel('time_to_failure', color='g')\n",
    "    plt.legend(['time_to_failure'], loc=(0.875, 0.9))\n",
    "    plt.grid(False)\n",
    "\n",
    "    del train_acoustic_data_small\n",
    "    del train_time_to_failure_small\n",
    "\n",
    "    # Create a training file with simple derived features\n",
    "    rows = 150_000\n",
    "    segments = int(np.floor(train.shape[0] / rows))\n",
    "\n",
    "    def add_trend_feature(arr, abs_values=False):\n",
    "        idx = np.array(range(len(arr)))\n",
    "        if abs_values:\n",
    "            arr = np.abs(arr)\n",
    "        lr = LinearRegression()\n",
    "        lr.fit(idx.reshape(-1, 1), arr)\n",
    "        return lr.coef_[0]\n",
    "\n",
    "    def classic_sta_lta(x, length_sta, length_lta):\n",
    "\n",
    "        sta = np.cumsum(x ** 2)\n",
    "\n",
    "        # Convert to float\n",
    "        sta = np.require(sta, dtype=np.float)\n",
    "\n",
    "        # Copy for LTA\n",
    "        lta = sta.copy()\n",
    "\n",
    "        # Compute the STA and the LTA\n",
    "        sta[length_sta:] = sta[length_sta:] - sta[:-length_sta]\n",
    "        sta /= length_sta\n",
    "        lta[length_lta:] = lta[length_lta:] - lta[:-length_lta]\n",
    "        lta /= length_lta\n",
    "\n",
    "        # Pad zeros\n",
    "        sta[:length_lta - 1] = 0\n",
    "\n",
    "        # Avoid division by zero by setting zero values to tiny float\n",
    "        dtiny = np.finfo(0.0).tiny\n",
    "        idx = lta < dtiny\n",
    "        lta[idx] = dtiny\n",
    "\n",
    "        return sta / lta\n",
    "\n",
    "    X_tr = pd.DataFrame(index=range(segments), dtype=np.float64)\n",
    "    y_tr = pd.DataFrame(index=range(segments), dtype=np.float64, columns=['time_to_failure'])\n",
    "\n",
    "    total_mean = train['acoustic_data'].mean()\n",
    "    total_std = train['acoustic_data'].std()\n",
    "    total_max = train['acoustic_data'].max()\n",
    "    total_min = train['acoustic_data'].min()\n",
    "    total_sum = train['acoustic_data'].sum()\n",
    "    total_abs_sum = np.abs(train['acoustic_data']).sum()\n",
    "\n",
    "    for segment in tqdm_notebook(range(segments)):\n",
    "        seg = train.iloc[segment*rows:segment*rows+rows]\n",
    "        x = pd.Series(seg['acoustic_data'].values)\n",
    "        y = seg['time_to_failure'].values[-1]\n",
    "\n",
    "        y_tr.loc[segment, 'time_to_failure'] = y\n",
    "        X_tr.loc[segment, 'mean'] = x.mean()\n",
    "        X_tr.loc[segment, 'std'] = x.std()\n",
    "        X_tr.loc[segment, 'max'] = x.max()\n",
    "        X_tr.loc[segment, 'min'] = x.min()\n",
    "\n",
    "\n",
    "        X_tr.loc[segment, 'mean_change_abs'] = np.mean(np.diff(x))\n",
    "        X_tr.loc[segment, 'mean_change_rate'] = np.mean(np.nonzero((np.diff(x) / x[:-1]))[0])\n",
    "        X_tr.loc[segment, 'abs_max'] = np.abs(x).max()\n",
    "        X_tr.loc[segment, 'abs_min'] = np.abs(x).min()\n",
    "\n",
    "        X_tr.loc[segment, 'std_first_50000'] = x[:50000].std()\n",
    "        X_tr.loc[segment, 'std_last_50000'] = x[-50000:].std()\n",
    "        X_tr.loc[segment, 'std_first_10000'] = x[:10000].std()\n",
    "        X_tr.loc[segment, 'std_last_10000'] = x[-10000:].std()\n",
    "\n",
    "        X_tr.loc[segment, 'avg_first_50000'] = x[:50000].mean()\n",
    "        X_tr.loc[segment, 'avg_last_50000'] = x[-50000:].mean()\n",
    "        X_tr.loc[segment, 'avg_first_10000'] = x[:10000].mean()\n",
    "        X_tr.loc[segment, 'avg_last_10000'] = x[-10000:].mean()\n",
    "\n",
    "        X_tr.loc[segment, 'min_first_50000'] = x[:50000].min()\n",
    "        X_tr.loc[segment, 'min_last_50000'] = x[-50000:].min()\n",
    "        X_tr.loc[segment, 'min_first_10000'] = x[:10000].min()\n",
    "        X_tr.loc[segment, 'min_last_10000'] = x[-10000:].min()\n",
    "\n",
    "        X_tr.loc[segment, 'max_first_50000'] = x[:50000].max()\n",
    "        X_tr.loc[segment, 'max_last_50000'] = x[-50000:].max()\n",
    "        X_tr.loc[segment, 'max_first_10000'] = x[:10000].max()\n",
    "        X_tr.loc[segment, 'max_last_10000'] = x[-10000:].max()\n",
    "\n",
    "        X_tr.loc[segment, 'max_to_min'] = x.max() / np.abs(x.min())\n",
    "        X_tr.loc[segment, 'max_to_min_diff'] = x.max() - np.abs(x.min())\n",
    "        X_tr.loc[segment, 'count_big'] = len(x[np.abs(x) > 500])\n",
    "        X_tr.loc[segment, 'sum'] = x.sum()\n",
    "\n",
    "        X_tr.loc[segment, 'mean_change_rate_first_50000'] = np.mean(np.nonzero((np.diff(x[:50000]) / x[:50000][:-1]))[0])\n",
    "        X_tr.loc[segment, 'mean_change_rate_last_50000'] = np.mean(np.nonzero((np.diff(x[-50000:]) / x[-50000:][:-1]))[0])\n",
    "        X_tr.loc[segment, 'mean_change_rate_first_10000'] = np.mean(np.nonzero((np.diff(x[:10000]) / x[:10000][:-1]))[0])\n",
    "        X_tr.loc[segment, 'mean_change_rate_last_10000'] = np.mean(np.nonzero((np.diff(x[-10000:]) / x[-10000:][:-1]))[0])\n",
    "\n",
    "        X_tr.loc[segment, 'q95'] = np.quantile(x, 0.95)\n",
    "        X_tr.loc[segment, 'q99'] = np.quantile(x, 0.99)\n",
    "        X_tr.loc[segment, 'q05'] = np.quantile(x, 0.05)\n",
    "        X_tr.loc[segment, 'q01'] = np.quantile(x, 0.01)\n",
    "\n",
    "        X_tr.loc[segment, 'abs_q95'] = np.quantile(np.abs(x), 0.95)\n",
    "        X_tr.loc[segment, 'abs_q99'] = np.quantile(np.abs(x), 0.99)\n",
    "        X_tr.loc[segment, 'abs_q05'] = np.quantile(np.abs(x), 0.05)\n",
    "        X_tr.loc[segment, 'abs_q01'] = np.quantile(np.abs(x), 0.01)\n",
    "\n",
    "        X_tr.loc[segment, 'trend'] = add_trend_feature(x)\n",
    "        X_tr.loc[segment, 'abs_trend'] = add_trend_feature(x, abs_values=True)\n",
    "        X_tr.loc[segment, 'abs_mean'] = np.abs(x).mean()\n",
    "        X_tr.loc[segment, 'abs_std'] = np.abs(x).std()\n",
    "\n",
    "        X_tr.loc[segment, 'mad'] = x.mad()\n",
    "        X_tr.loc[segment, 'kurt'] = x.kurtosis()\n",
    "        X_tr.loc[segment, 'skew'] = x.skew()\n",
    "        X_tr.loc[segment, 'med'] = x.median()\n",
    "\n",
    "        X_tr.loc[segment, 'Hilbert_mean'] = np.abs(hilbert(x)).mean()\n",
    "        X_tr.loc[segment, 'Hann_window_mean'] = (convolve(x, hann(150), mode='same') / sum(hann(150))).mean()\n",
    "        X_tr.loc[segment, 'classic_sta_lta1_mean'] = classic_sta_lta(x, 500, 10000).mean()\n",
    "        X_tr.loc[segment, 'classic_sta_lta2_mean'] = classic_sta_lta(x, 5000, 100000).mean()\n",
    "        X_tr.loc[segment, 'classic_sta_lta3_mean'] = classic_sta_lta(x, 3333, 6666).mean()\n",
    "        X_tr.loc[segment, 'classic_sta_lta4_mean'] = classic_sta_lta(x, 10000, 25000).mean()\n",
    "        X_tr.loc[segment, 'Moving_average_700_mean'] = x.rolling(window=700).mean().mean(skipna=True)\n",
    "        X_tr.loc[segment, 'Moving_average_1500_mean'] = x.rolling(window=1500).mean().mean(skipna=True)\n",
    "        X_tr.loc[segment, 'Moving_average_3000_mean'] = x.rolling(window=3000).mean().mean(skipna=True)\n",
    "        X_tr.loc[segment, 'Moving_average_6000_mean'] = x.rolling(window=6000).mean().mean(skipna=True)\n",
    "        ewma = pd.Series.ewm\n",
    "        X_tr.loc[segment, 'exp_Moving_average_300_mean'] = (ewma(x, span=300).mean()).mean(skipna=True)\n",
    "        X_tr.loc[segment, 'exp_Moving_average_3000_mean'] = ewma(x, span=3000).mean().mean(skipna=True)\n",
    "        X_tr.loc[segment, 'exp_Moving_average_30000_mean'] = ewma(x, span=6000).mean().mean(skipna=True)\n",
    "        no_of_std = 2\n",
    "        X_tr.loc[segment, 'MA_700MA_std_mean'] = x.rolling(window=700).std().mean()\n",
    "        X_tr.loc[segment,'MA_700MA_BB_high_mean'] = (X_tr.loc[segment, 'Moving_average_700_mean'] + no_of_std * X_tr.loc[segment, 'MA_700MA_std_mean']).mean()\n",
    "        X_tr.loc[segment,'MA_700MA_BB_low_mean'] = (X_tr.loc[segment, 'Moving_average_700_mean'] - no_of_std * X_tr.loc[segment, 'MA_700MA_std_mean']).mean()\n",
    "        X_tr.loc[segment, 'MA_400MA_std_mean'] = x.rolling(window=400).std().mean()\n",
    "        X_tr.loc[segment,'MA_400MA_BB_high_mean'] = (X_tr.loc[segment, 'Moving_average_700_mean'] + no_of_std * X_tr.loc[segment, 'MA_400MA_std_mean']).mean()\n",
    "        X_tr.loc[segment,'MA_400MA_BB_low_mean'] = (X_tr.loc[segment, 'Moving_average_700_mean'] - no_of_std * X_tr.loc[segment, 'MA_400MA_std_mean']).mean()\n",
    "        X_tr.loc[segment, 'MA_1000MA_std_mean'] = x.rolling(window=1000).std().mean()\n",
    "\n",
    "        X_tr.loc[segment, 'iqr'] = np.subtract(*np.percentile(x, [75, 25]))\n",
    "        X_tr.loc[segment, 'q999'] = np.quantile(x,0.999)\n",
    "        X_tr.loc[segment, 'q001'] = np.quantile(x,0.001)\n",
    "        X_tr.loc[segment, 'ave10'] = stats.trim_mean(x, 0.1)\n",
    "\n",
    "        for windows in [10, 100, 1000]:\n",
    "            x_roll_std = x.rolling(windows).std().dropna().values\n",
    "            x_roll_mean = x.rolling(windows).mean().dropna().values\n",
    "\n",
    "            X_tr.loc[segment, 'ave_roll_std_' + str(windows)] = x_roll_std.mean()\n",
    "            X_tr.loc[segment, 'std_roll_std_' + str(windows)] = x_roll_std.std()\n",
    "            X_tr.loc[segment, 'max_roll_std_' + str(windows)] = x_roll_std.max()\n",
    "            X_tr.loc[segment, 'min_roll_std_' + str(windows)] = x_roll_std.min()\n",
    "            X_tr.loc[segment, 'q01_roll_std_' + str(windows)] = np.quantile(x_roll_std, 0.01)\n",
    "            X_tr.loc[segment, 'q05_roll_std_' + str(windows)] = np.quantile(x_roll_std, 0.05)\n",
    "            X_tr.loc[segment, 'q95_roll_std_' + str(windows)] = np.quantile(x_roll_std, 0.95)\n",
    "            X_tr.loc[segment, 'q99_roll_std_' + str(windows)] = np.quantile(x_roll_std, 0.99)\n",
    "            X_tr.loc[segment, 'av_change_abs_roll_std_' + str(windows)] = np.mean(np.diff(x_roll_std))\n",
    "            X_tr.loc[segment, 'av_change_rate_roll_std_' + str(windows)] = np.mean(np.nonzero((np.diff(x_roll_std) / x_roll_std[:-1]))[0])\n",
    "            X_tr.loc[segment, 'abs_max_roll_std_' + str(windows)] = np.abs(x_roll_std).max()\n",
    "\n",
    "            X_tr.loc[segment, 'ave_roll_mean_' + str(windows)] = x_roll_mean.mean()\n",
    "            X_tr.loc[segment, 'std_roll_mean_' + str(windows)] = x_roll_mean.std()\n",
    "            X_tr.loc[segment, 'max_roll_mean_' + str(windows)] = x_roll_mean.max()\n",
    "            X_tr.loc[segment, 'min_roll_mean_' + str(windows)] = x_roll_mean.min()\n",
    "            X_tr.loc[segment, 'q01_roll_mean_' + str(windows)] = np.quantile(x_roll_mean, 0.01)\n",
    "            X_tr.loc[segment, 'q05_roll_mean_' + str(windows)] = np.quantile(x_roll_mean, 0.05)\n",
    "            X_tr.loc[segment, 'q95_roll_mean_' + str(windows)] = np.quantile(x_roll_mean, 0.95)\n",
    "            X_tr.loc[segment, 'q99_roll_mean_' + str(windows)] = np.quantile(x_roll_mean, 0.99)\n",
    "            X_tr.loc[segment, 'av_change_abs_roll_mean_' + str(windows)] = np.mean(np.diff(x_roll_mean))\n",
    "            X_tr.loc[segment, 'av_change_rate_roll_mean_' + str(windows)] = np.mean(np.nonzero((np.diff(x_roll_mean) / x_roll_mean[:-1]))[0])\n",
    "            X_tr.loc[segment, 'abs_max_roll_mean_' + str(windows)] = np.abs(x_roll_mean).max()\n",
    "\n",
    "    print(f'{X_tr.shape[0]} samples in new train data and {X_tr.shape[1]} columns.')\n",
    "\n",
    "    np.abs(X_tr.corrwith(y_tr['time_to_failure'])).sort_values(ascending=False).head(12)\n",
    "\n",
    "    plt.figure(figsize=(44, 24))\n",
    "    cols = list(np.abs(X_tr.corrwith(y_tr['time_to_failure'])).sort_values(ascending=False).head(24).index)\n",
    "    for i, col in enumerate(cols):\n",
    "        plt.subplot(6, 4, i + 1)\n",
    "        plt.plot(X_tr[col], color='blue')\n",
    "        plt.title(col)\n",
    "        ax1.set_ylabel(col, color='b')\n",
    "\n",
    "        ax2 = ax1.twinx()\n",
    "        plt.plot(y_tr, color='g')\n",
    "        ax2.set_ylabel('time_to_failure', color='g')\n",
    "        plt.legend([col, 'time_to_failure'], loc=(0.875, 0.9))\n",
    "        plt.grid(False)\n",
    "\n",
    "    scaler = StandardScaler()\n",
    "    scaler.fit(X_tr)\n",
    "    X_train_scaled = pd.DataFrame(scaler.transform(X_tr), columns=X_tr.columns)\n",
    "    \n",
    "    pkl.dump(X_train_scaled, open('../../work/automl/data/X_train_scaled.pkl','wb'))\n",
    "    pkl.dump(y_tr, open('../../work/automl/data/y_tr.pkl','wb'))\n",
    "    pkl.dump(scaler, open('../../work/automl/data/X_scaler.pkl','wb'))\n",
    "\n",
    "dx = X_train_scaled.values\n",
    "dy = y_tr.values\n",
    "dx_test = None#X_test_scaled.values\n",
    "\n",
    "dx.shape, dy.shape, #dx_test.shape"
   ]
  },
  {
   "cell_type": "code",
   "execution_count": null,
   "metadata": {},
   "outputs": [],
   "source": []
  },
  {
   "cell_type": "code",
   "execution_count": null,
   "metadata": {},
   "outputs": [],
   "source": []
  },
  {
   "cell_type": "code",
   "execution_count": 9,
   "metadata": {},
   "outputs": [
    {
     "data": {
      "text/plain": [
       "((891, 8), (891,))"
      ]
     },
     "execution_count": 9,
     "metadata": {},
     "output_type": "execute_result"
    }
   ],
   "source": [
    "dx.shape, dy.shape"
   ]
  },
  {
   "cell_type": "code",
   "execution_count": null,
   "metadata": {},
   "outputs": [],
   "source": []
  },
  {
   "cell_type": "raw",
   "metadata": {},
   "source": [
    "rf = np.arange(dx.shape[1])\n",
    "rf = rnd.sample(rf.tolist(), 16)\n",
    "dx = dx[:, rf]\n",
    "dx_test = dx_test[:, rf]"
   ]
  },
  {
   "cell_type": "code",
   "execution_count": null,
   "metadata": {},
   "outputs": [],
   "source": []
  },
  {
   "cell_type": "code",
   "execution_count": 10,
   "metadata": {},
   "outputs": [
    {
     "data": {
      "text/plain": [
       "((891, 8), (891,))"
      ]
     },
     "execution_count": 10,
     "metadata": {},
     "output_type": "execute_result"
    }
   ],
   "source": [
    "dx.shape, dy.shape"
   ]
  },
  {
   "cell_type": "code",
   "execution_count": null,
   "metadata": {},
   "outputs": [],
   "source": []
  },
  {
   "cell_type": "code",
   "execution_count": null,
   "metadata": {},
   "outputs": [],
   "source": []
  },
  {
   "cell_type": "code",
   "execution_count": null,
   "metadata": {},
   "outputs": [],
   "source": []
  },
  {
   "cell_type": "code",
   "execution_count": 11,
   "metadata": {},
   "outputs": [
    {
     "data": {
      "text/plain": [
       "5"
      ]
     },
     "execution_count": 11,
     "metadata": {},
     "output_type": "execute_result"
    }
   ],
   "source": [
    "# make submission\n",
    "mytest = dx_test_df.values\n",
    "\n",
    "p = pkl.load(open('predictions.pkl','rb'))\n",
    "len(p)\n",
    "\n",
    "p = (np.mean(p, axis=0))"
   ]
  },
  {
   "cell_type": "code",
   "execution_count": 12,
   "metadata": {},
   "outputs": [
    {
     "data": {
      "text/plain": [
       "(array([0. , 0. , 0. , 0. , 0.4, 0. , 0.4, 0. , 1. , 0. , 0. , 0. , 1. ,\n",
       "        0. , 1. , 1. , 0. , 0. , 0.4, 0.2, 0.4, 0. , 1. , 0.8, 1. , 0. ,\n",
       "        1. , 0. , 0.6, 0. , 0. , 0. , 0.6, 0.2, 0.8, 0. , 0.2, 0.2, 0. ,\n",
       "        0.2, 0. , 0.2, 0. , 1. , 1. , 0. , 0. , 0. , 1. , 1. , 0.2, 0. ,\n",
       "        1. , 1. , 0. , 0. , 0. , 0. , 0. , 1. , 0. , 0. , 0. , 1. , 0.8,\n",
       "        1. , 1. , 0. , 0.2, 1. , 1. , 0. , 0.6, 0.2, 1. , 0.8, 0. , 1. ,\n",
       "        0. , 1. , 0.8, 0.2, 0. , 0. , 0. , 0. , 1. , 0.8, 1. , 0.8, 0.2,\n",
       "        0. , 1. , 0. , 0.2, 0. , 1. , 0. , 1. , 0. , 1. , 0. , 0. , 0. ,\n",
       "        1. , 0. , 0. , 0. , 0. , 0. , 0. , 1. , 1. , 1. , 1. , 0. , 0. ,\n",
       "        1. , 0.8, 1. , 1. , 0. , 1. , 0. , 0. , 1. , 0. , 0.8, 0. , 0. ,\n",
       "        0. , 0. , 0.2, 0. , 0. , 0. , 0.2, 0. , 0.2, 0. , 0. , 1. , 0.2,\n",
       "        0. , 0.6, 0. , 0. , 0. , 0.2, 0. , 1. , 0. , 0. , 0.8, 0. , 0. ,\n",
       "        1. , 0.6, 0.6, 0.6, 1. , 0.8, 1. , 0. , 0. , 0. , 0. , 0. , 1. ,\n",
       "        0.2, 0. , 0.4, 0. , 0. , 0. , 1. , 1. , 0.4, 1. , 1. , 0. , 0.4,\n",
       "        1. , 0. , 1. , 0. , 1. , 0. , 0. , 0. , 0. , 0. , 0.2, 0. , 0.8,\n",
       "        0. , 1. , 1. , 0. , 0.2, 1. , 0.8, 0.2, 1. , 0. , 0.2, 0.2, 0. ,\n",
       "        1. , 0. , 0. , 0. , 0. , 1. , 0. , 0. , 1. , 0. , 1. , 0. , 1. ,\n",
       "        0. , 1. , 0. , 1. , 0.2, 0. , 1. , 0. , 0. , 0. , 1. , 0. , 0. ,\n",
       "        0.2, 0. , 0. , 0. , 1. , 1. , 1. , 1. , 0.2, 0. , 0. , 0. , 1. ,\n",
       "        0. , 1. , 0.2, 1. , 0. , 0.6, 0. , 0. , 0. , 0. , 0. , 1. , 0. ,\n",
       "        0. , 0. , 1. , 1. , 0. , 0. , 0. , 0. , 0.2, 0. , 0. , 0. , 1. ,\n",
       "        1. , 0. , 1. , 0. , 0. , 0. , 0. , 0.2, 0.8, 1. , 0.6, 1. , 0. ,\n",
       "        0. , 0.2, 0. , 0. , 0. , 0.4, 0. , 0. , 0. , 0. , 1. , 0. , 0. ,\n",
       "        0. , 0. , 0. , 0. , 0. , 1. , 1. , 0.6, 0.8, 0. , 0. , 0. , 0. ,\n",
       "        0. , 0.2, 1. , 1. , 0. , 0. , 0.2, 0. , 0. , 0. , 0. , 0.8, 1. ,\n",
       "        0. , 1. , 0. , 0. , 0. , 1. , 0.2, 0. , 0.8, 0. , 0. , 0.2, 0. ,\n",
       "        0. , 0. , 0. , 0. , 0. , 1. , 0.2, 1. , 0. , 0.2, 0. , 1. , 1. ,\n",
       "        0. , 0. , 0. , 1. , 0. , 1. , 0. , 0. , 0.2, 0. , 1. , 1. , 0. ,\n",
       "        1. , 0.2, 0. , 0.2, 1. , 0. , 0. , 1. , 0. , 0. , 1. , 1. , 0. ,\n",
       "        0. , 0. , 0. , 0. , 0. , 0.2, 0.8, 0. , 1. , 0. , 0. , 0. , 0. ,\n",
       "        0. , 1. , 0. , 0. , 0. , 1. , 0. , 1. , 0. , 0. , 1. , 0. , 1. ,\n",
       "        0. , 0. , 0. , 0. , 0.2, 1. , 1. , 1. , 1. , 0.4, 0. , 1. , 0. ,\n",
       "        0. , 0.6]), 143.8, 418, 0.3440191387559809)"
      ]
     },
     "execution_count": 12,
     "metadata": {},
     "output_type": "execute_result"
    }
   ],
   "source": [
    "p, sum(p), len(p), sum(p)/len(p)"
   ]
  },
  {
   "cell_type": "code",
   "execution_count": 13,
   "metadata": {},
   "outputs": [],
   "source": [
    "#p[p<5] = 0\n",
    "#p[p>11] = 0\n",
    "#p[p>0] = 1\n",
    "#p, sum(p), len(p), sum(p)/len(p)"
   ]
  },
  {
   "cell_type": "code",
   "execution_count": 14,
   "metadata": {},
   "outputs": [
    {
     "data": {
      "image/png": "[encoded data removed]",
      "text/plain": [
       "<Figure size 432x288 with 1 Axes>"
      ]
     },
     "metadata": {
      "needs_background": "light"
     },
     "output_type": "display_data"
    }
   ],
   "source": [
    "hist(p);"
   ]
  },
  {
   "cell_type": "code",
   "execution_count": null,
   "metadata": {},
   "outputs": [],
   "source": []
  },
  {
   "cell_type": "code",
   "execution_count": null,
   "metadata": {},
   "outputs": [],
   "source": []
  },
  {
   "cell_type": "code",
   "execution_count": 15,
   "metadata": {},
   "outputs": [
    {
     "data": {
      "text/plain": [
       "5"
      ]
     },
     "execution_count": 15,
     "metadata": {},
     "output_type": "execute_result"
    },
    {
     "data": {
      "text/plain": [
       "(array([0., 0., 0., 0., 2., 0., 2., 0., 5., 0., 0., 0., 5., 0., 5., 5., 0.,\n",
       "        0., 2., 1., 2., 0., 5., 4., 5., 0., 5., 0., 3., 0., 0., 0., 3., 1.,\n",
       "        4., 0., 1., 1., 0., 1., 0., 1., 0., 5., 5., 0., 0., 0., 5., 5., 1.,\n",
       "        0., 5., 5., 0., 0., 0., 0., 0., 5., 0., 0., 0., 5., 4., 5., 5., 0.,\n",
       "        1., 5., 5., 0., 3., 1., 5., 4., 0., 5., 0., 5., 4., 1., 0., 0., 0.,\n",
       "        0., 5., 4., 5., 4., 1., 0., 5., 0., 1., 0., 5., 0., 5., 0., 5., 0.,\n",
       "        0., 0., 5., 0., 0., 0., 0., 0., 0., 5., 5., 5., 5., 0., 0., 5., 4.,\n",
       "        5., 5., 0., 5., 0., 0., 5., 0., 4., 0., 0., 0., 0., 1., 0., 0., 0.,\n",
       "        1., 0., 1., 0., 0., 5., 1., 0., 3., 0., 0., 0., 1., 0., 5., 0., 0.,\n",
       "        4., 0., 0., 5., 3., 3., 3., 5., 4., 5., 0., 0., 0., 0., 0., 5., 1.,\n",
       "        0., 2., 0., 0., 0., 5., 5., 2., 5., 5., 0., 2., 5., 0., 5., 0., 5.,\n",
       "        0., 0., 0., 0., 0., 1., 0., 4., 0., 5., 5., 0., 1., 5., 4., 1., 5.,\n",
       "        0., 1., 1., 0., 5., 0., 0., 0., 0., 5., 0., 0., 5., 0., 5., 0., 5.,\n",
       "        0., 5., 0., 5., 1., 0., 5., 0., 0., 0., 5., 0., 0., 1., 0., 0., 0.,\n",
       "        5., 5., 5., 5., 1., 0., 0., 0., 5., 0., 5., 1., 5., 0., 3., 0., 0.,\n",
       "        0., 0., 0., 5., 0., 0., 0., 5., 5., 0., 0., 0., 0., 1., 0., 0., 0.,\n",
       "        5., 5., 0., 5., 0., 0., 0., 0., 1., 4., 5., 3., 5., 0., 0., 1., 0.,\n",
       "        0., 0., 2., 0., 0., 0., 0., 5., 0., 0., 0., 0., 0., 0., 0., 5., 5.,\n",
       "        3., 4., 0., 0., 0., 0., 0., 1., 5., 5., 0., 0., 1., 0., 0., 0., 0.,\n",
       "        4., 5., 0., 5., 0., 0., 0., 5., 1., 0., 4., 0., 0., 1., 0., 0., 0.,\n",
       "        0., 0., 0., 5., 1., 5., 0., 1., 0., 5., 5., 0., 0., 0., 5., 0., 5.,\n",
       "        0., 0., 1., 0., 5., 5., 0., 5., 1., 0., 1., 5., 0., 0., 5., 0., 0.,\n",
       "        5., 5., 0., 0., 0., 0., 0., 0., 1., 4., 0., 5., 0., 0., 0., 0., 0.,\n",
       "        5., 0., 0., 0., 5., 0., 5., 0., 0., 5., 0., 5., 0., 0., 0., 0., 1.,\n",
       "        5., 5., 5., 5., 2., 0., 5., 0., 0., 3.]),\n",
       " 719.0,\n",
       " 418,\n",
       " 1.7200956937799043)"
      ]
     },
     "execution_count": 15,
     "metadata": {},
     "output_type": "execute_result"
    }
   ],
   "source": [
    "p1 = pkl.load(open('predictions.pkl','rb'))\n",
    "len(p1)\n",
    "\n",
    "p1 = np.round(np.sum(p1, axis=0))\n",
    "p1, sum(p1), len(p1), sum(p1)/len(p1)"
   ]
  },
  {
   "cell_type": "code",
   "execution_count": 16,
   "metadata": {},
   "outputs": [
    {
     "data": {
      "image/png": "[encoded data removed]",
      "text/plain": [
       "<Figure size 432x288 with 1 Axes>"
      ]
     },
     "metadata": {
      "needs_background": "light"
     },
     "output_type": "display_data"
    }
   ],
   "source": [
    "hist(p1);"
   ]
  },
  {
   "cell_type": "code",
   "execution_count": null,
   "metadata": {},
   "outputs": [],
   "source": []
  },
  {
   "cell_type": "code",
   "execution_count": null,
   "metadata": {},
   "outputs": [],
   "source": []
  },
  {
   "cell_type": "code",
   "execution_count": 17,
   "metadata": {},
   "outputs": [],
   "source": [
    "testPredictions = array(p).reshape(-1)\n",
    "pdtest = pd.DataFrame({'PassengerId': dx_test_df.PassengerId.astype(int),\n",
    "                        'Survived': testPredictions.astype(int)})\n",
    "pdtest.to_csv('titanic_skneat_ensemble_1.csv', index=False)# make submission"
   ]
  },
  {
   "cell_type": "code",
   "execution_count": null,
   "metadata": {},
   "outputs": [],
   "source": []
  },
  {
   "cell_type": "raw",
   "metadata": {},
   "source": [
    "# make submission\n",
    "submission.time_to_failure = p\n",
    "submission.to_csv('earthquake_deepneat_submission.csv',index=True)\n",
    "submission.head()"
   ]
  },
  {
   "cell_type": "code",
   "execution_count": null,
   "metadata": {},
   "outputs": [],
   "source": []
  },
  {
   "cell_type": "code",
   "execution_count": null,
   "metadata": {},
   "outputs": [],
   "source": []
  },
  {
   "cell_type": "code",
   "execution_count": null,
   "metadata": {},
   "outputs": [],
   "source": []
  },
  {
   "cell_type": "code",
   "execution_count": null,
   "metadata": {},
   "outputs": [],
   "source": []
  },
  {
   "cell_type": "code",
   "execution_count": null,
   "metadata": {},
   "outputs": [],
   "source": []
  },
  {
   "cell_type": "code",
   "execution_count": null,
   "metadata": {},
   "outputs": [],
   "source": []
  },
  {
   "cell_type": "code",
   "execution_count": null,
   "metadata": {},
   "outputs": [],
   "source": []
  }
 ],
 "metadata": {
  "kernelspec": {
   "display_name": "Python 3",
   "language": "python",
   "name": "python3"
  },
  "language_info": {
   "codemirror_mode": {
    "name": "ipython",
    "version": 3
   },
   "file_extension": ".py",
   "mimetype": "text/x-python",
   "name": "python",
   "nbconvert_exporter": "python",
   "pygments_lexer": "ipython3",
   "version": "3.6.7"
  },
  "toc": {
   "base_numbering": 1,
   "nav_menu": {},
   "number_sections": true,
   "sideBar": true,
   "skip_h1_title": false,
   "title_cell": "Table of Contents",
   "title_sidebar": "Contents",
   "toc_cell": false,
   "toc_position": {
    "height": "calc(100% - 180px)",
    "left": "10px",
    "top": "150px",
    "width": "227.141px"
   },
   "toc_section_display": true,
   "toc_window_display": true
  }
 },
 "nbformat": 4,
 "nbformat_minor": 2
}
