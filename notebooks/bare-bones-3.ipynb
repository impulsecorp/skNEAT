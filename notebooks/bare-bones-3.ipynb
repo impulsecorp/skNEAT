{
 "cells": [
  {
   "cell_type": "code",
   "execution_count": 1,
   "metadata": {},
   "outputs": [
    {
     "name": "stdout",
     "output_type": "stream",
     "text": [
      "Populating the interactive namespace from numpy and matplotlib\n"
     ]
    },
    {
     "data": {
      "application/javascript": [
       "IPython.notebook.set_autosave_interval(20000)"
      ]
     },
     "metadata": {},
     "output_type": "display_data"
    },
    {
     "name": "stdout",
     "output_type": "stream",
     "text": [
      "Autosaving every 20 seconds\n"
     ]
    },
    {
     "name": "stderr",
     "output_type": "stream",
     "text": [
      "Using Theano backend.\n",
      "Using cuDNN version 7103 on context None\n",
      "Mapped name None to device cuda: GeForce GTX 1050 with Max-Q Design (0000:02:00.0)\n"
     ]
    },
    {
     "name": "stdout",
     "output_type": "stream",
     "text": [
      "vizdoom could not be imported\n",
      "Pixiedust database opened successfully\n"
     ]
    },
    {
     "data": {
      "text/html": [
       "\n",
       "        <div style=\"margin:10px\">\n",
       "            <a href=\"https://github.com/ibm-watson-data-lab/pixiedust\" target=\"_new\">\n",
       "                <img src=\"https://github.com/ibm-watson-data-lab/pixiedust/raw/master/docs/_static/pd_icon32.png\" style=\"float:left;margin-right:10px\"/>\n",
       "            </a>\n",
       "            <span>Pixiedust version 1.1.15</span>\n",
       "        </div>\n",
       "        "
      ],
      "text/plain": [
       "<IPython.core.display.HTML object>"
      ]
     },
     "metadata": {},
     "output_type": "display_data"
    }
   ],
   "source": [
    "%pylab inline\n",
    "%autosave 20\n",
    "import os\n",
    "os.environ['KERAS_BACKEND']='theano'\n",
    "import keras\n",
    "import sys\n",
    "sys.path.append('/home/peter')\n",
    "sys.path.append('/home/peter/code/projects/MultiNEAT')\n",
    "sys.path.append('/home/ubuntu')\n",
    "from universal import *\n",
    "sys.path.append('/home/peter/code/projects')\n",
    "sys.path.append('/home/peter/code/projects/deepneat')\n",
    "sys.path.append('/home/ubuntu')\n",
    "sys.path.append('/home/ubuntu/new/automl')\n",
    "from aidevutil import *\n",
    "from keras.utils.vis_utils import plot_model\n",
    "from tqdm import tqdm_notebook as tqdm\n",
    "from deepneat import *"
   ]
  },
  {
   "cell_type": "code",
   "execution_count": 2,
   "metadata": {},
   "outputs": [],
   "source": [
    "from dask import compute, delayed, persist\n",
    "from dask.distributed import Client, wait\n",
    "from dask.distributed import as_completed"
   ]
  },
  {
   "cell_type": "code",
   "execution_count": 3,
   "metadata": {},
   "outputs": [],
   "source": [
    "import ipywidgets as widgets"
   ]
  },
  {
   "cell_type": "code",
   "execution_count": null,
   "metadata": {},
   "outputs": [],
   "source": []
  },
  {
   "cell_type": "code",
   "execution_count": 4,
   "metadata": {},
   "outputs": [],
   "source": [
    "(x_train, y_train), (x_test, y_test) = get_mnist(size=(28,28), nrows=1000, nrows_test=1000)\n",
    "dx = x_train.reshape(x_train.shape[0], -1)\n",
    "dy = y_train.reshape(-1, 1)\n",
    "\n",
    "dx_test = x_test.reshape(x_test.shape[0], -1)"
   ]
  },
  {
   "cell_type": "code",
   "execution_count": null,
   "metadata": {},
   "outputs": [],
   "source": []
  },
  {
   "cell_type": "code",
   "execution_count": 5,
   "metadata": {},
   "outputs": [
    {
     "data": {
      "text/plain": [
       "((1000, 784), (1000, 1))"
      ]
     },
     "execution_count": 5,
     "metadata": {},
     "output_type": "execute_result"
    }
   ],
   "source": [
    "dx.shape, dy.shape"
   ]
  },
  {
   "cell_type": "code",
   "execution_count": null,
   "metadata": {},
   "outputs": [],
   "source": []
  },
  {
   "cell_type": "raw",
   "metadata": {},
   "source": [
    "rf = np.arange(dx.shape[1])\n",
    "rf = rnd.sample(rf.tolist(), 16)\n",
    "dx = dx[:, rf]\n",
    "dx_test = dx_test[:, rf]"
   ]
  },
  {
   "cell_type": "code",
   "execution_count": null,
   "metadata": {},
   "outputs": [],
   "source": []
  },
  {
   "cell_type": "code",
   "execution_count": 6,
   "metadata": {},
   "outputs": [
    {
     "data": {
      "text/plain": [
       "((1000, 784), (1000, 1))"
      ]
     },
     "execution_count": 6,
     "metadata": {},
     "output_type": "execute_result"
    }
   ],
   "source": [
    "dx.shape, dy.shape"
   ]
  },
  {
   "cell_type": "code",
   "execution_count": null,
   "metadata": {},
   "outputs": [],
   "source": []
  },
  {
   "cell_type": "code",
   "execution_count": 7,
   "metadata": {},
   "outputs": [],
   "source": [
    "###################\n",
    "# Prototype Nodes #\n",
    "###################\n",
    "#\n",
    "# Linear, PCA\n",
    "#\n",
    "# LogisticRegression\n",
    "#\n",
    "#"
   ]
  },
  {
   "cell_type": "code",
   "execution_count": 8,
   "metadata": {
    "code_folding": [
     0
    ],
    "run_control": {
     "marked": false
    }
   },
   "outputs": [],
   "source": [
    "# NEAT Parameters \n",
    "params = NEAT.Parameters()\n",
    "\n",
    "params.PopulationSize = 300\n",
    "params.DynamicCompatibility = True\n",
    "params.YoungAgeTreshold = 3\n",
    "params.SpeciesMaxStagnation = 10\n",
    "params.OldAgeTreshold = 10\n",
    "params.MinSpecies = 1\n",
    "params.MaxSpecies = 12\n",
    "params.RouletteWheelSelection = False\n",
    "params.ArchiveEnforcement = False\n",
    "params.InnovationsForever = True\n",
    "\n",
    "params.ConstraintTrials = 128\n",
    "\n",
    "params.MutateAddNeuronProb = 0.15/3\n",
    "params.MutateAddLinkProb = 0.5/3\n",
    "params.MutateRemLinkProb = 0.1/3\n",
    "params.RecurrentProb = 0.0\n",
    "params.MaxWeight = 1.0\n",
    "\n",
    "params.MutateWeightsProb = 0.0\n",
    "params.MutateActivationAProb = 0.0\n",
    "params.MutateActivationBProb = 0.0\n",
    "params.MutateNeuronTimeConstantsProb = 0.0\n",
    "params.MutateNeuronBiasesProb = 0.0\n",
    "\n",
    "params.MutateGenomeTraitsProb = 0.0\n",
    "params.MutateNeuronTraitsProb = 0.5\n",
    "params.MutateLinkTraitsProb = 0.0\n",
    "\n",
    "params.OverallMutationRate = 0.5\n",
    "params.CrossoverRate = 0.7\n",
    "params.MultipointCrossoverRate = 0.4\n",
    "params.SurvivalRate = 0.2\n",
    "params.InterspeciesCrossoverRate = 0.005\n",
    "params.PreferFitterParentRate = 0.5\n",
    "\n",
    "params.DontUseBiasNeuron = True\n",
    "params.AllowLoops = False\n",
    "params.AllowClones = True\n",
    "\n",
    "params.ExcessCoeff = 1.0\n",
    "params.DisjointCoeff = 1.0\n",
    "\n",
    "params.WeightDiffCoeff = 0.0\n",
    "params.TimeConstantDiffCoeff = 0.0\n",
    "params.BiasDiffCoeff = 0.0\n",
    "params.ActivationADiffCoeff = 0.0\n",
    "params.ActivationBDiffCoeff = 0.0\n",
    "params.NormalizeGenomeSize = True\n",
    "\n",
    "params.MinCompatTreshold = 0.0\n",
    "params.CompatTreshold = 1.25\n",
    "params.CompatTreshChangeInterval_Evaluations = 1\n",
    "params.CompatTresholdModifier = 0.002"
   ]
  },
  {
   "cell_type": "code",
   "execution_count": null,
   "metadata": {},
   "outputs": [],
   "source": []
  },
  {
   "cell_type": "code",
   "execution_count": 9,
   "metadata": {
    "code_folding": []
   },
   "outputs": [],
   "source": [
    "# This is the custom trait\n",
    "class BaseObject:\n",
    "    def __init__(self):\n",
    "        pass\n",
    "        \n",
    "    def mate(self, other):\n",
    "        baby = BaseObject()\n",
    "        return baby\n",
    "    \n",
    "    def mutate(self):\n",
    "        baby = BaseObject()\n",
    "        return baby\n",
    "    \n",
    "    def distance_to(self, other):\n",
    "        return rnd.uniform(0,1)\n",
    "    \n",
    "    def conc_inputs(self, mm, inputs):\n",
    "        if (mm=='concat') or (len(inputs)==1):\n",
    "            if len(inputs)==1:\n",
    "                return inputs\n",
    "            else:\n",
    "                return np.concatenate(inputs)\n",
    "        else:\n",
    "            if mm=='add':\n",
    "                return np.sum()\n",
    "    \n",
    "    # what every object has to do - transform x, possibily changing the number of columns\n",
    "    # if necessary, fit to data (note: undeterministic!)\n",
    "    def tick(self, x, y):\n",
    "        return np.array(x)"
   ]
  },
  {
   "cell_type": "code",
   "execution_count": 10,
   "metadata": {},
   "outputs": [],
   "source": [
    "class genePCA(BaseObject):\n",
    "    def __init__(self):\n",
    "        self.ndim = rnd.randint(2, 16)\n",
    "        self.pca = PCA(n_components=self.ndim)\n",
    "        \n",
    "    def __repr__(self):\n",
    "        return \"PCA(%d)\" % self.ndim\n",
    "    \n",
    "    def mate(self, other):\n",
    "        if isinstance(other, genePCA):\n",
    "            baby = genePCA()\n",
    "            baby.ndim = (self.ndim + other.ndim)//2\n",
    "            baby.pca = PCA(n_components=baby.ndim)\n",
    "            return baby\n",
    "        else:\n",
    "            return rnd.choice([self, other])\n",
    "    \n",
    "    def mutate(self):\n",
    "        baby = genePCA()\n",
    "        baby.ndim += rnd.randint(-3, 3)\n",
    "        baby.ndim = np.clip(baby.ndim, 2, 16)\n",
    "        baby.pca = PCA(n_components=baby.ndim)\n",
    "        return baby\n",
    "    \n",
    "    def distance_to(self, other):\n",
    "        if isinstance(other, genePCA):\n",
    "            return float(np.abs(self.ndim - other.ndim))\n",
    "        else:\n",
    "            return 100000.0\n",
    "    \n",
    "    def tick(self, x, y):\n",
    "        xt = self.pca.fit_transform(x)\n",
    "        return np.array(xt)\n",
    "        "
   ]
  },
  {
   "cell_type": "code",
   "execution_count": 11,
   "metadata": {},
   "outputs": [],
   "source": [
    "class geneLinear(BaseObject):\n",
    "    def __init__(self):\n",
    "        pass\n",
    "    \n",
    "    def __repr__(self):\n",
    "        return \"Linear\"\n",
    "    \n",
    "    def mate(self, other):\n",
    "        return self\n",
    "    \n",
    "    def mutate(self):\n",
    "        return self\n",
    "    \n",
    "    def distance_to(self, other):\n",
    "        return 0\n",
    "    \n",
    "    def tick(self, x, y):\n",
    "        return np.array(x)"
   ]
  },
  {
   "cell_type": "code",
   "execution_count": 12,
   "metadata": {
    "code_folding": []
   },
   "outputs": [],
   "source": [
    "from sklearn.linear_model import LogisticRegression\n",
    "\n",
    "class geneLogisticRegression(BaseObject):\n",
    "    def __init__(self):\n",
    "        self.clf = LogisticRegression()\n",
    "        \n",
    "    def __repr__(self):\n",
    "        return \"LogReg\"\n",
    "    \n",
    "    def mate(self, other):\n",
    "        return self\n",
    "    \n",
    "    def mutate(self):\n",
    "        return self\n",
    "    \n",
    "    def distance_to(self, other):\n",
    "        return 0\n",
    "    \n",
    "    def tick(self, x, y):\n",
    "        self.clf.fit(x, y)\n",
    "        return self.clf.predict(x)"
   ]
  },
  {
   "cell_type": "code",
   "execution_count": 13,
   "metadata": {},
   "outputs": [],
   "source": [
    "derived_list = [genePCA, geneLinear, geneLogisticRegression]\n",
    "probs = [1.0]*len(derived_list)"
   ]
  },
  {
   "cell_type": "code",
   "execution_count": null,
   "metadata": {},
   "outputs": [],
   "source": []
  },
  {
   "cell_type": "code",
   "execution_count": null,
   "metadata": {},
   "outputs": [],
   "source": []
  },
  {
   "cell_type": "code",
   "execution_count": null,
   "metadata": {},
   "outputs": [],
   "source": []
  },
  {
   "cell_type": "code",
   "execution_count": 14,
   "metadata": {
    "code_folding": []
   },
   "outputs": [],
   "source": [
    "# Set traits"
   ]
  },
  {
   "cell_type": "code",
   "execution_count": 15,
   "metadata": {
    "code_folding": []
   },
   "outputs": [],
   "source": [
    "# merge mode\n",
    "s = ['concat',\n",
    "    # when dimensions match, these can be done, otherwise it defaults to concat\n",
    "     'add','mul','avg','min','max',\n",
    "    ]\n",
    "p = [1.0] * len(s)\n",
    "mm = {'details': {'set': s, 'probs': p},\n",
    "      'importance_coeff': 0.0,\n",
    "      'mutation_prob': 0.3,\n",
    "      'type': 'str'}\n",
    "\n",
    "params.SetNeuronTraitParameters('mm', mm)"
   ]
  },
  {
   "cell_type": "code",
   "execution_count": 16,
   "metadata": {},
   "outputs": [],
   "source": [
    "node = {'details': (derived_list, probs),\n",
    "          'importance_coeff': 0.1,\n",
    "          'mutation_prob': 0.2,\n",
    "          'type': 'pyclassset'}\n",
    "\n",
    "params.SetNeuronTraitParameters('node', node)"
   ]
  },
  {
   "cell_type": "code",
   "execution_count": null,
   "metadata": {},
   "outputs": [],
   "source": []
  },
  {
   "cell_type": "code",
   "execution_count": 17,
   "metadata": {},
   "outputs": [],
   "source": [
    "num_inputs = 1\n",
    "num_outputs = 1"
   ]
  },
  {
   "cell_type": "code",
   "execution_count": 18,
   "metadata": {},
   "outputs": [],
   "source": [
    "num_input_dims = dx.shape[1]\n",
    "num_output_dims = 1"
   ]
  },
  {
   "cell_type": "code",
   "execution_count": null,
   "metadata": {},
   "outputs": [],
   "source": []
  },
  {
   "cell_type": "code",
   "execution_count": 19,
   "metadata": {
    "code_folding": []
   },
   "outputs": [],
   "source": [
    "g = NEAT.Genome(0, num_inputs, 1, num_outputs, 0, NEAT.ActivationFunction.RELU,\n",
    "                    NEAT.ActivationFunction.RELU, 0, params, 0, 1)"
   ]
  },
  {
   "cell_type": "code",
   "execution_count": 20,
   "metadata": {
    "code_folding": []
   },
   "outputs": [],
   "source": [
    "pop = NEAT.Population(g, params, True, 1.0, 0)\n",
    "pop.RNG.Seed(int(time.clock()*100))"
   ]
  },
  {
   "cell_type": "code",
   "execution_count": null,
   "metadata": {},
   "outputs": [],
   "source": []
  },
  {
   "cell_type": "code",
   "execution_count": null,
   "metadata": {},
   "outputs": [],
   "source": []
  },
  {
   "cell_type": "code",
   "execution_count": 21,
   "metadata": {},
   "outputs": [],
   "source": [
    "gr = NEAT.Genome2NX(pop.Species[0].Individuals[1])"
   ]
  },
  {
   "cell_type": "code",
   "execution_count": 22,
   "metadata": {},
   "outputs": [
    {
     "data": {
      "text/plain": [
       "[(1, {}), (2, {'mm': 'avg', 'node': LogReg})]"
      ]
     },
     "execution_count": 22,
     "metadata": {},
     "output_type": "execute_result"
    }
   ],
   "source": [
    "gr.nodes(data=1)"
   ]
  },
  {
   "cell_type": "code",
   "execution_count": null,
   "metadata": {},
   "outputs": [],
   "source": []
  },
  {
   "cell_type": "code",
   "execution_count": 23,
   "metadata": {
    "code_folding": [
     29
    ],
    "run_control": {
     "marked": false
    }
   },
   "outputs": [],
   "source": [
    "def activate_graph(gr, inputs, targets, num_outputs=1):\n",
    "    allnodes = list(nx.dfs_postorder_nodes(gr))[::-1]\n",
    "    for a in allnodes: gr.node[a]['act'] = None\n",
    "    \n",
    "    # separate input from non-input nodes\n",
    "    #onlyinputs = sorted([x for x in allnodes if x <= num_inputs], reverse=True)\n",
    "    allnodes = [x for x in allnodes if x > num_inputs]\n",
    "    \n",
    "    # input the data\n",
    "    for i,inp in zip(range(1, num_inputs+1), inputs): \n",
    "        gr.node[i]['act'] = inp\n",
    "        \n",
    "    # pass through the graph\n",
    "    for an in allnodes:\n",
    "        #print(gr.node[a], end=' ')\n",
    "        mm = gr.node[an]['mm']\n",
    "        \n",
    "        # collect the inputs to this node\n",
    "        \n",
    "        # also sort the incoming edges by id for consistency\n",
    "        inedg = list(gr.in_edges(an))\n",
    "        #inedg = sorted(inedg, key = lambda x: x[0])\n",
    "        inps = [gr.node[i]['act'] for i,o in inedg]\n",
    "        \n",
    "        if 1: # todo: if mm == ... : \n",
    "            if len(inps)>1:\n",
    "                iii = np.concatenate(inps, axis=1)\n",
    "            else:\n",
    "                if isinstance(inps, list):\n",
    "                    iii = inps[0]\n",
    "                else:\n",
    "                    iii = inps\n",
    "            act = gr.node[an]['node'].tick(iii, targets)\n",
    "        \n",
    "        # store activation\n",
    "        gr.node[an]['act'] = act \n",
    "        \n",
    "    #print('act:', act)\n",
    "    outputs = [gr.node[o]['act'] for o in allnodes[-num_outputs:]]\n",
    "    return np.array(outputs)"
   ]
  },
  {
   "cell_type": "code",
   "execution_count": null,
   "metadata": {},
   "outputs": [],
   "source": []
  },
  {
   "cell_type": "code",
   "execution_count": 24,
   "metadata": {},
   "outputs": [
    {
     "name": "stderr",
     "output_type": "stream",
     "text": [
      "/usr/local/lib/python3.6/dist-packages/sklearn/utils/validation.py:761: DataConversionWarning: A column-vector y was passed when a 1d array was expected. Please change the shape of y to (n_samples, ), for example using ravel().\n",
      "  y = column_or_1d(y, warn=True)\n"
     ]
    },
    {
     "data": {
      "text/plain": [
       "array([5, 0, 4, 1, 9, 2, 1, 3, 1, 4, 3, 5, 3, 6, 1, 7, 2, 8, 6, 9, 4, 0,\n",
       "       9, 1, 1, 2, 4, 3, 2, 7, 3, 8, 6, 9, 0, 5, 6, 0, 7, 6, 1, 8, 7, 9,\n",
       "       3, 9, 8, 5, 9, 3, 3, 0, 7, 4, 9, 8, 0, 9, 4, 1, 4, 4, 6, 0, 4, 5,\n",
       "       6, 1, 0, 0, 1, 7, 1, 6, 3, 0, 2, 1, 1, 7, 9, 0, 2, 6, 7, 8, 3, 9,\n",
       "       0, 4, 6, 7, 4, 6, 8, 0, 7, 8, 3, 1, 5, 7, 1, 7, 1, 1, 6, 3, 0, 2,\n",
       "       9, 3, 1, 1, 0, 4, 9, 2, 0, 0, 2, 0, 2, 7, 1, 8, 6, 4, 1, 6, 3, 4,\n",
       "       5, 9, 1, 3, 3, 8, 5, 4, 7, 7, 4, 2, 8, 5, 8, 6, 7, 3, 4, 6, 1, 9,\n",
       "       9, 6, 0, 3, 7, 2, 8, 2, 9, 4, 4, 6, 4, 9, 7, 0, 9, 2, 9, 5, 1, 5,\n",
       "       9, 1, 2, 3, 2, 3, 5, 9, 1, 7, 6, 2, 8, 2, 2, 5, 0, 7, 4, 9, 7, 8,\n",
       "       3, 2, 1, 1, 8, 3, 6, 1, 0, 3, 1, 0, 0, 1, 7, 2, 7, 3, 0, 4, 6, 5,\n",
       "       2, 6, 4, 7, 1, 8, 9, 9, 3, 0, 7, 1, 0, 2, 0, 3, 5, 4, 6, 5, 8, 6,\n",
       "       3, 7, 5, 8, 0, 9, 1, 0, 3, 1, 2, 2, 3, 3, 6, 4, 7, 5, 0, 6, 2, 7,\n",
       "       9, 8, 5, 9, 2, 1, 1, 4, 4, 5, 6, 4, 1, 2, 5, 3, 9, 3, 9, 0, 5, 9,\n",
       "       6, 5, 7, 4, 1, 3, 4, 0, 4, 8, 0, 4, 3, 6, 8, 7, 6, 0, 9, 7, 5, 7,\n",
       "       2, 1, 1, 6, 8, 9, 4, 1, 5, 2, 2, 9, 0, 3, 9, 6, 7, 2, 0, 3, 5, 4,\n",
       "       3, 6, 5, 8, 9, 5, 4, 7, 4, 2, 7, 3, 4, 8, 9, 1, 9, 2, 8, 7, 9, 1,\n",
       "       8, 7, 4, 1, 3, 1, 1, 0, 2, 3, 9, 4, 9, 2, 1, 6, 8, 4, 7, 7, 4, 4,\n",
       "       9, 2, 5, 7, 2, 4, 4, 2, 1, 9, 7, 2, 8, 7, 6, 9, 2, 2, 3, 8, 1, 6,\n",
       "       5, 1, 1, 0, 2, 6, 4, 5, 8, 3, 1, 5, 1, 9, 2, 7, 4, 4, 4, 8, 1, 5,\n",
       "       8, 9, 9, 6, 7, 9, 9, 3, 7, 0, 9, 0, 6, 6, 2, 3, 9, 0, 7, 5, 4, 8,\n",
       "       0, 9, 4, 1, 2, 8, 7, 1, 2, 6, 1, 0, 3, 0, 1, 1, 8, 2, 0, 3, 9, 4,\n",
       "       0, 5, 0, 6, 1, 7, 7, 8, 1, 9, 2, 0, 5, 1, 2, 2, 7, 3, 5, 4, 9, 7,\n",
       "       1, 8, 3, 9, 6, 0, 3, 1, 1, 2, 6, 3, 5, 7, 6, 8, 3, 9, 5, 8, 5, 7,\n",
       "       6, 1, 1, 3, 1, 7, 5, 5, 5, 2, 5, 8, 7, 0, 9, 7, 7, 5, 0, 9, 0, 0,\n",
       "       8, 9, 2, 4, 8, 1, 6, 1, 6, 5, 1, 8, 3, 4, 0, 5, 5, 8, 3, 6, 2, 3,\n",
       "       9, 2, 1, 1, 5, 2, 1, 3, 2, 8, 7, 3, 7, 2, 4, 6, 9, 7, 2, 4, 2, 8,\n",
       "       1, 1, 3, 8, 4, 0, 6, 5, 9, 3, 0, 9, 2, 4, 7, 1, 2, 9, 4, 2, 6, 1,\n",
       "       8, 9, 0, 6, 6, 7, 9, 9, 8, 0, 1, 4, 4, 6, 7, 1, 5, 7, 0, 3, 5, 8,\n",
       "       4, 7, 1, 2, 5, 9, 5, 6, 7, 5, 9, 8, 8, 3, 6, 9, 7, 0, 7, 5, 7, 1,\n",
       "       1, 0, 7, 9, 2, 3, 7, 3, 2, 4, 1, 6, 2, 7, 5, 5, 7, 4, 0, 2, 6, 3,\n",
       "       6, 4, 0, 4, 2, 6, 0, 0, 0, 0, 3, 1, 6, 2, 2, 3, 1, 4, 1, 5, 4, 6,\n",
       "       4, 7, 2, 8, 7, 9, 2, 0, 5, 1, 4, 2, 8, 3, 2, 4, 1, 5, 4, 6, 0, 7,\n",
       "       9, 8, 4, 9, 8, 0, 1, 1, 0, 2, 2, 3, 2, 4, 4, 5, 8, 6, 5, 7, 7, 8,\n",
       "       8, 9, 7, 4, 7, 3, 2, 0, 8, 6, 8, 6, 1, 6, 8, 9, 4, 0, 9, 0, 4, 1,\n",
       "       5, 4, 7, 5, 3, 7, 4, 9, 8, 5, 8, 6, 3, 8, 6, 9, 9, 1, 8, 3, 5, 8,\n",
       "       6, 5, 9, 7, 2, 5, 0, 8, 5, 1, 1, 0, 9, 1, 8, 6, 7, 0, 9, 3, 0, 8,\n",
       "       8, 9, 6, 7, 8, 4, 7, 5, 9, 2, 6, 7, 4, 5, 9, 2, 3, 1, 6, 3, 9, 2,\n",
       "       2, 5, 6, 8, 0, 7, 7, 1, 9, 8, 7, 0, 9, 9, 4, 6, 2, 8, 5, 1, 4, 1,\n",
       "       5, 5, 1, 7, 3, 6, 4, 3, 2, 5, 6, 4, 4, 0, 4, 4, 6, 7, 2, 4, 3, 3,\n",
       "       8, 0, 0, 3, 2, 2, 9, 8, 2, 3, 7, 0, 1, 1, 0, 2, 3, 3, 8, 4, 3, 5,\n",
       "       7, 6, 4, 7, 7, 8, 5, 9, 7, 0, 3, 1, 6, 2, 4, 3, 4, 4, 7, 5, 9, 6,\n",
       "       0, 0, 7, 1, 4, 2, 7, 3, 6, 7, 5, 8, 4, 5, 5, 2, 7, 1, 1, 5, 6, 8,\n",
       "       5, 8, 4, 0, 7, 9, 9, 2, 9, 7, 7, 8, 7, 4, 2, 6, 9, 1, 7, 0, 6, 4,\n",
       "       2, 5, 7, 0, 7, 1, 0, 3, 7, 6, 5, 0, 6, 1, 5, 1, 7, 8, 5, 0, 3, 4,\n",
       "       7, 7, 5, 7, 8, 6, 9, 3, 8, 6, 1, 0, 9, 7, 1, 3, 0, 5, 6, 4, 4, 2,\n",
       "       4, 4, 3, 1, 7, 7, 6, 0, 3, 6], dtype=uint8)"
      ]
     },
     "execution_count": 24,
     "metadata": {},
     "output_type": "execute_result"
    }
   ],
   "source": [
    "a = activate_graph(gr, [dx], dy)[0]\n",
    "a"
   ]
  },
  {
   "cell_type": "code",
   "execution_count": null,
   "metadata": {},
   "outputs": [],
   "source": []
  },
  {
   "cell_type": "code",
   "execution_count": null,
   "metadata": {},
   "outputs": [],
   "source": []
  },
  {
   "cell_type": "code",
   "execution_count": null,
   "metadata": {},
   "outputs": [],
   "source": []
  },
  {
   "cell_type": "code",
   "execution_count": 25,
   "metadata": {
    "code_folding": []
   },
   "outputs": [],
   "source": [
    "# evaluation function\n",
    "\n",
    "def evaluate(args):\n",
    "    idx, gr, dx, dy = args\n",
    "    \n",
    "    print(args)\n",
    "    f = rnd.uniform(0,1)\n",
    "    \n",
    "    return idx, f\n",
    "\n",
    "def decide(x):\n",
    "    return 100000000.0-x"
   ]
  },
  {
   "cell_type": "code",
   "execution_count": null,
   "metadata": {},
   "outputs": [],
   "source": []
  },
  {
   "cell_type": "raw",
   "metadata": {
    "scrolled": true
   },
   "source": []
  },
  {
   "cell_type": "code",
   "execution_count": 26,
   "metadata": {},
   "outputs": [],
   "source": [
    "if socket.gethostname() == 'laptop':\n",
    "    cluster='192.168.0.108:8786'\n",
    "elif socket.gethostname() == 'desktop':\n",
    "    clsuter='192.168.0.108:8786'\n",
    "else:\n",
    "    cluster='172.31.43.76:8786'"
   ]
  },
  {
   "cell_type": "code",
   "execution_count": 27,
   "metadata": {},
   "outputs": [
    {
     "name": "stdout",
     "output_type": "stream",
     "text": [
      "Connecting..\n",
      "Scattering data to cluster..\n",
      "done in 0.07833504676818848 seconds\n"
     ]
    }
   ],
   "source": [
    "import time\n",
    "st = time.time()\n",
    "print('Connecting..')\n",
    "if cluster:\n",
    "    client = Client(cluster)\n",
    "else:\n",
    "    client = Client()\n",
    "# push the data to the cluster\n",
    "print('Scattering data to cluster..')\n",
    "debugxy=1\n",
    "if not debugxy:\n",
    "    fx = client.scatter(dx, broadcast=True, direct=True)\n",
    "    fy = client.scatter(dy, broadcast=True, direct=True)\n",
    "else:\n",
    "    fx, fy = None, None\n",
    "print(f'done in {time.time()-st} seconds')"
   ]
  },
  {
   "cell_type": "code",
   "execution_count": null,
   "metadata": {},
   "outputs": [],
   "source": []
  },
  {
   "cell_type": "code",
   "execution_count": 28,
   "metadata": {},
   "outputs": [],
   "source": [
    "#evaluate((0, NEAT.Genome2NX(pop.Species[0].Individuals[2]), dx, dy))"
   ]
  },
  {
   "cell_type": "code",
   "execution_count": null,
   "metadata": {},
   "outputs": [],
   "source": []
  },
  {
   "cell_type": "code",
   "execution_count": null,
   "metadata": {},
   "outputs": [],
   "source": []
  },
  {
   "cell_type": "raw",
   "metadata": {
    "scrolled": true
   },
   "source": []
  },
  {
   "cell_type": "code",
   "execution_count": 29,
   "metadata": {},
   "outputs": [],
   "source": [
    "display_whole_pop = 0\n",
    "display_max_species = 8\n",
    "initeval = 0\n",
    "evaluations = 10000\n",
    "display_pop_each = 80000\n",
    "once = False\n",
    "x_shape, ys = dx.shape[1], 1\n",
    "population = params.PopulationSize\n",
    "\n",
    "penalize_stangation = 1\n",
    "penalize_stagnation_evals = 2400\n",
    "\n",
    "evhist = []\n",
    "best_ever = 0\n",
    "best_gs = []"
   ]
  },
  {
   "cell_type": "code",
   "execution_count": 30,
   "metadata": {},
   "outputs": [],
   "source": [
    "def poplen(pop):\n",
    "    return sum([len(x.Individuals) for x in pop.Species])"
   ]
  },
  {
   "cell_type": "code",
   "execution_count": 31,
   "metadata": {
    "code_folding": []
   },
   "outputs": [],
   "source": [
    "def prettydict(d, nonl=False):\n",
    "    i,t,di = d\n",
    "    if not nonl:\n",
    "        ks = '%d - %s: ' % (i, t)\n",
    "    else:\n",
    "        return '%d - %s' % (i, t)\n",
    "    s = []\n",
    "    for k,v in sorted(list(di.items())):\n",
    "        if isinstance(v, float):\n",
    "            s.append( '%s %3.3f' % (k[0:1], v) )\n",
    "        else:\n",
    "            s.append( '%s %s' % (k[0:1], v) )\n",
    "    return ks + ', '.join(s)"
   ]
  },
  {
   "cell_type": "code",
   "execution_count": 32,
   "metadata": {
    "code_folding": []
   },
   "outputs": [],
   "source": [
    "def species_display(pop):\n",
    "    genomes = [x.GetLeader() for x in pop.Species][0:display_max_species]\n",
    "    f, axes = plt.subplots(1, len(genomes), figsize=(len(genomes) * 4.5, 14))\n",
    "    print('Species Representatives:')\n",
    "    if len(genomes)>1:\n",
    "        for i,(ax, g) in enumerate(zip(axes, genomes)):\n",
    "            try:\n",
    "                img = NEAT.viz.Draw(g, size=(300, 400))[:, 0:230]\n",
    "                ax.imshow(img)\n",
    "                ax.set_title('%3.6f | %3.2f%%' % (decide(g.GetFitness()),\n",
    "                                                  (len(pop.Species[i].Individuals)/poplen(pop))*100 ))\n",
    "                s = '\\n'.join([prettydict(x) for x in g.GetNeuronTraits() if x[1] != 'input'][0:8])\n",
    "                s += '\\n=============\\n'\n",
    "                s += '\\n'.join([prettydict(x, nonl=True) for x in g.GetLinkTraits(False)][0:8])\n",
    "                ax.set_xlabel(s)\n",
    "            except Exception as ex:\n",
    "                print(ex)\n",
    "    else:\n",
    "        try:\n",
    "            g = pop.GetBestGenome()\n",
    "            img = NEAT.viz.Draw(g, size=(300, 400))[:, 0:230]\n",
    "            axes.imshow(img)\n",
    "            axes.set_title('%3.6f' % (decide(g.GetFitness())))\n",
    "            s = '\\n'.join([prettydict(x) for x in g.GetNeuronTraits() if x[1] != 'input'][0:8])\n",
    "            s += '\\n=============\\n'\n",
    "            s += '\\n'.join([prettydict(x, nonl=True) for x in g.GetLinkTraits(False)][0:8])\n",
    "            axes.set_xlabel(s)\n",
    "        except Exception as ex:\n",
    "            print(ex)\n",
    "    f.tight_layout()\n",
    "    plt.show()"
   ]
  },
  {
   "cell_type": "code",
   "execution_count": null,
   "metadata": {},
   "outputs": [],
   "source": []
  },
  {
   "cell_type": "code",
   "execution_count": null,
   "metadata": {},
   "outputs": [],
   "source": []
  },
  {
   "cell_type": "code",
   "execution_count": null,
   "metadata": {},
   "outputs": [],
   "source": []
  },
  {
   "cell_type": "code",
   "execution_count": 33,
   "metadata": {
    "code_folding": [],
    "scrolled": false
   },
   "outputs": [
    {
     "name": "stdout",
     "output_type": "stream",
     "text": [
      "NEW RECORD!\n",
      "Evaluations: 0 Fitness: 99999999.99900301 Species: 3\n",
      "-------- nodes -------- \n",
      "[2, 'output', {'mm': 'avg', 'node': LogReg}]\n",
      "-------- links -------- \n",
      "[1, 2, {}, -4.959432171890512]\n",
      "----------------------- \n",
      "Species Representatives:\n"
     ]
    },
    {
     "data": {
      "image/png": "[encoded data removed]",
      "text/plain": [
       "<Figure size 972x1008 with 3 Axes>"
      ]
     },
     "metadata": {
      "needs_background": "light"
     },
     "output_type": "display_data"
    },
    {
     "name": "stdout",
     "output_type": "stream",
     "text": [
      "============================================================\n",
      "rtNEAT phase\n",
      "============================================================\n",
      "NEW RECORD!\n",
      "Evaluations: 1 Fitness: 99999999.97987166\n",
      "-------- nodes -------- \n",
      "[2, 'output', {'mm': 'max', 'node': LogReg}]\n",
      "-------- links -------- \n",
      "[1, 2, {}, -3.0606784792616963]\n",
      "----------------------- \n",
      "Species Representatives:\n"
     ]
    },
    {
     "data": {
      "image/png": "[encoded data removed]",
      "text/plain": [
       "<Figure size 972x1008 with 3 Axes>"
      ]
     },
     "metadata": {
      "needs_background": "light"
     },
     "output_type": "display_data"
    },
    {
     "name": "stderr",
     "output_type": "stream",
     "text": [
      "\r",
      "                                                                               \r",
      "\r",
      "Evaluated: 0 CTresh: 1.250 Species: 3 Last fitness: 99999999.980 Variance (min/max/mean/std): [] (Elapsed Time: 0:00:00) /  0.0 s/individuals"
     ]
    },
    {
     "name": "stdout",
     "output_type": "stream",
     "text": [
      "NEW RECORD!\n",
      "Evaluations: 2 Fitness: 99999999.90617512\n",
      "-------- nodes -------- \n",
      "[2, 'output', {'mm': 'avg', 'node': LogReg}]\n",
      "-------- links -------- \n",
      "[1, 2, {}, -3.7010139951016754]\n",
      "----------------------- \n",
      "Species Representatives:\n"
     ]
    },
    {
     "data": {
      "image/png": "[encoded data removed]",
      "text/plain": [
       "<Figure size 972x1008 with 3 Axes>"
      ]
     },
     "metadata": {
      "needs_background": "light"
     },
     "output_type": "display_data"
    },
    {
     "name": "stderr",
     "output_type": "stream",
     "text": [
      "\r",
      "                                                                               \r",
      "\r",
      "Evaluated: 2 CTresh: 1.250 Species: 3 Last fitness: 99999999.906 Variance (min/max/mean/std): [] (Elapsed Time: 0:00:00) -  4.1 individuals/s"
     ]
    },
    {
     "name": "stdout",
     "output_type": "stream",
     "text": [
      "NEW RECORD!\n",
      "Evaluations: 3 Fitness: 99999999.48261222\n",
      "-------- nodes -------- \n",
      "[2, 'output', {'mm': 'min', 'node': Linear}]\n",
      "-------- links -------- \n",
      "[1, 2, {}, -0.16989069269038737]\n",
      "----------------------- \n",
      "Species Representatives:\n"
     ]
    },
    {
     "data": {
      "image/png": "[encoded data removed]",
      "text/plain": [
       "<Figure size 972x1008 with 3 Axes>"
      ]
     },
     "metadata": {
      "needs_background": "light"
     },
     "output_type": "display_data"
    },
    {
     "name": "stderr",
     "output_type": "stream",
     "text": [
      "\r",
      "                                                                               \r",
      "\r",
      "Evaluated: 3 CTresh: 1.250 Species: 3 Last fitness: 99999999.483 Variance (min/max/mean/std): [] (Elapsed Time: 0:00:01) \\  3.0 individuals/s"
     ]
    },
    {
     "name": "stdout",
     "output_type": "stream",
     "text": [
      "NEW RECORD!\n",
      "Evaluations: 5 Fitness: 99999999.0362372\n",
      "-------- nodes -------- \n",
      "[2, 'output', {'mm': 'avg', 'node': LogReg}]\n",
      "-------- links -------- \n",
      "[1, 2, {}, 0.49373267753981054]\n",
      "----------------------- \n",
      "Species Representatives:\n"
     ]
    },
    {
     "data": {
      "image/png": "[encoded data removed]",
      "text/plain": [
       "<Figure size 972x1008 with 3 Axes>"
      ]
     },
     "metadata": {
      "needs_background": "light"
     },
     "output_type": "display_data"
    },
    {
     "name": "stderr",
     "output_type": "stream",
     "text": [
      "Evaluated: 25 CTresh: 1.250 Species: 3 Last fitness: 99999999.877 Variance (min/max/mean/std): [] (Elapsed Time: 0:00:01) \\ 13.0 individuals/s"
     ]
    },
    {
     "name": "stdout",
     "output_type": "stream",
     "text": [
      "NEW RECORD!\n",
      "Evaluations: 27 Fitness: 99999999.03188956\n",
      "-------- nodes -------- \n",
      "[2, 'output', {'mm': 'avg', 'node': LogReg}]\n",
      "-------- links -------- \n",
      "[1, 2, {}, -0.9471682903822511]\n",
      "----------------------- \n",
      "Species Representatives:\n"
     ]
    },
    {
     "data": {
      "image/png": "[encoded data removed]",
      "text/plain": [
       "<Figure size 972x1008 with 3 Axes>"
      ]
     },
     "metadata": {
      "needs_background": "light"
     },
     "output_type": "display_data"
    },
    {
     "name": "stderr",
     "output_type": "stream",
     "text": [
      "Evaluated: 55 CTresh: 1.250 Species: 3 Last fitness: 99999999.370 Variance (min/max/mean/std): [] (Elapsed Time: 0:00:02) | 19.1 individuals/s"
     ]
    },
    {
     "name": "stdout",
     "output_type": "stream",
     "text": [
      "NEW RECORD!\n",
      "Evaluations: 61 Fitness: 99999999.02040873\n",
      "-------- nodes -------- \n",
      "[2, 'output', {'mm': 'avg', 'node': LogReg}]\n",
      "-------- links -------- \n",
      "[1, 2, {}, -7.613682259107009]\n",
      "----------------------- \n",
      "Species Representatives:\n"
     ]
    },
    {
     "data": {
      "image/png": "[encoded data removed]",
      "text/plain": [
       "<Figure size 972x1008 with 3 Axes>"
      ]
     },
     "metadata": {
      "needs_background": "light"
     },
     "output_type": "display_data"
    },
    {
     "name": "stderr",
     "output_type": "stream",
     "text": [
      "Evaluated: 83 CTresh: 1.250 Species: 3 Last fitness: 99999999.326 Variance (min/max/mean/std): [] (Elapsed Time: 0:00:03) - 20.9 individuals/s"
     ]
    },
    {
     "name": "stdout",
     "output_type": "stream",
     "text": [
      "NEW RECORD!\n",
      "Evaluations: 87 Fitness: 99999999.01372942\n",
      "-------- nodes -------- \n",
      "[2, 'output', {'mm': 'min', 'node': LogReg}]\n",
      "-------- links -------- \n",
      "[1, 2, {}, 0.7908576061017811]\n",
      "----------------------- \n",
      "Species Representatives:\n"
     ]
    },
    {
     "data": {
      "image/png": "[encoded data removed]",
      "text/plain": [
       "<Figure size 972x1008 with 3 Axes>"
      ]
     },
     "metadata": {
      "needs_background": "light"
     },
     "output_type": "display_data"
    },
    {
     "name": "stderr",
     "output_type": "stream",
     "text": [
      "Evaluated: 103 CTresh: 1.250 Species: 3 Last fitness: 99999999.579 Variance (min/max/mean/std): [] (Elapsed Time: 0:00:04) - 21.4 individuals/s"
     ]
    },
    {
     "name": "stdout",
     "output_type": "stream",
     "text": [
      "NEW RECORD!\n",
      "Evaluations: 108 Fitness: 99999999.0090679\n",
      "-------- nodes -------- \n",
      "[2, 'output', {'mm': 'avg', 'node': LogReg}]\n",
      "-------- links -------- \n",
      "[1, 2, {}, -5.967720391694456]\n",
      "----------------------- \n",
      "Species Representatives:\n"
     ]
    },
    {
     "data": {
      "image/png": "[encoded data removed]",
      "text/plain": [
       "<Figure size 972x1008 with 3 Axes>"
      ]
     },
     "metadata": {
      "needs_background": "light"
     },
     "output_type": "display_data"
    },
    {
     "name": "stderr",
     "output_type": "stream",
     "text": [
      "Evaluated: 189 CTresh: 1.250 Species: 3 Last fitness: 99999999.683 Variance (min/max/mean/std): [] (Elapsed Time: 0:00:06) | 27.9 individuals/s"
     ]
    },
    {
     "name": "stdout",
     "output_type": "stream",
     "text": [
      "NEW RECORD!\n",
      "Evaluations: 193 Fitness: 99999999.008352\n",
      "-------- nodes -------- \n",
      "[2, 'output', {'mm': 'mul', 'node': PCA(13)}]\n",
      "-------- links -------- \n",
      "[1, 2, {}, -6.960641364334151]\n",
      "----------------------- \n",
      "Species Representatives:\n"
     ]
    },
    {
     "data": {
      "image/png": "[encoded data removed]",
      "text/plain": [
       "<Figure size 972x1008 with 3 Axes>"
      ]
     },
     "metadata": {
      "needs_background": "light"
     },
     "output_type": "display_data"
    },
    {
     "name": "stderr",
     "output_type": "stream",
     "text": [
      "Evaluated: 204 CTresh: 1.250 Species: 3 Last fitness: 99999999.540 Variance (min/max/mean/std): [] (Elapsed Time: 0:00:07) \\ 27.0 individuals/s"
     ]
    },
    {
     "name": "stdout",
     "output_type": "stream",
     "text": [
      "rtNEAT reproduction cycle started at evaluation #200\n"
     ]
    },
    {
     "name": "stderr",
     "output_type": "stream",
     "text": [
      "Evaluated: 721 CTresh: 1.250 Species: 6 Last fitness: 99999999.801 Variance (min/max/mean/std): [] (Elapsed Time: 0:00:21) - 33.0 individuals/s"
     ]
    },
    {
     "name": "stdout",
     "output_type": "stream",
     "text": [
      "NEW RECORD!\n",
      "Evaluations: 722 Fitness: 99999999.0070251\n",
      "-------- nodes -------- \n",
      "[2, 'output', {'mm': 'min', 'node': PCA(11)}]\n",
      "-------- links -------- \n",
      "[1, 2, {}, 0.1]\n",
      "----------------------- \n",
      "Species Representatives:\n"
     ]
    },
    {
     "data": {
      "image/png": "[encoded data removed]",
      "text/plain": [
       "<Figure size 1944x1008 with 6 Axes>"
      ]
     },
     "metadata": {
      "needs_background": "light"
     },
     "output_type": "display_data"
    },
    {
     "name": "stderr",
     "output_type": "stream",
     "text": [
      "Evaluated: 811 CTresh: 1.250 Species: 6 Last fitness: 99999999.635 Variance (min/max/mean/std): [] (Elapsed Time: 0:00:25) - 31.7 individuals/s"
     ]
    },
    {
     "name": "stdout",
     "output_type": "stream",
     "text": [
      "NEW RECORD!\n",
      "Evaluations: 814 Fitness: 99999999.00189199\n",
      "-------- nodes -------- \n",
      "[2, 'output', {'mm': 'min', 'node': LogReg}]\n",
      "[3, 'hidden', {'mm': 'min', 'node': PCA(15)}]\n",
      "-------- links -------- \n",
      "[1, 2, {}, 0.1]\n",
      "[1, 3, {}, 0.1]\n",
      "[3, 2, {}, 0.1]\n",
      "----------------------- \n",
      "Species Representatives:\n"
     ]
    },
    {
     "data": {
      "image/png": "[encoded data removed]",
      "text/plain": [
       "<Figure size 1944x1008 with 6 Axes>"
      ]
     },
     "metadata": {
      "needs_background": "light"
     },
     "output_type": "display_data"
    },
    {
     "name": "stderr",
     "output_type": "stream",
     "text": [
      "Evaluated: 840 CTresh: 1.250 Species: 6 Last fitness: 99999999.191 Variance (min/max/mean/std): [] (Elapsed Time: 0:00:27) / 30.7 individuals/s"
     ]
    },
    {
     "name": "stdout",
     "output_type": "stream",
     "text": [
      "NEW RECORD!\n",
      "Evaluations: 843 Fitness: 99999999.00117561\n",
      "-------- nodes -------- \n",
      "[2, 'output', {'mm': 'min', 'node': PCA(15)}]\n",
      "-------- links -------- \n",
      "[1, 2, {}, 0.1]\n",
      "----------------------- \n",
      "Species Representatives:\n"
     ]
    },
    {
     "data": {
      "image/png": "[encoded data removed]",
      "text/plain": [
       "<Figure size 1944x1008 with 6 Axes>"
      ]
     },
     "metadata": {
      "needs_background": "light"
     },
     "output_type": "display_data"
    },
    {
     "name": "stderr",
     "output_type": "stream",
     "text": [
      "Evaluated: 1075 CTresh: 1.250 Species: 6 Last fitness: 99999999.603 Variance (min/max/mean/std): [] (Elapsed Time: 0:00:35) | 30.0 individuals/s"
     ]
    },
    {
     "data": {
      "text/html": [
       "<table style=\"border: 2px solid white;\">\n",
       "<tr>\n",
       "<td style=\"vertical-align: top; border: 0px solid white\">\n",
       "<h3>Client</h3>\n",
       "<ul>\n",
       "  <li><b>Scheduler: </b>tcp://192.168.0.108:8786\n",
       "  <li><b>Dashboard: </b><a href='http://192.168.0.108:8787/status' target='_blank'>http://192.168.0.108:8787/status</a>\n",
       "</ul>\n",
       "</td>\n",
       "<td style=\"vertical-align: top; border: 0px solid white\">\n",
       "<h3>Cluster</h3>\n",
       "<ul>\n",
       "  <li><b>Workers: </b>4</li>\n",
       "  <li><b>Cores: </b>4</li>\n",
       "  <li><b>Memory: </b>16.00 GB</li>\n",
       "</ul>\n",
       "</td>\n",
       "</tr>\n",
       "</table>"
      ],
      "text/plain": [
       "<Client: scheduler='tcp://192.168.0.108:8786' processes=4 cores=4>"
      ]
     },
     "execution_count": 33,
     "metadata": {},
     "output_type": "execute_result"
    }
   ],
   "source": [
    "# rtNEAT code\n",
    "try:\n",
    "    if initeval:\n",
    "        print('============================================================')\n",
    "        print(\"Please wait for the initial evaluation to complete.\")\n",
    "        now = time.time()\n",
    "        genome_list = []\n",
    "        for s in pop.Species:\n",
    "            for i in s.Individuals:\n",
    "                genome_list.append(i)\n",
    "        sys.stdout.flush()\n",
    "        # turn them into NX networks\n",
    "        grlist = [NEAT.Genome2NX(x) for x in genome_list]\n",
    "        idlist = [x.GetID() for x in genome_list]\n",
    "        args = list(zip(idlist,\n",
    "                        grlist,\n",
    "                        [fx]*len(grlist),\n",
    "                        [fy]*len(grlist),\n",
    "                        ))\n",
    "\n",
    "        # evaluate all individuals\n",
    "        fitnesses = [0] * len(grlist)\n",
    "        vrs = [None] * len(grlist)\n",
    "        bar = ProgressBar(initial_value=0, max_value=len(grlist))\n",
    "        cp = [client.submit(evaluate, x) for x in args]\n",
    "        fff = {}\n",
    "        for i,ftr in enumerate(as_completed(cp)):\n",
    "            idx, fitness = ftr.result()\n",
    "            #fitnesses[idx] = fitness\n",
    "            fff[idx] = fitness\n",
    "            bar.update(i)\n",
    "        bar.finish()\n",
    "        \n",
    "        for gnm in genome_list:\n",
    "            gnm.SetFitness( fff[gnm.GetID()] )\n",
    "            gnm.SetEvaluated()\n",
    "\n",
    "        #NEAT.ZipFitness(genome_list, fitnesses)\n",
    "        print(\"Evaluation took\", '%3.2f' % (time.time() - now), \"seconds.\")\n",
    "    else:\n",
    "        # No initial evaluation, start off with small random fitness\n",
    "        for s in pop.Species:\n",
    "            for i in s.Individuals:\n",
    "                i.SetFitness(np.random.rand()/1000)\n",
    "        grlist = [NEAT.Genome2NX(x) for x in NEAT.GetGenomeList(pop)]\n",
    "        idlist = [x.GetID() for x in NEAT.GetGenomeList(pop)]\n",
    "        args = list(zip(idlist,\n",
    "                        grlist,\n",
    "                        [fx]*len(grlist),\n",
    "                        [fy]*len(grlist),\n",
    "                        ))\n",
    "        cp = [client.submit(evaluate, x) for x in args]\n",
    "\n",
    "    # get best fitness in population and print it\n",
    "    glist = NEAT.GetGenomeList(pop)\n",
    "    fitness_list = [x.GetFitness() for x in glist]\n",
    "    bidx = argmax(fitness_list)\n",
    "    best = fitness_list[bidx]\n",
    "    if initeval: evhist.append(decide(best))\n",
    "    if best > best_ever:\n",
    "        print('NEW RECORD!')\n",
    "        print('Evaluations:', 0,\n",
    "              'Fitness:', decide(best),\n",
    "              'Species:', len(pop.Species))\n",
    "        best_gs.append(NEAT.Genome2NX(glist[bidx]))\n",
    "        print('-------- nodes -------- ')\n",
    "        print('\\n'.join([str(x) for x in glist[bidx].GetNeuronTraits() if x[1] != 'input']))\n",
    "        print('-------- links -------- ')\n",
    "        print('\\n'.join([str(x) for x in glist[bidx].GetLinkTraits(True)]))\n",
    "        print('----------------------- ')\n",
    "        best_ever = best\n",
    "        if viz:\n",
    "            species_display(pop)\n",
    "\n",
    "    print('============================================================')\n",
    "    print('rtNEAT phase')\n",
    "    print('============================================================')\n",
    "\n",
    "    format_custom_text = FormatCustomText('CTresh: %(ctr).3f Species: %(sp)d Last fitness: %(fitness).3f Variance (min/max/mean/std): %(vr)s',\n",
    "        dict(\n",
    "            sp=0,\n",
    "            fitness=0.0,\n",
    "            vr=str([]),\n",
    "            ctr=0.0,\n",
    "        ),)\n",
    "\n",
    "    widgets = ['Evaluated: ', Counter('%(value)d'), ' ', format_custom_text,\n",
    "               ' (', Timer(), ') ', RotatingMarker(), FileTransferSpeed(unit='individuals') ]\n",
    "    bar = ProgressBar(widgets=widgets, initial_value=0, max_value=evaluations)\n",
    "\n",
    "\n",
    "    # parallel continious loop\n",
    "    seq = as_completed(cp)\n",
    "    i=0\n",
    "    olds = []\n",
    "    under_evaluation_now = len(cp)\n",
    "    for f in seq:\n",
    "        if i >= evaluations:\n",
    "            [x.cancel() for x in cp]\n",
    "            break\n",
    "        if i > 0: bar.update(i)\n",
    "        i += 1\n",
    "\n",
    "        # get result from evaluation\n",
    "        idx, fitness = f.result()\n",
    "        try:\n",
    "            if idx not in olds:\n",
    "                # set that individual's fitness\n",
    "                pop.AccessGenomeByID(idx).SetFitness(fitness)\n",
    "                pop.AccessGenomeByID(idx).SetEvaluated()\n",
    "                under_evaluation_now -= 1\n",
    "\n",
    "                thegenome = pop.AccessGenomeByID(idx)\n",
    "\n",
    "                # get best fitness in population and print it\n",
    "                evhist.append(decide(fitness))\n",
    "                if fitness > best_ever:\n",
    "                    print('NEW RECORD!')\n",
    "                    print('Evaluations:', i,\n",
    "                          'Fitness:', decide(fitness))\n",
    "                    best_gs.append(NEAT.Genome2NX(thegenome))\n",
    "                    print('-------- nodes -------- ')\n",
    "                    print('\\n'.join([str(x) for x in thegenome.GetNeuronTraits() if x[1] != 'input']))\n",
    "                    print('-------- links -------- ')\n",
    "                    print('\\n'.join([str(x) for x in thegenome.GetLinkTraits(True)]))\n",
    "                    print('----------------------- ')\n",
    "                    best_ever = fitness\n",
    "                    if viz:\n",
    "                        species_display(pop)\n",
    "                elif (i%display_pop_each)==0: \n",
    "                    if viz:\n",
    "                        species_display(pop)\n",
    "                    \n",
    "\n",
    "            else:\n",
    "                print(f'Fitness of genome #{idx} was not set.')\n",
    "                \n",
    "        except Exception as ex:\n",
    "            print(ex)\n",
    "        format_custom_text.update_mapping(fitness=decide(fitness),\n",
    "                                          sp=len(pop.Species),\n",
    "                                          ctr=pop.Parameters.CompatTreshold)\n",
    "        \n",
    "                \n",
    "        # apply exploration pressure to species\n",
    "        if penalize_stangation:\n",
    "            maxfit = max([x.GetFitness() for x in NEAT.GetGenomeList(pop)])\n",
    "            for s in pop.Species:\n",
    "                if s.EvalsNoImprovement > penalize_stagnation_evals:\n",
    "                    bf = max([x.GetFitness() for x in s.Individuals])\n",
    "                    # make an exception if that species contains the best genome so far\n",
    "                    if bf < maxfit:\n",
    "                        for ind in s.Individuals:\n",
    "                            ind.SetFitness(0.000000001)\n",
    "\n",
    "        # create new baby and add to list of tasks\n",
    "        # only add new babies if the population under evaluation is below N%\n",
    "        if under_evaluation_now <= (population*(1/3)):\n",
    "            if not once:\n",
    "                once=True\n",
    "                print(f'rtNEAT reproduction cycle started at evaluation #{i}')\n",
    "\n",
    "            old = NEAT.Genome()\n",
    "            baby = pop.Tick(old)\n",
    "            \n",
    "            for l in baby.LinkGenes: l.Weight = 0.1 # for prettier display    \n",
    "            \n",
    "            olds.append(old.GetID())\n",
    "            newf = client.submit(evaluate, (baby.GetID(),\n",
    "                                            NEAT.Genome2NX(baby),\n",
    "                                            fx,\n",
    "                                            fy,\n",
    "                                            ))\n",
    "            seq.add(newf)\n",
    "            under_evaluation_now += 1\n",
    "            \n",
    "except KeyboardInterrupt:\n",
    "    pass\n",
    "    \n",
    "except Exception as ex:\n",
    "    print(ex)\n",
    "\n",
    "client.restart(timeout=600)"
   ]
  },
  {
   "cell_type": "code",
   "execution_count": null,
   "metadata": {},
   "outputs": [],
   "source": []
  },
  {
   "cell_type": "code",
   "execution_count": null,
   "metadata": {},
   "outputs": [],
   "source": []
  },
  {
   "cell_type": "code",
   "execution_count": null,
   "metadata": {},
   "outputs": [],
   "source": []
  },
  {
   "cell_type": "raw",
   "metadata": {},
   "source": []
  },
  {
   "cell_type": "code",
   "execution_count": null,
   "metadata": {},
   "outputs": [],
   "source": []
  },
  {
   "cell_type": "code",
   "execution_count": null,
   "metadata": {},
   "outputs": [],
   "source": []
  },
  {
   "cell_type": "code",
   "execution_count": null,
   "metadata": {},
   "outputs": [],
   "source": []
  },
  {
   "cell_type": "code",
   "execution_count": null,
   "metadata": {},
   "outputs": [],
   "source": []
  },
  {
   "cell_type": "code",
   "execution_count": null,
   "metadata": {},
   "outputs": [],
   "source": []
  },
  {
   "cell_type": "code",
   "execution_count": 34,
   "metadata": {},
   "outputs": [],
   "source": [
    "#client.restart(timeout=600)"
   ]
  },
  {
   "cell_type": "code",
   "execution_count": null,
   "metadata": {},
   "outputs": [],
   "source": []
  },
  {
   "cell_type": "code",
   "execution_count": null,
   "metadata": {},
   "outputs": [],
   "source": []
  },
  {
   "cell_type": "code",
   "execution_count": null,
   "metadata": {},
   "outputs": [],
   "source": []
  },
  {
   "cell_type": "code",
   "execution_count": null,
   "metadata": {},
   "outputs": [],
   "source": []
  },
  {
   "cell_type": "code",
   "execution_count": null,
   "metadata": {},
   "outputs": [],
   "source": []
  }
 ],
 "metadata": {
  "kernelspec": {
   "display_name": "Python 3",
   "language": "python",
   "name": "python3"
  },
  "language_info": {
   "codemirror_mode": {
    "name": "ipython",
    "version": 3
   },
   "file_extension": ".py",
   "mimetype": "text/x-python",
   "name": "python",
   "nbconvert_exporter": "python",
   "pygments_lexer": "ipython3",
   "version": "3.6.7"
  },
  "toc": {
   "base_numbering": 1,
   "nav_menu": {},
   "number_sections": true,
   "sideBar": true,
   "skip_h1_title": false,
   "title_cell": "Table of Contents",
   "title_sidebar": "Contents",
   "toc_cell": false,
   "toc_position": {},
   "toc_section_display": true,
   "toc_window_display": false
  }
 },
 "nbformat": 4,
 "nbformat_minor": 2
}
