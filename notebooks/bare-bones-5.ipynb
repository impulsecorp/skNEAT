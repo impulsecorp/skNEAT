{
 "cells": [
  {
   "cell_type": "code",
   "execution_count": null,
   "metadata": {},
   "outputs": [],
   "source": [
    "%pylab inline\n",
    "%autosave 20\n",
    "import os\n",
    "os.environ['KERAS_BACKEND']='theano'\n",
    "import keras\n",
    "import sys\n",
    "sys.path.append('/home/peter')\n",
    "sys.path.append('/home/peter/code/projects/MultiNEAT')\n",
    "sys.path.append('/home/ubuntu')\n",
    "from universal import *\n",
    "sys.path.append('/home/peter/code/projects')\n",
    "sys.path.append('/home/peter/code/projects/deepneat')\n",
    "sys.path.append('/home/ubuntu')\n",
    "sys.path.append('/home/ubuntu/new/automl')\n",
    "from aidevutil import *\n",
    "from keras.utils.vis_utils import plot_model\n",
    "from tqdm import tqdm_notebook as tqdm\n",
    "from deepneat import *"
   ]
  },
  {
   "cell_type": "code",
   "execution_count": null,
   "metadata": {},
   "outputs": [],
   "source": [
    "from dask import compute, delayed, persist\n",
    "from dask.distributed import Client, wait\n",
    "from dask.distributed import as_completed"
   ]
  },
  {
   "cell_type": "code",
   "execution_count": null,
   "metadata": {},
   "outputs": [],
   "source": [
    "import ipywidgets as widgets"
   ]
  },
  {
   "cell_type": "code",
   "execution_count": null,
   "metadata": {},
   "outputs": [],
   "source": []
  },
  {
   "cell_type": "code",
   "execution_count": null,
   "metadata": {},
   "outputs": [],
   "source": [
    "(x_train, y_train), (x_test, y_test) = get_mnist(size=(28,28), nrows=1000, nrows_test=1000)\n",
    "dx = x_train.reshape(x_train.shape[0], -1)\n",
    "dy = y_train.reshape(-1, 1)\n",
    "\n",
    "dx_test = x_test.reshape(x_test.shape[0], -1)"
   ]
  },
  {
   "cell_type": "code",
   "execution_count": null,
   "metadata": {},
   "outputs": [],
   "source": []
  },
  {
   "cell_type": "code",
   "execution_count": null,
   "metadata": {},
   "outputs": [],
   "source": [
    "dx.shape, dy.shape"
   ]
  },
  {
   "cell_type": "code",
   "execution_count": null,
   "metadata": {},
   "outputs": [],
   "source": []
  },
  {
   "cell_type": "raw",
   "metadata": {},
   "source": [
    "rf = np.arange(dx.shape[1])\n",
    "rf = rnd.sample(rf.tolist(), 16)\n",
    "dx = dx[:, rf]\n",
    "dx_test = dx_test[:, rf]"
   ]
  },
  {
   "cell_type": "code",
   "execution_count": null,
   "metadata": {},
   "outputs": [],
   "source": []
  },
  {
   "cell_type": "code",
   "execution_count": null,
   "metadata": {},
   "outputs": [],
   "source": [
    "dx.shape, dy.shape"
   ]
  },
  {
   "cell_type": "code",
   "execution_count": null,
   "metadata": {},
   "outputs": [],
   "source": []
  },
  {
   "cell_type": "code",
   "execution_count": null,
   "metadata": {},
   "outputs": [],
   "source": [
    "###################\n",
    "# Prototype Nodes #\n",
    "###################\n",
    "#\n",
    "# Linear, PCA\n",
    "#\n",
    "# LogisticRegression\n",
    "#\n",
    "#"
   ]
  },
  {
   "cell_type": "code",
   "execution_count": null,
   "metadata": {
    "code_folding": [
     0
    ],
    "run_control": {
     "marked": false
    }
   },
   "outputs": [],
   "source": [
    "# NEAT Parameters \n",
    "params = NEAT.Parameters()\n",
    "\n",
    "params.PopulationSize = 300\n",
    "params.DynamicCompatibility = True\n",
    "params.YoungAgeTreshold = 3\n",
    "params.SpeciesMaxStagnation = 10\n",
    "params.OldAgeTreshold = 10\n",
    "params.MinSpecies = 1\n",
    "params.MaxSpecies = 12\n",
    "params.RouletteWheelSelection = False\n",
    "params.ArchiveEnforcement = False\n",
    "params.InnovationsForever = True\n",
    "\n",
    "params.ConstraintTrials = 128\n",
    "\n",
    "params.MutateAddNeuronProb = 0.15/3\n",
    "params.MutateAddLinkProb = 0.5/3\n",
    "params.MutateRemLinkProb = 0.1/3\n",
    "params.RecurrentProb = 0.0\n",
    "params.MaxWeight = 1.0\n",
    "\n",
    "params.MutateWeightsProb = 0.0\n",
    "params.MutateActivationAProb = 0.0\n",
    "params.MutateActivationBProb = 0.0\n",
    "params.MutateNeuronTimeConstantsProb = 0.0\n",
    "params.MutateNeuronBiasesProb = 0.0\n",
    "\n",
    "params.MutateGenomeTraitsProb = 0.0\n",
    "params.MutateNeuronTraitsProb = 0.5\n",
    "params.MutateLinkTraitsProb = 0.0\n",
    "\n",
    "params.OverallMutationRate = 0.5\n",
    "params.CrossoverRate = 0.7\n",
    "params.MultipointCrossoverRate = 0.4\n",
    "params.SurvivalRate = 0.2\n",
    "params.InterspeciesCrossoverRate = 0.005\n",
    "params.PreferFitterParentRate = 0.5\n",
    "\n",
    "params.DontUseBiasNeuron = True\n",
    "params.AllowLoops = False\n",
    "params.AllowClones = True\n",
    "\n",
    "params.ExcessCoeff = 1.0\n",
    "params.DisjointCoeff = 1.0\n",
    "\n",
    "params.WeightDiffCoeff = 0.0\n",
    "params.TimeConstantDiffCoeff = 0.0\n",
    "params.BiasDiffCoeff = 0.0\n",
    "params.ActivationADiffCoeff = 0.0\n",
    "params.ActivationBDiffCoeff = 0.0\n",
    "params.NormalizeGenomeSize = True\n",
    "\n",
    "params.MinCompatTreshold = 0.0\n",
    "params.CompatTreshold = 1.25\n",
    "params.CompatTreshChangeInterval_Evaluations = 1\n",
    "params.CompatTresholdModifier = 0.002"
   ]
  },
  {
   "cell_type": "code",
   "execution_count": null,
   "metadata": {},
   "outputs": [],
   "source": []
  },
  {
   "cell_type": "code",
   "execution_count": null,
   "metadata": {
    "code_folding": []
   },
   "outputs": [],
   "source": [
    "# This is the custom trait\n",
    "class BaseObject:\n",
    "    def __init__(self):\n",
    "        pass\n",
    "        \n",
    "    def mate(self, other):\n",
    "        baby = BaseObject()\n",
    "        return baby\n",
    "    \n",
    "    def mutate(self):\n",
    "        baby = BaseObject()\n",
    "        return baby\n",
    "    \n",
    "    def distance_to(self, other):\n",
    "        return rnd.uniform(0,1)\n",
    "    \n",
    "    def conc_inputs(self, mm, inputs):\n",
    "        if (mm=='concat') or (len(inputs)==1):\n",
    "            if len(inputs)==1:\n",
    "                return inputs\n",
    "            else:\n",
    "                return np.concatenate(inputs)\n",
    "        else:\n",
    "            if mm=='add':\n",
    "                return np.sum()\n",
    "    \n",
    "    # what every object has to do - transform x, possibily changing the number of columns\n",
    "    # if necessary, fit to data (note: undeterministic!)\n",
    "    def tick(self, x, y):\n",
    "        return np.array(x)"
   ]
  },
  {
   "cell_type": "code",
   "execution_count": null,
   "metadata": {},
   "outputs": [],
   "source": [
    "class genePCA(BaseObject):\n",
    "    def __init__(self):\n",
    "        self.ndim = rnd.randint(2, 16)\n",
    "        self.pca = PCA(n_components=self.ndim)\n",
    "        \n",
    "    def __repr__(self):\n",
    "        return \"PCA(%d)\" % self.ndim\n",
    "    \n",
    "    def mate(self, other):\n",
    "        if isinstance(other, genePCA):\n",
    "            baby = genePCA()\n",
    "            baby.ndim = (self.ndim + other.ndim)//2\n",
    "            baby.pca = PCA(n_components=baby.ndim)\n",
    "            return baby\n",
    "        else:\n",
    "            return rnd.choice([self, other])\n",
    "    \n",
    "    def mutate(self):\n",
    "        baby = genePCA()\n",
    "        baby.ndim += rnd.randint(-3, 3)\n",
    "        baby.ndim = np.clip(baby.ndim, 2, 16)\n",
    "        baby.pca = PCA(n_components=baby.ndim)\n",
    "        return baby\n",
    "    \n",
    "    def distance_to(self, other):\n",
    "        if isinstance(other, genePCA):\n",
    "            return float(np.abs(self.ndim - other.ndim))\n",
    "        else:\n",
    "            return 100000.0\n",
    "    \n",
    "    def tick(self, x, y):\n",
    "        xt = self.pca.fit_transform(x)\n",
    "        return np.array(xt)"
   ]
  },
  {
   "cell_type": "code",
   "execution_count": null,
   "metadata": {},
   "outputs": [],
   "source": [
    "class geneLinear(BaseObject):\n",
    "    def __init__(self):\n",
    "        pass\n",
    "    \n",
    "    def __repr__(self):\n",
    "        return \"Linear\"\n",
    "    \n",
    "    def mate(self, other):\n",
    "        return self\n",
    "    \n",
    "    def mutate(self):\n",
    "        return self\n",
    "    \n",
    "    def distance_to(self, other):\n",
    "        return 0\n",
    "    \n",
    "    def tick(self, x, y):\n",
    "        return np.array(x)"
   ]
  },
  {
   "cell_type": "code",
   "execution_count": null,
   "metadata": {
    "code_folding": []
   },
   "outputs": [],
   "source": [
    "from sklearn.linear_model import LogisticRegression\n",
    "\n",
    "class geneLogisticRegression(BaseObject):\n",
    "    def __init__(self):\n",
    "        self.clf = LogisticRegression()\n",
    "        \n",
    "    def __repr__(self):\n",
    "        return \"LogReg\"\n",
    "    \n",
    "    def mate(self, other):\n",
    "        return self\n",
    "    \n",
    "    def mutate(self):\n",
    "        return self\n",
    "    \n",
    "    def distance_to(self, other):\n",
    "        return 0\n",
    "    \n",
    "    def tick(self, x, y):\n",
    "        self.clf.fit(x, y.reshape(-1))\n",
    "        return self.clf.predict(x)"
   ]
  },
  {
   "cell_type": "code",
   "execution_count": null,
   "metadata": {},
   "outputs": [],
   "source": [
    "derived_list = [genePCA, geneLinear, geneLogisticRegression]\n",
    "probs = [1.0]*len(derived_list)"
   ]
  },
  {
   "cell_type": "code",
   "execution_count": null,
   "metadata": {},
   "outputs": [],
   "source": []
  },
  {
   "cell_type": "code",
   "execution_count": null,
   "metadata": {},
   "outputs": [],
   "source": [
    "def fails_constraints(genome):\n",
    "    try:\n",
    "        ts = genome.GetNeuronTraits()\n",
    "        o = None\n",
    "        for t in ts:\n",
    "            if t[1]=='output': \n",
    "                o = t[2]\n",
    "                break\n",
    "        if not isinstance(o['node'], geneLogisticRegression):\n",
    "            return True\n",
    "        else:\n",
    "            return False\n",
    "    except:\n",
    "        return True\n",
    "    return True"
   ]
  },
  {
   "cell_type": "code",
   "execution_count": null,
   "metadata": {},
   "outputs": [],
   "source": [
    "params.CustomConstraints = fails_constraints"
   ]
  },
  {
   "cell_type": "code",
   "execution_count": null,
   "metadata": {
    "code_folding": []
   },
   "outputs": [],
   "source": [
    "# Set traits"
   ]
  },
  {
   "cell_type": "code",
   "execution_count": null,
   "metadata": {
    "code_folding": []
   },
   "outputs": [],
   "source": [
    "# merge mode\n",
    "s = ['concat',\n",
    "    # when dimensions match, these can be done, otherwise it defaults to concat\n",
    "     'add','mul','avg','min','max',\n",
    "    ]\n",
    "p = [1.0] * len(s)\n",
    "mm = {'details': {'set': s, 'probs': p},\n",
    "      'importance_coeff': 0.0,\n",
    "      'mutation_prob': 0.3,\n",
    "      'type': 'str'}\n",
    "\n",
    "params.SetNeuronTraitParameters('mm', mm)"
   ]
  },
  {
   "cell_type": "code",
   "execution_count": null,
   "metadata": {},
   "outputs": [],
   "source": [
    "node = {'details': (derived_list, probs),\n",
    "          'importance_coeff': 0.1,\n",
    "          'mutation_prob': 0.2,\n",
    "          'type': 'pyclassset'}\n",
    "\n",
    "params.SetNeuronTraitParameters('node', node)"
   ]
  },
  {
   "cell_type": "code",
   "execution_count": null,
   "metadata": {},
   "outputs": [],
   "source": []
  },
  {
   "cell_type": "code",
   "execution_count": null,
   "metadata": {},
   "outputs": [],
   "source": [
    "num_inputs = 1\n",
    "num_outputs = 1"
   ]
  },
  {
   "cell_type": "code",
   "execution_count": null,
   "metadata": {},
   "outputs": [],
   "source": [
    "num_input_dims = dx.shape[1]\n",
    "num_output_dims = 1"
   ]
  },
  {
   "cell_type": "code",
   "execution_count": null,
   "metadata": {},
   "outputs": [],
   "source": []
  },
  {
   "cell_type": "code",
   "execution_count": null,
   "metadata": {
    "code_folding": []
   },
   "outputs": [],
   "source": [
    "g = NEAT.Genome(0, num_inputs, 1, num_outputs, 0, NEAT.ActivationFunction.RELU,\n",
    "                    NEAT.ActivationFunction.RELU, 0, params, 0, 1)"
   ]
  },
  {
   "cell_type": "code",
   "execution_count": null,
   "metadata": {
    "code_folding": []
   },
   "outputs": [],
   "source": [
    "pop = NEAT.Population(g, params, True, 1.0, 0)\n",
    "pop.RNG.Seed(int(time.clock()*100))"
   ]
  },
  {
   "cell_type": "code",
   "execution_count": null,
   "metadata": {},
   "outputs": [],
   "source": []
  },
  {
   "cell_type": "code",
   "execution_count": null,
   "metadata": {},
   "outputs": [],
   "source": [
    "dx.shape, dy.shape"
   ]
  },
  {
   "cell_type": "code",
   "execution_count": null,
   "metadata": {},
   "outputs": [],
   "source": [
    "dx[0:3]"
   ]
  },
  {
   "cell_type": "code",
   "execution_count": null,
   "metadata": {},
   "outputs": [],
   "source": [
    "dy[0:3]"
   ]
  },
  {
   "cell_type": "code",
   "execution_count": null,
   "metadata": {},
   "outputs": [],
   "source": []
  },
  {
   "cell_type": "code",
   "execution_count": null,
   "metadata": {},
   "outputs": [],
   "source": [
    "gr = NEAT.Genome2NX(pop.Species[0].Individuals[0])"
   ]
  },
  {
   "cell_type": "code",
   "execution_count": null,
   "metadata": {},
   "outputs": [],
   "source": [
    "gr.nodes(data=1)"
   ]
  },
  {
   "cell_type": "code",
   "execution_count": null,
   "metadata": {},
   "outputs": [],
   "source": []
  },
  {
   "cell_type": "code",
   "execution_count": null,
   "metadata": {
    "code_folding": [
     29
    ],
    "run_control": {
     "marked": false
    }
   },
   "outputs": [],
   "source": [
    "numrows = dx.shape[0]\n",
    "\n",
    "def activate_graph(gr, inputs, targets, num_outputs=1):\n",
    "    allnodes = list(nx.dfs_postorder_nodes(gr))[::-1]\n",
    "    for a in allnodes: gr.node[a]['act'] = None\n",
    "    \n",
    "    # separate input from non-input nodes\n",
    "    allnodes = [x for x in allnodes if x > num_inputs]\n",
    "    \n",
    "    # input the data\n",
    "    for i,inp in zip(range(1, num_inputs+1), inputs): \n",
    "        gr.node[i]['act'] = np.array(inp).reshape(numrows, -1)\n",
    "        \n",
    "    # pass through the graph\n",
    "    for an in allnodes:\n",
    "        #print(gr.node[a], end=' ')\n",
    "        mm = gr.node[an]['mm']\n",
    "        \n",
    "        # collect the inputs to this node\n",
    "        \n",
    "        # also sort the incoming edges by id for consistency\n",
    "        inedg = list(gr.in_edges(an))\n",
    "        inps = [gr.node[i]['act'] for i,o in inedg]\n",
    "        \n",
    "        if (mm == 'concat') or (len(inps)==1) or not all([x.shape[1] == inps[0].shape[1] for x in inps]):  \n",
    "            if len(inps)>1:\n",
    "                iii = np.concatenate(inps, axis=1)\n",
    "            else:\n",
    "                if isinstance(inps, list):\n",
    "                    iii = inps[0]\n",
    "                else:\n",
    "                    iii = inps\n",
    "        else:\n",
    "            iii = inps\n",
    "            if mm == 'add':\n",
    "                iii = np.sum(inps, axis=0)\n",
    "            if mm == 'mul':\n",
    "                iii = np.prod(inps, axis=0)\n",
    "            if mm == 'avg':\n",
    "                iii = np.mean(inps, axis=0)\n",
    "            if mm == 'min':\n",
    "                iii = np.min(inps, axis=0)\n",
    "            if mm == 'max':\n",
    "                iii = np.max(inps, axis=0)\n",
    "        \n",
    "        act = gr.node[an]['node'].tick(iii, targets).reshape(numrows, -1)\n",
    "        \n",
    "        # store activation\n",
    "        gr.node[an]['act'] = act \n",
    "\n",
    "    outputs = [gr.node[o]['act'] for o in allnodes[-num_outputs:]]\n",
    "    return np.array(outputs).reshape(numrows, -1)"
   ]
  },
  {
   "cell_type": "code",
   "execution_count": null,
   "metadata": {},
   "outputs": [],
   "source": []
  },
  {
   "cell_type": "code",
   "execution_count": null,
   "metadata": {},
   "outputs": [],
   "source": [
    "a = activate_graph(gr, [dx], dy)"
   ]
  },
  {
   "cell_type": "code",
   "execution_count": null,
   "metadata": {},
   "outputs": [],
   "source": [
    "a.shape"
   ]
  },
  {
   "cell_type": "code",
   "execution_count": null,
   "metadata": {},
   "outputs": [],
   "source": [
    "#a#gr.nodes(data=1)"
   ]
  },
  {
   "cell_type": "code",
   "execution_count": null,
   "metadata": {},
   "outputs": [],
   "source": []
  },
  {
   "cell_type": "code",
   "execution_count": null,
   "metadata": {
    "code_folding": []
   },
   "outputs": [],
   "source": [
    "# evaluation function\n",
    "\n",
    "def evaluate(args):\n",
    "    idx, gr, dx, dy, ltr, ntr, precomp = args\n",
    "    ntr = [x for x in ntr if x[1]!='input']\n",
    "    \n",
    "    try:\n",
    "        a = activate_graph(gr, [dx], dy)\n",
    "        if a.shape[1] > 1: \n",
    "            a = np.sum(a, axis=1)\n",
    "            a = np.round((np.tanh(a) + 1.0)/2.0)\n",
    "        acc = np.sum(a == dy) / numrows\n",
    "    except Exception as ex:\n",
    "        print(ex)\n",
    "        acc = 0.0\n",
    "    \n",
    "    f = acc\n",
    "    \n",
    "    return idx, f, None\n",
    "\n",
    "def decide(x):\n",
    "    return x "
   ]
  },
  {
   "cell_type": "code",
   "execution_count": null,
   "metadata": {},
   "outputs": [],
   "source": []
  },
  {
   "cell_type": "raw",
   "metadata": {
    "scrolled": true
   },
   "source": []
  },
  {
   "cell_type": "code",
   "execution_count": null,
   "metadata": {},
   "outputs": [],
   "source": [
    "if socket.gethostname() == 'laptop':\n",
    "    cluster='192.168.0.108:8786'\n",
    "elif socket.gethostname() == 'desktop':\n",
    "    clsuter='192.168.0.108:8786'\n",
    "else:\n",
    "    cluster='172.31.43.76:8786'"
   ]
  },
  {
   "cell_type": "code",
   "execution_count": null,
   "metadata": {},
   "outputs": [],
   "source": [
    "import time\n",
    "st = time.time()\n",
    "print('Connecting..')\n",
    "if cluster:\n",
    "    client = Client(cluster)\n",
    "else:\n",
    "    client = Client()\n",
    "client.restart(timeout=600)\n",
    "# push the data to the cluster\n",
    "print('Scattering data to cluster..')\n",
    "debugxy=0\n",
    "if not debugxy:\n",
    "    fx = client.scatter(dx, broadcast=True, direct=True)\n",
    "    fy = client.scatter(dy, broadcast=True, direct=True)\n",
    "else:\n",
    "    fx, fy = None, None\n",
    "print(f'done in {time.time()-st} seconds')"
   ]
  },
  {
   "cell_type": "code",
   "execution_count": null,
   "metadata": {},
   "outputs": [],
   "source": []
  },
  {
   "cell_type": "code",
   "execution_count": null,
   "metadata": {},
   "outputs": [],
   "source": [
    "#evaluate((0, NEAT.Genome2NX(pop.Species[0].Individuals[2]), dx, dy))"
   ]
  },
  {
   "cell_type": "code",
   "execution_count": null,
   "metadata": {},
   "outputs": [],
   "source": []
  },
  {
   "cell_type": "code",
   "execution_count": null,
   "metadata": {},
   "outputs": [],
   "source": []
  },
  {
   "cell_type": "raw",
   "metadata": {
    "scrolled": true
   },
   "source": []
  },
  {
   "cell_type": "code",
   "execution_count": null,
   "metadata": {},
   "outputs": [],
   "source": [
    "parallel = 0\n",
    "precomp=None\n",
    "verbose=1\n",
    "use_local_search=0\n",
    "display_whole_pop = 0\n",
    "display_max_species = 8\n",
    "initeval = 0\n",
    "evaluations = 10000\n",
    "display_pop_each = 80000\n",
    "once = False\n",
    "x_shape, ys = dx.shape[1], 1\n",
    "population = params.PopulationSize\n",
    "\n",
    "penalize_stangation = 1\n",
    "penalize_stagnation_evals = 2400\n",
    "\n",
    "max_stagnation = 5000\n",
    "\n",
    "max_nodeslinks_to_output = 4\n",
    "\n",
    "evhist = []\n",
    "best_ever = 0\n",
    "best_gs = []"
   ]
  },
  {
   "cell_type": "code",
   "execution_count": null,
   "metadata": {},
   "outputs": [],
   "source": [
    "def poplen(pop):\n",
    "    return sum([len(x.Individuals) for x in pop.Species])"
   ]
  },
  {
   "cell_type": "code",
   "execution_count": null,
   "metadata": {
    "code_folding": []
   },
   "outputs": [],
   "source": [
    "def prettydict(d, nonl=False):\n",
    "    i,t,di = d\n",
    "    if not nonl:\n",
    "        ks = '%d - %s: ' % (i, t)\n",
    "    else:\n",
    "        return '%d - %s' % (i, t)\n",
    "    s = []\n",
    "    for k,v in sorted(list(di.items())):\n",
    "        if isinstance(v, float):\n",
    "            s.append( '%s %3.3f' % (k[0:1], v) )\n",
    "        else:\n",
    "            s.append( '%s %s' % (k[0:1], v) )\n",
    "    return ks + ', '.join(s)"
   ]
  },
  {
   "cell_type": "code",
   "execution_count": null,
   "metadata": {
    "code_folding": []
   },
   "outputs": [],
   "source": [
    "def species_display(pop):\n",
    "    genomes = [x.GetLeader() for x in pop.Species][0:display_max_species]\n",
    "    f, axes = plt.subplots(1, len(genomes), figsize=(len(genomes) * 4.5, 14))\n",
    "    print('Species Representatives:')\n",
    "    if len(genomes)>1:\n",
    "        for i,(ax, g) in enumerate(zip(axes, genomes)):\n",
    "            try:\n",
    "                img = NEAT.viz.Draw(g, size=(300, 400))[:, 0:230]\n",
    "                ax.imshow(img)\n",
    "                ax.set_title('%3.6f | %3.2f%%' % (decide(g.GetFitness()),\n",
    "                                                  (len(pop.Species[i].Individuals)/poplen(pop))*100 ))\n",
    "                s = '\\n'.join([prettydict(x) for x in g.GetNeuronTraits() if x[1] != 'input'][0:8])\n",
    "                s += '\\n=============\\n'\n",
    "                s += '\\n'.join([prettydict(x, nonl=True) for x in g.GetLinkTraits(False)][0:8])\n",
    "                ax.set_xlabel(s)\n",
    "            except Exception as ex:\n",
    "                print(ex)\n",
    "    else:\n",
    "        try:\n",
    "            g = pop.GetBestGenome()\n",
    "            img = NEAT.viz.Draw(g, size=(300, 400))[:, 0:230]\n",
    "            axes.imshow(img)\n",
    "            axes.set_title('%3.6f' % (decide(g.GetFitness())))\n",
    "            s = '\\n'.join([prettydict(x) for x in g.GetNeuronTraits() if x[1] != 'input'][0:8])\n",
    "            s += '\\n=============\\n'\n",
    "            s += '\\n'.join([prettydict(x, nonl=True) for x in g.GetLinkTraits(False)][0:8])\n",
    "            axes.set_xlabel(s)\n",
    "        except Exception as ex:\n",
    "            print(ex)\n",
    "    f.tight_layout()\n",
    "    plt.show()"
   ]
  },
  {
   "cell_type": "code",
   "execution_count": null,
   "metadata": {},
   "outputs": [],
   "source": []
  },
  {
   "cell_type": "code",
   "execution_count": null,
   "metadata": {},
   "outputs": [],
   "source": []
  },
  {
   "cell_type": "code",
   "execution_count": null,
   "metadata": {},
   "outputs": [],
   "source": []
  },
  {
   "cell_type": "code",
   "execution_count": null,
   "metadata": {
    "code_folding": [
     16
    ],
    "scrolled": true
   },
   "outputs": [],
   "source": [
    "once = False\n",
    "#evhist = []\n",
    "best_ever = 0\n",
    "best_gs = []\n",
    "\n",
    "nfl = 1\n",
    "if debugxy:\n",
    "    nfl = 1\n",
    "g = NEAT.Genome(0, num_inputs, 1, num_outputs, 0, NEAT.ActivationFunction.RELU,\n",
    "                    NEAT.ActivationFunction.RELU, 0, params, 0, nfl)\n",
    "pop = NEAT.Population(g, params, True, 1.0, 0)\n",
    "pop.RNG.Seed(int(time.clock()*100))\n",
    "#pop.Parameters.AllowClones = False\n",
    "evhist = []\n",
    "\n",
    "# rtNEAT code\n",
    "if 1:\n",
    "    if initeval:\n",
    "        if verbose:\n",
    "            print('============================================================')\n",
    "            print(\"Please wait for the initial evaluation to complete.\")\n",
    "        now = time.time()\n",
    "        genome_list = []\n",
    "        for s in pop.Species:\n",
    "            for i in s.Individuals:\n",
    "                genome_list.append(i)\n",
    "        sys.stdout.flush()\n",
    "        # turn them into NX networks\n",
    "        grlist = [NEAT.Genome2NX(x, with_weights=1) for x in genome_list]\n",
    "        ltrlist = [x.GetLinkTraits(1) for x in genome_list]\n",
    "        ntrlist = [x.GetNeuronTraits() for x in genome_list]\n",
    "        idlist = [x.GetID() for x in genome_list]\n",
    "        if parallel:\n",
    "            args = list(zip(idlist,\n",
    "                            grlist,\n",
    "                            [fx]*len(grlist),\n",
    "                            [fy]*len(grlist),\n",
    "                            ltrlist,\n",
    "                            ntrlist, \n",
    "                            [precomp]*len(grlist)\n",
    "                            ))\n",
    "        else:\n",
    "            args = list(zip(idlist,\n",
    "                            grlist,\n",
    "                            [dx]*len(grlist),\n",
    "                            [dy]*len(grlist),\n",
    "                            ltrlist,\n",
    "                            ntrlist,\n",
    "                            [precomp]*len(grlist)\n",
    "                            ))\n",
    "\n",
    "        # evaluate all individuals\n",
    "        fitnesses = [0] * len(grlist)\n",
    "        if verbose:\n",
    "            bar = ProgressBar(initial_value=0, max_value=len(grlist))\n",
    "        fff = {}\n",
    "        rss = {}\n",
    "        if parallel:\n",
    "            cp = [client.submit(evaluate, x) for x in args]\n",
    "            for i,ftr in enumerate(as_completed(cp)):\n",
    "                idx, fitness, rsx  = ftr.result()\n",
    "                fff[idx] = fitness\n",
    "                rss[idx] = rsx\n",
    "                if verbose:\n",
    "                    bar.update(i)\n",
    "        else:\n",
    "            for i in range(len(grlist)):\n",
    "                idx, fitness, rsx = evaluate(args[i])\n",
    "                fff[idx] = fitness\n",
    "                rss[idx] = rsx\n",
    "                if verbose:\n",
    "                    bar.update(i)                \n",
    "        if verbose:\n",
    "            bar.finish()\n",
    "\n",
    "        fitness_list = []\n",
    "        rsx_list = []\n",
    "        for gnm in genome_list:\n",
    "            gnm.SetFitness( fff[gnm.GetID()] )\n",
    "            fitness_list.append( fff[gnm.GetID()] )\n",
    "            rsx_list.append( rss[gnm.GetID()] )\n",
    "            if use_local_search:\n",
    "                for qx,w in zip(gnm.LinkGenes,rss[gnm.GetID()]): qx.Weight = w\n",
    "            gnm.SetEvaluated()\n",
    "\n",
    "        bidx = argmax(fitness_list)\n",
    "        best = fitness_list[bidx]\n",
    "        #if initeval: evhist.append(decide(best))\n",
    "        if best > best_ever:\n",
    "            if verbose:\n",
    "                print('NEW RECORD!')\n",
    "                print('Evaluations:', 0,\n",
    "                      'Fitness:', decide(best),\n",
    "                      'Species:', len(pop.Species))\n",
    "            best_gs.append([NEAT.Genome2NX(genome_list[bidx], with_weights=1), \n",
    "                            genome_list[bidx].GetLinkTraits(1),\n",
    "                            genome_list[bidx].GetNeuronTraits(),\n",
    "                            rsx_list[bidx]\n",
    "                           ])\n",
    "            best_bs = best_gs[-3:]\n",
    "            if verbose:\n",
    "                print(f'-------- nodes: {genome_list[bidx].NumNeurons()} -------- ')\n",
    "                print('\\n'.join([str(x) for x in genome_list[bidx].GetNeuronTraits() if x[1] != 'input'][0:max_nodeslinks_to_output]))\n",
    "                print(f'-------- links: {genome_list[bidx].NumLinks()} -------- ')\n",
    "                print('\\n'.join([str(x) for x in genome_list[bidx].GetLinkTraits(1)][0:max_nodeslinks_to_output]))\n",
    "                print('----------------------- ')\n",
    "            best_ever = best\n",
    "            if viz and verbose:\n",
    "                species_display(pop)\n",
    "\n",
    "        if verbose:\n",
    "            print(\"Evaluation took\", '%3.2f' % (time.time() - now), \"seconds.\")\n",
    "    else:\n",
    "        # No initial evaluation, start off with small random fitness\n",
    "        for s in pop.Species:\n",
    "            for i in s.Individuals:\n",
    "                i.SetFitness(np.random.rand()/1000)\n",
    "                i.SetEvaluated()              \n",
    "\n",
    "    if parallel:\n",
    "        genome_list = NEAT.GetGenomeList(pop)\n",
    "        grlist = [NEAT.Genome2NX(x, with_weights=1) for x in genome_list]\n",
    "        ltrlist = [x.GetLinkTraits(1) for x in genome_list]\n",
    "        ntrlist = [x.GetNeuronTraits() for x in genome_list]\n",
    "        idlist = [x.GetID() for x in genome_list]\n",
    "        args = list(zip(idlist,\n",
    "                        grlist,\n",
    "                        [fx]*len(grlist),\n",
    "                        [fy]*len(grlist),\n",
    "                        ltrlist,\n",
    "                        ntrlist,\n",
    "                        [precomp]*len(grlist)\n",
    "                        ))\n",
    "        cp = [client.submit(evaluate, x) for x in args]\n",
    "\n",
    "    if verbose:\n",
    "        print('============================================================')\n",
    "        print('rtNEAT phase')\n",
    "        print('============================================================')\n",
    "\n",
    "        format_custom_text = FormatCustomText('CTresh: %(ctr).6f Species: %(sp)d Last fitness: %(fitness).6f %(vr)s',\n",
    "            dict(\n",
    "                sp=0,\n",
    "                fitness=0.0,\n",
    "                vr=str([]),\n",
    "                ctr=0.0,\n",
    "            ),)\n",
    "\n",
    "        widgets = ['Evaluated: ', Counter('%(value)d'), ' ', format_custom_text,\n",
    "                   ' (', Timer(), ') ', RotatingMarker(), FileTransferSpeed(unit='individuals') ]\n",
    "        bar = ProgressBar(widgets=widgets, initial_value=0, max_value=evaluations)\n",
    "\n",
    "    if parallel:\n",
    "        # parallel continious loop\n",
    "        seq = as_completed(cp)\n",
    "        i=0\n",
    "        olds = []\n",
    "        under_evaluation_now = len(cp)\n",
    "        for f in tqdm(seq):\n",
    "            if i >= evaluations:\n",
    "                [x.cancel() for x in cp]\n",
    "                break\n",
    "            if verbose:\n",
    "                if i > 0: bar.update(i)\n",
    "            i += 1\n",
    "\n",
    "            # get result from evaluation\n",
    "            idx, fitness, rsx = f.result()\n",
    "            if 1:\n",
    "                if idx not in olds:\n",
    "                    # set that individual's fitness\n",
    "                    pop.AccessGenomeByID(idx).SetFitness(fitness)\n",
    "                    pop.AccessGenomeByID(idx).SetEvaluated()\n",
    "                    under_evaluation_now -= 1\n",
    "\n",
    "                    thegenome = pop.AccessGenomeByID(idx)\n",
    "\n",
    "                    #  apply the local search back to genome\n",
    "                    if use_local_search:\n",
    "                        for qx,w in zip(thegenome.LinkGenes,rsx): qx.Weight = w\n",
    "\n",
    "                    # get best fitness in population and print it\n",
    "                    evhist.append(decide(fitness))\n",
    "                    if fitness > best_ever:\n",
    "                        if verbose:\n",
    "                            print('NEW RECORD!')\n",
    "                            print('Evaluations:', i,\n",
    "                                  'Fitness:', decide(fitness))\n",
    "                        best_gs.append([NEAT.Genome2NX(thegenome, with_weights=1),\n",
    "                                        thegenome.GetLinkTraits(1),\n",
    "                                        thegenome.GetNeuronTraits(),\n",
    "                                        rsx\n",
    "                                       ])\n",
    "                        if verbose:\n",
    "                            print(f'-------- nodes: {thegenome.NumNeurons()} -------- ')\n",
    "                            print('\\n'.join([str(x) for x in thegenome.GetNeuronTraits() if x[1] != 'input'][0:max_nodeslinks_to_output]))\n",
    "                            print(f'-------- links: {thegenome.NumLinks()} -------- ')\n",
    "                            print('\\n'.join([str(x) for x in thegenome.GetLinkTraits(1)][0:max_nodeslinks_to_output]))\n",
    "                            print('----------------------- ')\n",
    "                        best_ever = fitness\n",
    "                        if viz and verbose:\n",
    "                            species_display(pop)\n",
    "                    elif (i%display_pop_each)==0: \n",
    "                        if viz and verbose:\n",
    "                            species_display(pop)\n",
    "\n",
    "                else:\n",
    "                    if verbose: \n",
    "                        print(f'Fitness of genome #{idx} was not set.')\n",
    "\n",
    "            #except Exception as ex:\n",
    "            #    print(ex)\n",
    "            if verbose:\n",
    "                format_custom_text.update_mapping(fitness=decide(fitness),\n",
    "                                                  sp=len(pop.Species),\n",
    "                                                  ctr=pop.Parameters.CompatTreshold)\n",
    "\n",
    "\n",
    "            # apply exploration pressure to species\n",
    "            if penalize_stangation:\n",
    "                maxfit = max([x.GetFitness() for x in NEAT.GetGenomeList(pop)])\n",
    "                for s in pop.Species:\n",
    "                    if s.EvalsNoImprovement > penalize_stagnation_evals:\n",
    "                        bf = max([x.GetFitness() for x in s.Individuals])\n",
    "                        # make an exception if that species contains the best genome so far\n",
    "                        if bf < maxfit:\n",
    "                            for ind in s.Individuals:\n",
    "                                ind.SetFitness(0.000000001)\n",
    "\n",
    "            if all([x.EvalsNoImprovement > max_stagnation for x in pop.Species]):\n",
    "                break\n",
    "\n",
    "            # create new baby and add to list of tasks\n",
    "            # only add new babies if the population under evaluation is below N%\n",
    "            if under_evaluation_now <= (population*(1/3)):\n",
    "                if not once:\n",
    "                    once=True\n",
    "                    if verbose:\n",
    "                        print(f'rtNEAT reproduction cycle started at evaluation #{i}')\n",
    "\n",
    "                old = NEAT.Genome()\n",
    "                baby = pop.Tick(old)\n",
    "\n",
    "                if old.GetID() != -1:\n",
    "                    olds.append(old.GetID())\n",
    "\n",
    "                newf = client.submit(evaluate, (baby.GetID(),\n",
    "                                                NEAT.Genome2NX(baby, with_weights=1),\n",
    "                                                fx,\n",
    "                                                fy,\n",
    "                                                baby.GetLinkTraits(1),\n",
    "                                                baby.GetNeuronTraits(),\n",
    "                                                precomp\n",
    "                                                ))\n",
    "                seq.add(newf)\n",
    "                under_evaluation_now += 1\n",
    "\n",
    "    else:\n",
    "\n",
    "        # continuous loop\n",
    "        for i in tqdm(range(evaluations)):\n",
    "            if verbose:\n",
    "                bar.update(i)\n",
    "\n",
    "            # get the new baby\n",
    "            old = NEAT.Genome()\n",
    "            baby = pop.Tick(old)\n",
    "\n",
    "            # evaluate it\n",
    "            f = evaluate((baby.GetID(),\n",
    "                          NEAT.Genome2NX(baby, with_weights=1),\n",
    "                          dx,\n",
    "                          dy,\n",
    "                          baby.GetLinkTraits(1),\n",
    "                          baby.GetNeuronTraits(),\n",
    "                          precomp\n",
    "                          ))\n",
    "\n",
    "            fitness = f[1]\n",
    "            rsx = f[2]\n",
    "\n",
    "            baby.SetFitness(fitness)\n",
    "            baby.SetEvaluated()\n",
    "\n",
    "            # apply the local search back to genome\n",
    "            if use_local_search:\n",
    "                for qx,w in zip(baby.LinkGenes,rsx): qx.Weight = w\n",
    "\n",
    "            # get best fitness in population and print it\n",
    "            #evhist.append(decide(fitness))\n",
    "            if fitness > best_ever:\n",
    "                if verbose:\n",
    "                    print('NEW RECORD!')\n",
    "                    print('Evaluations:', i,\n",
    "                          'Fitness:', decide(fitness))\n",
    "                best_gs.append([NEAT.Genome2NX(baby, with_weights=1),\n",
    "                               baby.GetLinkTraits(1),\n",
    "                               baby.GetNeuronTraits(),\n",
    "                               rsx])\n",
    "                best_bs = best_gs[-3:]\n",
    "                if verbose:                    \n",
    "                    print(f'-------- nodes: {baby.NumNeurons()} -------- ')\n",
    "                    print('\\n'.join([str(x) for x in baby.GetNeuronTraits() if x[1] != 'input'][0:max_nodeslinks_to_output]))\n",
    "                    print(f'-------- links: {baby.NumLinks()} -------- ')\n",
    "                    print('\\n'.join([str(x) for x in baby.GetLinkTraits(1)][0:max_nodeslinks_to_output]))\n",
    "                    print('----------------------- ')\n",
    "                best_ever = fitness\n",
    "                if viz and verbose:\n",
    "                    species_display(pop)\n",
    "            elif (i%display_pop_each)==0: \n",
    "                if viz and verbose:\n",
    "                    species_display(pop)\n",
    "\n",
    "            if all([x.EvalsNoImprovement > max_stagnation for x in pop.Species]):\n",
    "                break\n",
    "\n",
    "            if (i%50000)==0:\n",
    "                gc.collect()\n",
    "\n",
    "            #spechist.append([len(pop.Species), pop.Parameters.CompatTreshold])\n",
    "\n",
    "            if verbose:\n",
    "                format_custom_text.update_mapping(fitness=decide(f[1]),\n",
    "                                                  sp=len(pop.Species),\n",
    "                                                  ctr=pop.Parameters.CompatTreshold)\n",
    "\n",
    "#except KeyboardInterrupt:\n",
    "#    pass\n",
    "\n",
    "#except Exception as ex:\n",
    "#    print(ex)\n"
   ]
  },
  {
   "cell_type": "code",
   "execution_count": null,
   "metadata": {},
   "outputs": [],
   "source": [
    "#%debug"
   ]
  },
  {
   "cell_type": "code",
   "execution_count": null,
   "metadata": {},
   "outputs": [],
   "source": []
  },
  {
   "cell_type": "code",
   "execution_count": null,
   "metadata": {},
   "outputs": [],
   "source": []
  },
  {
   "cell_type": "raw",
   "metadata": {},
   "source": []
  },
  {
   "cell_type": "code",
   "execution_count": null,
   "metadata": {},
   "outputs": [],
   "source": []
  },
  {
   "cell_type": "code",
   "execution_count": null,
   "metadata": {},
   "outputs": [],
   "source": []
  },
  {
   "cell_type": "code",
   "execution_count": null,
   "metadata": {},
   "outputs": [],
   "source": []
  },
  {
   "cell_type": "code",
   "execution_count": null,
   "metadata": {},
   "outputs": [],
   "source": []
  },
  {
   "cell_type": "code",
   "execution_count": null,
   "metadata": {},
   "outputs": [],
   "source": []
  },
  {
   "cell_type": "code",
   "execution_count": null,
   "metadata": {},
   "outputs": [],
   "source": [
    "#client.restart(timeout=600)"
   ]
  },
  {
   "cell_type": "code",
   "execution_count": null,
   "metadata": {},
   "outputs": [],
   "source": []
  },
  {
   "cell_type": "code",
   "execution_count": null,
   "metadata": {},
   "outputs": [],
   "source": []
  },
  {
   "cell_type": "code",
   "execution_count": null,
   "metadata": {},
   "outputs": [],
   "source": []
  },
  {
   "cell_type": "code",
   "execution_count": null,
   "metadata": {},
   "outputs": [],
   "source": []
  },
  {
   "cell_type": "code",
   "execution_count": null,
   "metadata": {},
   "outputs": [],
   "source": []
  }
 ],
 "metadata": {
  "kernelspec": {
   "display_name": "Python 3",
   "language": "python",
   "name": "python3"
  },
  "language_info": {
   "codemirror_mode": {
    "name": "ipython",
    "version": 3
   },
   "file_extension": ".py",
   "mimetype": "text/x-python",
   "name": "python",
   "nbconvert_exporter": "python",
   "pygments_lexer": "ipython3",
   "version": "3.6.7"
  },
  "toc": {
   "base_numbering": 1,
   "nav_menu": {},
   "number_sections": true,
   "sideBar": true,
   "skip_h1_title": false,
   "title_cell": "Table of Contents",
   "title_sidebar": "Contents",
   "toc_cell": false,
   "toc_position": {},
   "toc_section_display": true,
   "toc_window_display": false
  }
 },
 "nbformat": 4,
 "nbformat_minor": 2
}
