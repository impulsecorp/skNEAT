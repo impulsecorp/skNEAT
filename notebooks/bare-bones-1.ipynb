{
 "cells": [
  {
   "cell_type": "code",
   "execution_count": null,
   "metadata": {},
   "outputs": [],
   "source": [
    "%pylab inline\n",
    "%autosave 20\n",
    "import os\n",
    "os.environ['KERAS_BACKEND']='theano'\n",
    "import keras\n",
    "import sys\n",
    "sys.path.append('/home/peter')\n",
    "sys.path.append('/home/peter/code/projects/MultiNEAT')\n",
    "sys.path.append('/home/ubuntu')\n",
    "from universal import *\n",
    "sys.path.append('/home/peter/code/projects')\n",
    "sys.path.append('/home/peter/code/projects/deepneat')\n",
    "sys.path.append('/home/ubuntu')\n",
    "sys.path.append('/home/ubuntu/new/automl')\n",
    "from aidevutil import *\n",
    "from keras.utils.vis_utils import plot_model\n",
    "from tqdm import tqdm_notebook as tqdm\n",
    "from deepneat import *"
   ]
  },
  {
   "cell_type": "code",
   "execution_count": null,
   "metadata": {},
   "outputs": [],
   "source": [
    "from dask import compute, delayed, persist\n",
    "from dask.distributed import Client, wait\n",
    "from dask.distributed import as_completed"
   ]
  },
  {
   "cell_type": "code",
   "execution_count": null,
   "metadata": {},
   "outputs": [],
   "source": [
    "import ipywidgets as widgets"
   ]
  },
  {
   "cell_type": "code",
   "execution_count": null,
   "metadata": {},
   "outputs": [],
   "source": []
  },
  {
   "cell_type": "code",
   "execution_count": null,
   "metadata": {},
   "outputs": [],
   "source": [
    "(x_train, y_train), (x_test, y_test) = get_mnist(size=(28,28))\n",
    "dx = x_train.reshape(x_train.shape[0], -1)\n",
    "dy = y_train\n",
    "\n",
    "dx_test = x_test.reshape(x_test.shape[0], -1)"
   ]
  },
  {
   "cell_type": "code",
   "execution_count": null,
   "metadata": {},
   "outputs": [],
   "source": []
  },
  {
   "cell_type": "code",
   "execution_count": null,
   "metadata": {},
   "outputs": [],
   "source": [
    "rf = np.arange(dx.shape[1])\n",
    "rf = rnd.sample(rf.tolist(), 16)\n",
    "dx = dx[:, rf]\n",
    "dx_test = dx_test[:, rf]"
   ]
  },
  {
   "cell_type": "code",
   "execution_count": null,
   "metadata": {},
   "outputs": [],
   "source": []
  },
  {
   "cell_type": "code",
   "execution_count": null,
   "metadata": {},
   "outputs": [],
   "source": [
    "###################\n",
    "# Prototype Nodes #\n",
    "###################\n",
    "#\n",
    "# Linear, PCA\n",
    "#\n",
    "# LogisticRegression\n",
    "#\n",
    "#"
   ]
  },
  {
   "cell_type": "code",
   "execution_count": null,
   "metadata": {
    "code_folding": [
     0
    ],
    "run_control": {
     "marked": false
    }
   },
   "outputs": [],
   "source": [
    "# NEAT Parameters \n",
    "params = NEAT.Parameters()\n",
    "\n",
    "params.PopulationSize = 300\n",
    "params.DynamicCompatibility = True\n",
    "params.YoungAgeTreshold = 3\n",
    "params.SpeciesMaxStagnation = 10\n",
    "params.OldAgeTreshold = 10\n",
    "params.MinSpecies = 1\n",
    "params.MaxSpecies = 12\n",
    "params.RouletteWheelSelection = False\n",
    "params.ArchiveEnforcement = False\n",
    "params.InnovationsForever = True\n",
    "\n",
    "params.ConstraintTrials = 128\n",
    "\n",
    "params.MutateAddNeuronProb = 0.15/3\n",
    "params.MutateAddLinkProb = 0.5/3\n",
    "params.MutateRemLinkProb = 0.1/3\n",
    "params.RecurrentProb = 0.0\n",
    "params.MaxWeight = 1.0\n",
    "\n",
    "params.MutateWeightsProb = 0.0\n",
    "params.MutateActivationAProb = 0.0\n",
    "params.MutateActivationBProb = 0.0\n",
    "params.MutateNeuronTimeConstantsProb = 0.0\n",
    "params.MutateNeuronBiasesProb = 0.0\n",
    "\n",
    "params.MutateGenomeTraitsProb = 0.0\n",
    "params.MutateNeuronTraitsProb = 0.5\n",
    "params.MutateLinkTraitsProb = 0.0\n",
    "\n",
    "params.OverallMutationRate = 0.5\n",
    "params.CrossoverRate = 0.7\n",
    "params.MultipointCrossoverRate = 0.4\n",
    "params.SurvivalRate = 0.2\n",
    "params.InterspeciesCrossoverRate = 0.005\n",
    "params.PreferFitterParentRate = 0.5\n",
    "\n",
    "params.DontUseBiasNeuron = True\n",
    "params.AllowLoops = False\n",
    "params.AllowClones = True\n",
    "\n",
    "params.ExcessCoeff = 1.0\n",
    "params.DisjointCoeff = 1.0\n",
    "\n",
    "params.WeightDiffCoeff = 0.0\n",
    "params.TimeConstantDiffCoeff = 0.0\n",
    "params.BiasDiffCoeff = 0.0\n",
    "params.ActivationADiffCoeff = 0.0\n",
    "params.ActivationBDiffCoeff = 0.0\n",
    "params.NormalizeGenomeSize = True\n",
    "\n",
    "params.MinCompatTreshold = 0.0\n",
    "params.CompatTreshold = 1.25\n",
    "params.CompatTreshChangeInterval_Evaluations = 1\n",
    "params.CompatTresholdModifier = 0.002"
   ]
  },
  {
   "cell_type": "code",
   "execution_count": null,
   "metadata": {},
   "outputs": [],
   "source": []
  },
  {
   "cell_type": "code",
   "execution_count": null,
   "metadata": {
    "code_folding": [
     1
    ]
   },
   "outputs": [],
   "source": [
    "# This is the custom trait\n",
    "class BaseObject:\n",
    "    def __init__(self):\n",
    "        pass\n",
    "        \n",
    "    def mate(self, other):\n",
    "        baby = BaseObject()\n",
    "        return baby\n",
    "    \n",
    "    def mutate(self):\n",
    "        baby = BaseObject()\n",
    "        return baby\n",
    "    \n",
    "    def distance_to(self, other):\n",
    "        return rnd.uniform(0,1)"
   ]
  },
  {
   "cell_type": "code",
   "execution_count": null,
   "metadata": {},
   "outputs": [],
   "source": [
    "class genePCA(BaseObject):\n",
    "    def __init__(self):\n",
    "        print('Derived1 init called.')\n",
    "    \n",
    "    def mate(self, other):\n",
    "        print('Derived1 mate called')\n",
    "        return Derived1()\n",
    "    \n",
    "    def mutate(self):\n",
    "        print('Derived1 mutate called')\n",
    "        return Derived1()\n",
    "    \n",
    "    def distance_to(self, other):\n",
    "        print('Derived1 distance_to called')\n",
    "        return rnd.uniform(0,1)"
   ]
  },
  {
   "cell_type": "code",
   "execution_count": null,
   "metadata": {},
   "outputs": [],
   "source": [
    "class geneLinear(BaseObject):\n",
    "    def __init__(self):\n",
    "        self.x = rnd.uniform(0,1)\n",
    "    \n",
    "    def mate(self, other):\n",
    "        return Derived2()\n",
    "    \n",
    "    def mutate(self):\n",
    "        return Derived2()\n",
    "    \n",
    "    def distance_to(self, other):\n",
    "        return rnd.uniform(0,1)"
   ]
  },
  {
   "cell_type": "code",
   "execution_count": null,
   "metadata": {},
   "outputs": [],
   "source": [
    "class geneLogisticRegression(BaseObject):\n",
    "    def __init__(self):\n",
    "        self.x = rnd.uniform(0,1)\n",
    "    \n",
    "    def mate(self, other):\n",
    "        return Derived2()\n",
    "    \n",
    "    def mutate(self):\n",
    "        return Derived2()\n",
    "    \n",
    "    def distance_to(self, other):\n",
    "        return rnd.uniform(0,1)"
   ]
  },
  {
   "cell_type": "code",
   "execution_count": null,
   "metadata": {},
   "outputs": [],
   "source": [
    "derived_list = [Derived1, Derived2]\n",
    "probs = [1.0]*len(derived_list)"
   ]
  },
  {
   "cell_type": "code",
   "execution_count": null,
   "metadata": {},
   "outputs": [],
   "source": []
  },
  {
   "cell_type": "code",
   "execution_count": null,
   "metadata": {},
   "outputs": [],
   "source": []
  },
  {
   "cell_type": "code",
   "execution_count": null,
   "metadata": {},
   "outputs": [],
   "source": []
  },
  {
   "cell_type": "code",
   "execution_count": null,
   "metadata": {
    "code_folding": []
   },
   "outputs": [],
   "source": [
    "# Set traits\n",
    "\n",
    "# merge mode\n",
    "s = ['concat',\n",
    "    # when dimensions match, these can be done, otherwise it defaults to concat\n",
    "     'add','mul','avg','min','max',\n",
    "    ]\n",
    "p = [1.0] * len(s)\n",
    "mm = {'details': {'set': s, 'probs': p},\n",
    "      'importance_coeff': 0.0,\n",
    "      'mutation_prob': 0.3,\n",
    "      'type': 'str'}\n",
    "\n",
    "# node type\n",
    "s = ['linear', 'pca']\n",
    "p = [1.0] * len(s)\n",
    "nt = {'details': {'set': s, 'probs': p},\n",
    "      'importance_coeff': 0.2,\n",
    "      'mutation_prob': 0.4,\n",
    "      'type': 'str'}\n",
    "\n",
    "params.SetNeuronTraitParameters('mm', mm)\n",
    "params.SetNeuronTraitParameters('nt', nt)"
   ]
  },
  {
   "cell_type": "code",
   "execution_count": null,
   "metadata": {},
   "outputs": [],
   "source": [
    "node = {'details': (derived_list, probs),\n",
    "          'importance_coeff': 0.1,\n",
    "          'mutation_prob': 0.2,\n",
    "          'type': 'pyclassset'}\n",
    "\n",
    "params.SetNeuronTraitParameters('node', node)"
   ]
  },
  {
   "cell_type": "code",
   "execution_count": null,
   "metadata": {},
   "outputs": [],
   "source": []
  },
  {
   "cell_type": "code",
   "execution_count": null,
   "metadata": {},
   "outputs": [],
   "source": [
    "num_inputs = 1\n",
    "num_outputs = 1"
   ]
  },
  {
   "cell_type": "code",
   "execution_count": null,
   "metadata": {},
   "outputs": [],
   "source": [
    "num_input_dims = dx.shape[1]\n",
    "num_output_dims = 1"
   ]
  },
  {
   "cell_type": "code",
   "execution_count": null,
   "metadata": {},
   "outputs": [],
   "source": []
  },
  {
   "cell_type": "code",
   "execution_count": null,
   "metadata": {
    "code_folding": []
   },
   "outputs": [],
   "source": [
    "g = NEAT.Genome(0, num_inputs, 1, num_outputs, 0, NEAT.ActivationFunction.RELU,\n",
    "                    NEAT.ActivationFunction.RELU, 0, params, 0, 1)"
   ]
  },
  {
   "cell_type": "code",
   "execution_count": null,
   "metadata": {
    "code_folding": []
   },
   "outputs": [],
   "source": [
    "pop = NEAT.Population(g, params, True, 1.0, 0)\n",
    "pop.RNG.Seed(int(time.clock()*100))"
   ]
  },
  {
   "cell_type": "code",
   "execution_count": null,
   "metadata": {},
   "outputs": [],
   "source": [
    "pop.Species[0].Individuals[0].GetNeuronTraits()[-1][-1]['node'].x"
   ]
  },
  {
   "cell_type": "code",
   "execution_count": null,
   "metadata": {},
   "outputs": [],
   "source": []
  },
  {
   "cell_type": "code",
   "execution_count": null,
   "metadata": {},
   "outputs": [],
   "source": []
  },
  {
   "cell_type": "code",
   "execution_count": null,
   "metadata": {},
   "outputs": [],
   "source": [
    "pop.Parameters.AllowClones = False"
   ]
  },
  {
   "cell_type": "code",
   "execution_count": null,
   "metadata": {},
   "outputs": [],
   "source": [
    "gr = NEAT.Genome2NX(g)"
   ]
  },
  {
   "cell_type": "code",
   "execution_count": null,
   "metadata": {
    "code_folding": [
     29
    ],
    "run_control": {
     "marked": false
    }
   },
   "outputs": [],
   "source": [
    "def activate_graph(gr, inputs, num_outputs=1):\n",
    "    \"\"\"\n",
    "    allnodes = list(nx.dfs_postorder_nodes(gr))[::-1]\n",
    "    for a in allnodes: gr.node[a]['act'] = None\n",
    "    \n",
    "    # separate input from non-input nodes\n",
    "    #onlyinputs = sorted([x for x in allnodes if x <= num_inputs], reverse=True)\n",
    "    allnodes = [x for x in allnodes if x > num_inputs]\n",
    "    \n",
    "    # input the data\n",
    "    for i,inp in zip(range(1, num_inputs+1), inputs): \n",
    "        gr.node[i]['act'] = inp.reshape(-1)\n",
    "        \n",
    "    # pass through the graph\n",
    "    for an in allnodes:\n",
    "        #print(gr.node[a], end=' ')\n",
    "        mm = gr.node[an]['mm']\n",
    "        \n",
    "        #slope = gr.node[an]['slope']\n",
    "        \n",
    "        # collect the inputs to this node\n",
    "        \n",
    "        # also sort the incoming edges by id for consistency\n",
    "        inedg = list(gr.in_edges(an))\n",
    "        #inedg = sorted(inedg, key = lambda x: x[0])\n",
    "        inps = [gr.node[i]['act'] for i,o in inedg]\n",
    "        inps = np.vstack(inps)\n",
    "        \n",
    "        sact = np.sum(inps, axis=0) # this node's default activation\n",
    "\n",
    "        if 1:\n",
    "            if mm=='add':\n",
    "                act = sact\n",
    "            if mm=='neg':\n",
    "                act = -sact\n",
    "            if mm=='mul':\n",
    "                act = np.prod(inps, axis=0)\n",
    "            if mm=='inv':\n",
    "                act = 1.0 / sact\n",
    "            if mm=='sqr':\n",
    "                act = sact**2\n",
    "            if mm=='cube':\n",
    "                act = sact**3\n",
    "            if mm=='sqrt':\n",
    "                act = np.sqrt(sact)\n",
    "            if mm=='sin':\n",
    "                act = np.sin(sact)\n",
    "            if mm=='cos':\n",
    "                act = np.cos(sact)\n",
    "            if mm=='log':\n",
    "                act = np.log(sact)\n",
    "            if mm=='exp':\n",
    "                act = np.exp(sact)\n",
    "            if mm=='abs':\n",
    "                act = np.abs(sact)\n",
    "            if mm=='tan':\n",
    "                act = np.tan(sact)\n",
    "            if mm=='min':\n",
    "                act = np.min(inps, axis=0)\n",
    "            if mm=='max':\n",
    "                act = np.max(inps, axis=0)\n",
    "            if mm=='mean':\n",
    "                act = np.mean(inps, axis=0)\n",
    "            if mm=='argmax':\n",
    "                act = np.argmax(inps, axis=0)\n",
    "            if mm=='smax':\n",
    "                s = np.exp(inps) / np.sum(np.exp(inps))\n",
    "                act = s[np.argmax(s, axis=0)]\n",
    "            if mm=='var':\n",
    "                act = np.var(inps, axis=0)\n",
    "            if mm=='std':\n",
    "                act = np.std(inps, axis=0)\n",
    "        \n",
    "        #except:\n",
    "        #    act = sact\n",
    "\n",
    "        # apply slope and bias\n",
    "        act = act + bias\n",
    "        #act = act.reshape(1,-1)\n",
    "        \n",
    "        # store activation\n",
    "        gr.node[an]['act'] = act \n",
    "        \n",
    "    #print('act:', act)\n",
    "    outputs = [gr.node[o]['act'] for o in allnodes[-num_outputs:]]\n",
    "    \"\"\"\n",
    "    return np.array([0.0])#outputs"
   ]
  },
  {
   "cell_type": "code",
   "execution_count": null,
   "metadata": {},
   "outputs": [],
   "source": [
    "ak = dx.T\n",
    "ak.shape"
   ]
  },
  {
   "cell_type": "raw",
   "metadata": {},
   "source": [
    "activate_graph(gr, ak)[0]"
   ]
  },
  {
   "cell_type": "raw",
   "metadata": {},
   "source": [
    "%%timeit \n",
    "\n",
    "activate_graph(gr, ak)[0]"
   ]
  },
  {
   "cell_type": "code",
   "execution_count": null,
   "metadata": {},
   "outputs": [],
   "source": [
    "imshow(NEAT.viz.Draw(g));"
   ]
  },
  {
   "cell_type": "code",
   "execution_count": null,
   "metadata": {},
   "outputs": [],
   "source": [
    "#g.GetNeuronTraits()"
   ]
  },
  {
   "cell_type": "code",
   "execution_count": null,
   "metadata": {},
   "outputs": [],
   "source": [
    "#gr.node[3]['mm']='sqr'"
   ]
  },
  {
   "cell_type": "code",
   "execution_count": null,
   "metadata": {},
   "outputs": [],
   "source": []
  },
  {
   "cell_type": "code",
   "execution_count": null,
   "metadata": {},
   "outputs": [],
   "source": []
  },
  {
   "cell_type": "code",
   "execution_count": null,
   "metadata": {},
   "outputs": [],
   "source": []
  },
  {
   "cell_type": "code",
   "execution_count": null,
   "metadata": {
    "code_folding": []
   },
   "outputs": [],
   "source": [
    "# evaluation function\n",
    "\n",
    "def evaluate(args):\n",
    "    idx, gr, dx, dy = args\n",
    "    datata = np.vstack([dx.T] + [np.ones((dx.shape[0],), dtype=np.float64)*x \n",
    "                                 for x in consts])\n",
    "    at = activate_graph(gr, datata)[0]\n",
    "    #at = at[~np.isnan(at)]# = 0\n",
    "    #at = at[~np.isinf(at)]# = 0\n",
    "    f = 100000000.0 - np.mean(np.abs(at.reshape(-1) - dy.reshape(-1)))\n",
    "    f = np.clip(f, 0.0, 100000000.0)            \n",
    "    return idx, f\n",
    "\n",
    "def decide(x):\n",
    "    return 100000000.0-x"
   ]
  },
  {
   "cell_type": "raw",
   "metadata": {},
   "source": [
    "%%timeit \n",
    "\n",
    "# one evaluation takes this much time on one core\n",
    "evaluate((0,NEAT.Genome2NX(g), dx,dy))"
   ]
  },
  {
   "cell_type": "code",
   "execution_count": null,
   "metadata": {},
   "outputs": [],
   "source": []
  },
  {
   "cell_type": "code",
   "execution_count": null,
   "metadata": {},
   "outputs": [],
   "source": [
    "if debugxy:\n",
    "    # now test a simple evolutionary run\n",
    "    def target(x, y, *args):\n",
    "        return x**2 - y#**2\n",
    "\n",
    "    args = [(float(i-50),#rnd.uniform(-100,100), \n",
    "             float(i-50),#rnd.uniform(-100,100),\n",
    "            ) + tuple(consts) for i in range(100)]\n",
    "    gt = np.array([target(*(x)) for x in args])\n",
    "    inn = np.array(args).T\n",
    "\n",
    "    def evaluate(aaargs):\n",
    "        idx, grr, dx, dy = aaargs\n",
    "\n",
    "        at = activate_graph(grr, inn)[0]\n",
    "        #at[np.isnan(at)] = 0\n",
    "        #at[np.isinf(at)] = 0\n",
    "        err = 100000000.0 - np.mean(np.abs(gt.reshape(-1) - at.reshape(-1)))\n",
    "        err = np.clip(err, 0.0, 100000000.0) \n",
    "        #print(err)\n",
    "\n",
    "        return idx, err\n",
    "    \n",
    "    def decide(x):\n",
    "        return 100000000.0-x"
   ]
  },
  {
   "cell_type": "code",
   "execution_count": null,
   "metadata": {},
   "outputs": [],
   "source": [
    "if debugxy:\n",
    "    print(gt.shape, inn.shape)"
   ]
  },
  {
   "cell_type": "raw",
   "metadata": {},
   "source": [
    "if debugxy:\n",
    "    at = activate_graph(gr, inn)[0].reshape(-1)\n",
    "    print(at.shape)"
   ]
  },
  {
   "cell_type": "code",
   "execution_count": null,
   "metadata": {},
   "outputs": [],
   "source": [
    "#gt"
   ]
  },
  {
   "cell_type": "code",
   "execution_count": null,
   "metadata": {},
   "outputs": [],
   "source": [
    "#at"
   ]
  },
  {
   "cell_type": "code",
   "execution_count": null,
   "metadata": {},
   "outputs": [],
   "source": []
  },
  {
   "cell_type": "raw",
   "metadata": {
    "scrolled": true
   },
   "source": []
  },
  {
   "cell_type": "code",
   "execution_count": null,
   "metadata": {},
   "outputs": [],
   "source": [
    "if socket.gethostname() == 'desktop':\n",
    "    cluster='192.168.0.108:8786'\n",
    "else:\n",
    "    cluster='172.31.43.76:8786'"
   ]
  },
  {
   "cell_type": "code",
   "execution_count": null,
   "metadata": {},
   "outputs": [],
   "source": [
    "import time\n",
    "st = time.time()\n",
    "print('Connecting..')\n",
    "if cluster:\n",
    "    client = Client(cluster)\n",
    "else:\n",
    "    client = Client()\n",
    "# push the data to the cluster\n",
    "print('Scattering data to cluster..')\n",
    "if not debugxy:\n",
    "    fx = client.scatter(dx, broadcast=True, direct=True)\n",
    "    fy = client.scatter(dy, broadcast=True, direct=True)\n",
    "else:\n",
    "    fx, fy = None, None\n",
    "print(f'done in {time.time()-st} seconds')"
   ]
  },
  {
   "cell_type": "code",
   "execution_count": null,
   "metadata": {},
   "outputs": [],
   "source": []
  },
  {
   "cell_type": "code",
   "execution_count": null,
   "metadata": {},
   "outputs": [],
   "source": []
  },
  {
   "cell_type": "code",
   "execution_count": null,
   "metadata": {},
   "outputs": [],
   "source": [
    "#evaluate((0, NEAT.Genome2NX(pop.Species[0].Individuals[2]), dx, dy))"
   ]
  },
  {
   "cell_type": "code",
   "execution_count": null,
   "metadata": {},
   "outputs": [],
   "source": []
  },
  {
   "cell_type": "raw",
   "metadata": {
    "scrolled": true
   },
   "source": []
  },
  {
   "cell_type": "code",
   "execution_count": null,
   "metadata": {},
   "outputs": [],
   "source": [
    "display_whole_pop = 0\n",
    "display_max_species = 8\n",
    "initeval = 0\n",
    "evaluations = 10000\n",
    "display_pop_each = 80000\n",
    "once = False\n",
    "x_shape, ys = dx.shape[1], 1\n",
    "population = params.PopulationSize\n",
    "\n",
    "penalize_stangation = 1\n",
    "penalize_stagnation_evals = 2400\n",
    "\n",
    "evhist = []\n",
    "best_ever = 0\n",
    "best_gs = []"
   ]
  },
  {
   "cell_type": "code",
   "execution_count": null,
   "metadata": {},
   "outputs": [],
   "source": [
    "def poplen(pop):\n",
    "    return sum([len(x.Individuals) for x in pop.Species])"
   ]
  },
  {
   "cell_type": "code",
   "execution_count": null,
   "metadata": {
    "code_folding": [
     0
    ]
   },
   "outputs": [],
   "source": [
    "def prettydict(d, nonl=False):\n",
    "    i,t,di = d\n",
    "    if not nonl:\n",
    "        ks = '%d - %s: ' % (i, t)\n",
    "    else:\n",
    "        return '%d - %s' % (i, t)\n",
    "    s = []\n",
    "    for k,v in sorted(list(di.items())):\n",
    "        if isinstance(v, float):\n",
    "            s.append( '%s %3.3f' % (k[0:1], v) )\n",
    "        else:\n",
    "            s.append( '%s %s' % (k[0:1], v) )\n",
    "    return ks + ', '.join(s)"
   ]
  },
  {
   "cell_type": "code",
   "execution_count": null,
   "metadata": {
    "code_folding": [
     0
    ]
   },
   "outputs": [],
   "source": [
    "def species_display(pop):\n",
    "    genomes = [x.GetLeader() for x in pop.Species][0:display_max_species]\n",
    "    f, axes = plt.subplots(1, len(genomes), figsize=(len(genomes) * 4.5, 14))\n",
    "    print('Species Representatives:')\n",
    "    if len(genomes)>1:\n",
    "        for i,(ax, g) in enumerate(zip(axes, genomes)):\n",
    "            try:\n",
    "                img = NEAT.viz.Draw(g, size=(300, 400))[:, 0:230]\n",
    "                ax.imshow(img)\n",
    "                ax.set_title('%3.6f | %3.2f%%' % (decide(g.GetFitness()),\n",
    "                                                  (len(pop.Species[i].Individuals)/poplen(pop))*100 ))\n",
    "                s = '\\n'.join([prettydict(x) for x in g.GetNeuronTraits() if x[1] != 'input'][0:8])\n",
    "                s += '\\n=============\\n'\n",
    "                s += '\\n'.join([prettydict(x, nonl=True) for x in g.GetLinkTraits()][0:8])\n",
    "                ax.set_xlabel(s)\n",
    "            except Exception as ex:\n",
    "                print(ex)\n",
    "    else:\n",
    "        try:\n",
    "            g = pop.GetBestGenome()\n",
    "            img = NEAT.viz.Draw(g, size=(300, 400))[:, 0:230]\n",
    "            axes.imshow(img)\n",
    "            axes.set_title('%3.6f' % (decide(g.GetFitness())))\n",
    "            s = '\\n'.join([prettydict(x) for x in g.GetNeuronTraits() if x[1] != 'input'][0:8])\n",
    "            s += '\\n=============\\n'\n",
    "            s += '\\n'.join([prettydict(x, nonl=True) for x in g.GetLinkTraits()][0:8])\n",
    "            axes.set_xlabel(s)\n",
    "        except Exception as ex:\n",
    "            print(ex)\n",
    "    f.tight_layout()\n",
    "    plt.show()"
   ]
  },
  {
   "cell_type": "code",
   "execution_count": null,
   "metadata": {},
   "outputs": [],
   "source": []
  },
  {
   "cell_type": "code",
   "execution_count": null,
   "metadata": {},
   "outputs": [],
   "source": []
  },
  {
   "cell_type": "code",
   "execution_count": null,
   "metadata": {},
   "outputs": [],
   "source": []
  },
  {
   "cell_type": "code",
   "execution_count": null,
   "metadata": {
    "code_folding": [
     1,
     2,
     7,
     8,
     39,
     41,
     42,
     46,
     59,
     61,
     79
    ]
   },
   "outputs": [],
   "source": [
    "# rtNEAT code\n",
    "try:\n",
    "    if initeval:\n",
    "        print('============================================================')\n",
    "        print(\"Please wait for the initial evaluation to complete.\")\n",
    "        now = time.time()\n",
    "        genome_list = []\n",
    "        for s in pop.Species:\n",
    "            for i in s.Individuals:\n",
    "                genome_list.append(i)\n",
    "        sys.stdout.flush()\n",
    "        # turn them into NX networks\n",
    "        grlist = [NEAT.Genome2NX(x) for x in genome_list]\n",
    "        idlist = [x.GetID() for x in genome_list]\n",
    "        args = list(zip(idlist,\n",
    "                        grlist,\n",
    "                        [fx]*len(grlist),\n",
    "                        [fy]*len(grlist),\n",
    "                        ))\n",
    "\n",
    "        # evaluate all individuals\n",
    "        fitnesses = [0] * len(grlist)\n",
    "        vrs = [None] * len(grlist)\n",
    "        bar = ProgressBar(initial_value=0, max_value=len(grlist))\n",
    "        cp = [client.submit(evaluate, x) for x in args]\n",
    "        fff = {}\n",
    "        for i,ftr in enumerate(as_completed(cp)):\n",
    "            idx, fitness = ftr.result()\n",
    "            #fitnesses[idx] = fitness\n",
    "            fff[idx] = fitness\n",
    "            bar.update(i)\n",
    "        bar.finish()\n",
    "        \n",
    "        for gnm in genome_list:\n",
    "            gnm.SetFitness( fff[gnm.GetID()] )\n",
    "            gnm.SetEvaluated()\n",
    "\n",
    "        #NEAT.ZipFitness(genome_list, fitnesses)\n",
    "        print(\"Evaluation took\", '%3.2f' % (time.time() - now), \"seconds.\")\n",
    "    else:\n",
    "        # No initial evaluation, start off with small random fitness\n",
    "        for s in pop.Species:\n",
    "            for i in s.Individuals:\n",
    "                i.SetFitness(np.random.rand()/1000)\n",
    "        grlist = [NEAT.Genome2NX(x) for x in NEAT.GetGenomeList(pop)]\n",
    "        idlist = [x.GetID() for x in NEAT.GetGenomeList(pop)]\n",
    "        args = list(zip(idlist,\n",
    "                        grlist,\n",
    "                        [fx]*len(grlist),\n",
    "                        [fy]*len(grlist),\n",
    "                        ))\n",
    "        cp = [client.submit(evaluate, x) for x in args]\n",
    "\n",
    "    # get best fitness in population and print it\n",
    "    glist = NEAT.GetGenomeList(pop)\n",
    "    fitness_list = [x.GetFitness() for x in glist]\n",
    "    bidx = argmax(fitness_list)\n",
    "    best = fitness_list[bidx]\n",
    "    if initeval: evhist.append(decide(best))\n",
    "    if best > best_ever:\n",
    "        print('NEW RECORD!')\n",
    "        print('Evaluations:', 0,\n",
    "              'Fitness:', decide(best),\n",
    "              'Species:', len(pop.Species))\n",
    "        best_gs.append(NEAT.Genome2NX(glist[bidx]))\n",
    "        print('-------- nodes -------- ')\n",
    "        print('\\n'.join([str(x) for x in glist[bidx].GetNeuronTraits() if x[1] != 'input']))\n",
    "        print('-------- links -------- ')\n",
    "        print('\\n'.join([str(x) for x in glist[bidx].GetLinkTraits()]))\n",
    "        print('----------------------- ')\n",
    "        best_ever = best\n",
    "        if viz:\n",
    "            species_display(pop)\n",
    "\n",
    "    print('============================================================')\n",
    "    print('rtNEAT phase')\n",
    "    print('============================================================')\n",
    "\n",
    "    format_custom_text = FormatCustomText('CTresh: %(ctr).3f Species: %(sp)d Last fitness: %(fitness).3f Variance (min/max/mean/std): %(vr)s',\n",
    "        dict(\n",
    "            sp=0,\n",
    "            fitness=0.0,\n",
    "            vr=str([]),\n",
    "            ctr=0.0,\n",
    "        ),)\n",
    "\n",
    "    widgets = ['Evaluated: ', Counter('%(value)d'), ' ', format_custom_text,\n",
    "               ' (', Timer(), ') ', RotatingMarker(), FileTransferSpeed(unit='individuals') ]\n",
    "    bar = ProgressBar(widgets=widgets, initial_value=0, max_value=evaluations)\n",
    "\n",
    "\n",
    "    # parallel continious loop\n",
    "    seq = as_completed(cp)\n",
    "    i=0\n",
    "    olds = []\n",
    "    under_evaluation_now = len(cp)\n",
    "    for f in seq:\n",
    "        if i >= evaluations:\n",
    "            [x.cancel() for x in cp]\n",
    "            break\n",
    "        if i > 0: bar.update(i)\n",
    "        i += 1\n",
    "\n",
    "        # get result from evaluation\n",
    "        idx, fitness = f.result()\n",
    "        try:\n",
    "            if idx not in olds:\n",
    "                # set that individual's fitness\n",
    "                pop.AccessGenomeByID(idx).SetFitness(fitness)\n",
    "                pop.AccessGenomeByID(idx).SetEvaluated()\n",
    "                under_evaluation_now -= 1\n",
    "\n",
    "                thegenome = pop.AccessGenomeByID(idx)\n",
    "\n",
    "                # get best fitness in population and print it\n",
    "                evhist.append(decide(fitness))\n",
    "                if fitness > best_ever:\n",
    "                    print('NEW RECORD!')\n",
    "                    print('Evaluations:', i,\n",
    "                          'Fitness:', decide(fitness))\n",
    "                    best_gs.append(NEAT.Genome2NX(thegenome))\n",
    "                    print('-------- nodes -------- ')\n",
    "                    print('\\n'.join([str(x) for x in thegenome.GetNeuronTraits() if x[1] != 'input']))\n",
    "                    print('-------- links -------- ')\n",
    "                    print('\\n'.join([str(x) for x in thegenome.GetLinkTraits()]))\n",
    "                    print('----------------------- ')\n",
    "                    best_ever = fitness\n",
    "                    if viz:\n",
    "                        species_display(pop)\n",
    "                elif (i%display_pop_each)==0: \n",
    "                    if viz:\n",
    "                        species_display(pop)\n",
    "                    \n",
    "\n",
    "            else:\n",
    "                print(f'Fitness of genome #{idx} was not set.')\n",
    "                \n",
    "        except Exception as ex:\n",
    "            print(ex)\n",
    "        format_custom_text.update_mapping(fitness=decide(fitness),\n",
    "                                          sp=len(pop.Species),\n",
    "                                          ctr=pop.Parameters.CompatTreshold)\n",
    "        \n",
    "                \n",
    "        # apply exploration pressure to species\n",
    "        if penalize_stangation:\n",
    "            maxfit = max([x.GetFitness() for x in NEAT.GetGenomeList(pop)])\n",
    "            for s in pop.Species:\n",
    "                if s.EvalsNoImprovement > penalize_stagnation_evals:\n",
    "                    bf = max([x.GetFitness() for x in s.Individuals])\n",
    "                    # make an exception if that species contains the best genome so far\n",
    "                    if bf < maxfit:\n",
    "                        for ind in s.Individuals:\n",
    "                            ind.SetFitness(0.000000001)\n",
    "\n",
    "        # create new baby and add to list of tasks\n",
    "        # only add new babies if the population under evaluation is below N%\n",
    "        if under_evaluation_now <= (population*(1/3)):\n",
    "            if not once:\n",
    "                once=True\n",
    "                print(f'rtNEAT reproduction cycle started at evaluation #{i}')\n",
    "\n",
    "            old = NEAT.Genome()\n",
    "            baby = pop.Tick(old)\n",
    "            \n",
    "            for l in baby.LinkGenes: l.Weight = 0.1 # for prettier display    \n",
    "            \n",
    "            olds.append(old.GetID())\n",
    "            newf = client.submit(evaluate, (baby.GetID(),\n",
    "                                            NEAT.Genome2NX(baby),\n",
    "                                            fx,\n",
    "                                            fy,\n",
    "                                            ))\n",
    "            seq.add(newf)\n",
    "            under_evaluation_now += 1\n",
    "            \n",
    "except KeyboardInterrupt:\n",
    "    pass\n",
    "    \n",
    "except Exception as ex:\n",
    "    print(ex)\n",
    "\n",
    "client.restart(timeout=600)"
   ]
  },
  {
   "cell_type": "code",
   "execution_count": null,
   "metadata": {},
   "outputs": [],
   "source": []
  },
  {
   "cell_type": "code",
   "execution_count": null,
   "metadata": {},
   "outputs": [],
   "source": []
  },
  {
   "cell_type": "code",
   "execution_count": null,
   "metadata": {},
   "outputs": [],
   "source": []
  },
  {
   "cell_type": "raw",
   "metadata": {},
   "source": []
  },
  {
   "cell_type": "code",
   "execution_count": null,
   "metadata": {},
   "outputs": [],
   "source": []
  },
  {
   "cell_type": "code",
   "execution_count": null,
   "metadata": {},
   "outputs": [],
   "source": []
  },
  {
   "cell_type": "code",
   "execution_count": null,
   "metadata": {},
   "outputs": [],
   "source": []
  },
  {
   "cell_type": "code",
   "execution_count": null,
   "metadata": {},
   "outputs": [],
   "source": []
  },
  {
   "cell_type": "code",
   "execution_count": null,
   "metadata": {},
   "outputs": [],
   "source": []
  },
  {
   "cell_type": "code",
   "execution_count": null,
   "metadata": {},
   "outputs": [],
   "source": [
    "#client.restart(timeout=600)"
   ]
  },
  {
   "cell_type": "code",
   "execution_count": null,
   "metadata": {},
   "outputs": [],
   "source": []
  },
  {
   "cell_type": "code",
   "execution_count": null,
   "metadata": {},
   "outputs": [],
   "source": []
  },
  {
   "cell_type": "code",
   "execution_count": null,
   "metadata": {},
   "outputs": [],
   "source": []
  },
  {
   "cell_type": "code",
   "execution_count": null,
   "metadata": {},
   "outputs": [],
   "source": []
  },
  {
   "cell_type": "code",
   "execution_count": null,
   "metadata": {},
   "outputs": [],
   "source": []
  }
 ],
 "metadata": {
  "kernelspec": {
   "display_name": "Python 3",
   "language": "python",
   "name": "python3"
  },
  "language_info": {
   "codemirror_mode": {
    "name": "ipython",
    "version": 3
   },
   "file_extension": ".py",
   "mimetype": "text/x-python",
   "name": "python",
   "nbconvert_exporter": "python",
   "pygments_lexer": "ipython3",
   "version": "3.6.7"
  },
  "toc": {
   "base_numbering": 1,
   "nav_menu": {},
   "number_sections": true,
   "sideBar": true,
   "skip_h1_title": false,
   "title_cell": "Table of Contents",
   "title_sidebar": "Contents",
   "toc_cell": false,
   "toc_position": {},
   "toc_section_display": true,
   "toc_window_display": false
  }
 },
 "nbformat": 4,
 "nbformat_minor": 2
}
