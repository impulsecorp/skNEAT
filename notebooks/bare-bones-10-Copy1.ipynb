{
 "cells": [
  {
   "cell_type": "code",
   "execution_count": 1,
   "metadata": {},
   "outputs": [
    {
     "name": "stdout",
     "output_type": "stream",
     "text": [
      "Populating the interactive namespace from numpy and matplotlib\n"
     ]
    },
    {
     "data": {
      "application/javascript": [
       "IPython.notebook.set_autosave_interval(20000)"
      ]
     },
     "metadata": {},
     "output_type": "display_data"
    },
    {
     "name": "stdout",
     "output_type": "stream",
     "text": [
      "Autosaving every 20 seconds\n"
     ]
    },
    {
     "name": "stderr",
     "output_type": "stream",
     "text": [
      "Using Theano backend.\n",
      "Using cuDNN version 7103 on context None\n",
      "Mapped name None to device cuda: GeForce GTX 1050 with Max-Q Design (0000:02:00.0)\n"
     ]
    },
    {
     "name": "stdout",
     "output_type": "stream",
     "text": [
      "vizdoom could not be imported\n",
      "Pixiedust database opened successfully\n"
     ]
    },
    {
     "data": {
      "text/html": [
       "\n",
       "        <div style=\"margin:10px\">\n",
       "            <a href=\"https://github.com/ibm-watson-data-lab/pixiedust\" target=\"_new\">\n",
       "                <img src=\"https://github.com/ibm-watson-data-lab/pixiedust/raw/master/docs/_static/pd_icon32.png\" style=\"float:left;margin-right:10px\"/>\n",
       "            </a>\n",
       "            <span>Pixiedust version 1.1.15</span>\n",
       "        </div>\n",
       "        "
      ],
      "text/plain": [
       "<IPython.core.display.HTML object>"
      ]
     },
     "metadata": {},
     "output_type": "display_data"
    },
    {
     "name": "stderr",
     "output_type": "stream",
     "text": [
      "[MLENS] backend: threading\n"
     ]
    }
   ],
   "source": [
    "%pylab inline\n",
    "%autosave 20\n",
    "import warnings\n",
    "warnings.filterwarnings('ignore')\n",
    "import os\n",
    "os.environ['KERAS_BACKEND']='theano'\n",
    "import keras\n",
    "import sys\n",
    "sys.path.append('/home/peter')\n",
    "sys.path.append('/home/peter/code/projects/MultiNEAT')\n",
    "sys.path.append('/home/ubuntu')\n",
    "from universal import *\n",
    "sys.path.append('/home/peter/code/projects')\n",
    "sys.path.append('/home/peter/code/work/automl')\n",
    "sys.path.append('/home/peter/code/projects/deepneat')\n",
    "sys.path.append('/home/ubuntu')\n",
    "sys.path.append('/home/ubuntu/new/automl')\n",
    "from aidevutil import *\n",
    "from keras.utils.vis_utils import plot_model\n",
    "from tqdm import tqdm_notebook as tqdm\n",
    "from deepneat import *\n",
    "from sklearn.model_selection import StratifiedKFold\n",
    "from project_common import *"
   ]
  },
  {
   "cell_type": "code",
   "execution_count": 2,
   "metadata": {},
   "outputs": [],
   "source": [
    "from dask import compute, delayed, persist\n",
    "from dask.distributed import Client, wait\n",
    "from dask.distributed import as_completed"
   ]
  },
  {
   "cell_type": "code",
   "execution_count": 3,
   "metadata": {},
   "outputs": [],
   "source": [
    "import ipywidgets as widgets"
   ]
  },
  {
   "cell_type": "code",
   "execution_count": 4,
   "metadata": {
    "code_folding": []
   },
   "outputs": [],
   "source": [
    "from sklearn.linear_model import LogisticRegression"
   ]
  },
  {
   "cell_type": "code",
   "execution_count": 5,
   "metadata": {
    "code_folding": []
   },
   "outputs": [],
   "source": [
    "from sklearn.svm import SVC"
   ]
  },
  {
   "cell_type": "markdown",
   "metadata": {},
   "source": [
    "### Load data"
   ]
  },
  {
   "cell_type": "code",
   "execution_count": 6,
   "metadata": {},
   "outputs": [],
   "source": [
    "(x_train, y_train), (x_test, y_test) = get_mnist(size=(5,5), nrows=4000, nrows_test=500)\n",
    "dx = x_train.reshape(x_train.shape[0], -1)\n",
    "dy = y_train.reshape(-1, 1)\n",
    "\n",
    "dx_test = x_test.reshape(x_test.shape[0], -1)"
   ]
  },
  {
   "cell_type": "code",
   "execution_count": 7,
   "metadata": {
    "code_folding": [
     0,
     3,
     6
    ]
   },
   "outputs": [],
   "source": [
    "def revsigm(data):\n",
    "    return 1.-(1./(1.+np.exp(-data)))\n",
    "\n",
    "def Outputs(data):\n",
    "    return np.round(revsigm(data))\n",
    "    \n",
    "def MungeData(data):\n",
    "    # Sex\n",
    "    data.drop(['Ticket', 'Name'], inplace=True, axis=1)\n",
    "    data.Sex.fillna('0', inplace=True)\n",
    "    data.loc[data.Sex != 'male', 'Sex'] = 0\n",
    "    data.loc[data.Sex == 'male', 'Sex'] = 1\n",
    "    # Cabin\n",
    "    cabin_const = 1\n",
    "    data.Cabin.fillna(str(cabin_const), inplace=True)\n",
    "    data.loc[data.Cabin.str[0] == 'A', 'Cabin'] = cabin_const\n",
    "    data.loc[data.Cabin.str[0] == 'B', 'Cabin'] = cabin_const\n",
    "    data.loc[data.Cabin.str[0] == 'C', 'Cabin'] = cabin_const\n",
    "    data.loc[data.Cabin.str[0] == 'D', 'Cabin'] = cabin_const\n",
    "    data.loc[data.Cabin.str[0] == 'E', 'Cabin'] = cabin_const\n",
    "    data.loc[data.Cabin.str[0] == 'F', 'Cabin'] = cabin_const\n",
    "    data.loc[data.Cabin.str[0] == 'G', 'Cabin'] = cabin_const\n",
    "    data.loc[data.Cabin.str[0] == 'T', 'Cabin'] = cabin_const\n",
    "    # Embarked\n",
    "    data.loc[data.Embarked == 'C', 'Embarked'] = 1\n",
    "    data.loc[data.Embarked == 'Q', 'Embarked'] = 2\n",
    "    data.loc[data.Embarked == 'S', 'Embarked'] = 3\n",
    "    data.Embarked.fillna(0, inplace=True)\n",
    "    data.fillna(-1, inplace=True)\n",
    "    return data.astype(float)\n",
    "\n",
    "if socket.gethostname() in ['desktop','laptop']:\n",
    "    train = pd.read_csv(\"../../work/automl/titanic/train.csv\", dtype={\"Age\": np.float64}, )\n",
    "    test = pd.read_csv(\"../../work/automl/titanic/test.csv\", dtype={\"Age\": np.float64}, )\n",
    "else:\n",
    "    train = pd.read_csv(\"/home/ubuntu/new/automl/titanic/train.csv\", dtype={\"Age\": np.float64}, )\n",
    "    test = pd.read_csv(\"/home/ubuntu/new/automl/titanic/test.csv\", dtype={\"Age\": np.float64}, )\n",
    "    \n",
    "mdt = MungeData(train)\n",
    "\n",
    "dy = mdt['Survived'].values\n",
    "dx = mdt.drop(['Survived'], axis=1).values\n",
    "dx_test_df = MungeData(test)\n",
    "dx_test = dx_test_df.values"
   ]
  },
  {
   "cell_type": "code",
   "execution_count": null,
   "metadata": {},
   "outputs": [],
   "source": []
  },
  {
   "cell_type": "code",
   "execution_count": null,
   "metadata": {},
   "outputs": [],
   "source": []
  },
  {
   "cell_type": "code",
   "execution_count": 8,
   "metadata": {},
   "outputs": [
    {
     "data": {
      "text/plain": [
       "((891, 9), (891,))"
      ]
     },
     "execution_count": 8,
     "metadata": {},
     "output_type": "execute_result"
    }
   ],
   "source": [
    "dx.shape, dy.shape"
   ]
  },
  {
   "cell_type": "code",
   "execution_count": null,
   "metadata": {},
   "outputs": [],
   "source": []
  },
  {
   "cell_type": "raw",
   "metadata": {},
   "source": [
    "rf = np.arange(dx.shape[1])\n",
    "rf = rnd.sample(rf.tolist(), 16)\n",
    "dx = dx[:, rf]\n",
    "dx_test = dx_test[:, rf]"
   ]
  },
  {
   "cell_type": "code",
   "execution_count": null,
   "metadata": {},
   "outputs": [],
   "source": []
  },
  {
   "cell_type": "code",
   "execution_count": 9,
   "metadata": {},
   "outputs": [
    {
     "data": {
      "text/plain": [
       "((891, 9), (891,))"
      ]
     },
     "execution_count": 9,
     "metadata": {},
     "output_type": "execute_result"
    }
   ],
   "source": [
    "dx.shape, dy.shape"
   ]
  },
  {
   "cell_type": "code",
   "execution_count": null,
   "metadata": {},
   "outputs": [],
   "source": []
  },
  {
   "cell_type": "code",
   "execution_count": 10,
   "metadata": {},
   "outputs": [],
   "source": [
    "###################\n",
    "# Prototype Nodes #\n",
    "###################\n",
    "#\n",
    "# Linear, PCA\n",
    "#\n",
    "# LogisticRegression, SVC, DecisionTreeClassifier\n",
    "#\n",
    "#"
   ]
  },
  {
   "cell_type": "code",
   "execution_count": 11,
   "metadata": {
    "code_folding": [
     0
    ],
    "run_control": {
     "marked": false
    }
   },
   "outputs": [],
   "source": [
    "# NEAT Parameters \n",
    "params = NEAT.Parameters()\n",
    "\n",
    "params.PopulationSize = 300\n",
    "params.DynamicCompatibility = True\n",
    "params.YoungAgeTreshold = 3\n",
    "params.SpeciesMaxStagnation = 10\n",
    "params.OldAgeTreshold = 10\n",
    "params.MinSpecies = 1\n",
    "params.MaxSpecies = 12\n",
    "params.RouletteWheelSelection = False\n",
    "params.ArchiveEnforcement = False\n",
    "params.InnovationsForever = True\n",
    "\n",
    "params.ConstraintTrials = 128\n",
    "\n",
    "params.MutateAddNeuronProb = 0.15/3\n",
    "params.MutateAddLinkProb = 0.5/3\n",
    "params.MutateRemLinkProb = 0.1/3\n",
    "params.RecurrentProb = 0.0\n",
    "params.MaxWeight = 1.0\n",
    "\n",
    "params.MutateWeightsProb = 0.0\n",
    "params.MutateActivationAProb = 0.0\n",
    "params.MutateActivationBProb = 0.0\n",
    "params.MutateNeuronTimeConstantsProb = 0.0\n",
    "params.MutateNeuronBiasesProb = 0.0\n",
    "\n",
    "params.MutateGenomeTraitsProb = 0.0\n",
    "params.MutateNeuronTraitsProb = 0.5\n",
    "params.MutateLinkTraitsProb = 0.0\n",
    "\n",
    "params.OverallMutationRate = 0.5\n",
    "params.CrossoverRate = 0.7\n",
    "params.MultipointCrossoverRate = 0.4\n",
    "params.SurvivalRate = 0.2\n",
    "params.InterspeciesCrossoverRate = 0.005\n",
    "params.PreferFitterParentRate = 0.5\n",
    "\n",
    "params.DontUseBiasNeuron = True\n",
    "params.AllowLoops = False\n",
    "params.AllowClones = True\n",
    "\n",
    "params.ExcessCoeff = 1.0\n",
    "params.DisjointCoeff = 1.0\n",
    "\n",
    "params.WeightDiffCoeff = 0.0\n",
    "params.TimeConstantDiffCoeff = 0.0\n",
    "params.BiasDiffCoeff = 0.0\n",
    "params.ActivationADiffCoeff = 0.0\n",
    "params.ActivationBDiffCoeff = 0.0\n",
    "params.NormalizeGenomeSize = True\n",
    "\n",
    "params.MinCompatTreshold = 0.0\n",
    "params.CompatTreshold = 1.25\n",
    "params.CompatTreshChangeInterval_Evaluations = 1\n",
    "params.CompatTresholdModifier = 0.002"
   ]
  },
  {
   "cell_type": "code",
   "execution_count": null,
   "metadata": {},
   "outputs": [],
   "source": []
  },
  {
   "cell_type": "markdown",
   "metadata": {
    "code_folding": []
   },
   "source": [
    "### Base trait class"
   ]
  },
  {
   "cell_type": "code",
   "execution_count": 12,
   "metadata": {
    "code_folding": [
     0
    ]
   },
   "outputs": [],
   "source": [
    "class BaseObject: \n",
    "    def __init__(self):\n",
    "        pass\n",
    "        \n",
    "    def mate(self, other):\n",
    "        baby = BaseObject()\n",
    "        return baby\n",
    "    \n",
    "    def mutate(self):\n",
    "        baby = BaseObject()\n",
    "        return baby\n",
    "    \n",
    "    def distance_to(self, other):\n",
    "        return rnd.uniform(0,1)\n",
    "\n",
    "    def fit(self, x, y):\n",
    "        pass\n",
    "    \n",
    "    def transform(self, x, y):\n",
    "        return np.array(x)"
   ]
  },
  {
   "cell_type": "markdown",
   "metadata": {},
   "source": [
    "### Derived Classes"
   ]
  },
  {
   "cell_type": "markdown",
   "metadata": {},
   "source": [
    "#### PCA"
   ]
  },
  {
   "cell_type": "code",
   "execution_count": 13,
   "metadata": {
    "code_folding": [
     0
    ]
   },
   "outputs": [],
   "source": [
    "class genePCA(BaseObject): \n",
    "    def __init__(self):\n",
    "        self.ndim = rnd.randint(1, 16)\n",
    "        self.pca = PCA(n_components=self.ndim)\n",
    "        \n",
    "    def __repr__(self):\n",
    "        return \"PCA(%d)\" % self.ndim\n",
    "    \n",
    "    def mate(self, other):\n",
    "        if isinstance(other, genePCA):\n",
    "            baby = genePCA()\n",
    "            baby.ndim = (self.ndim + other.ndim)//2\n",
    "            baby.pca = PCA(n_components=baby.ndim)\n",
    "            return baby\n",
    "        else:\n",
    "            return rnd.choice([self, other])\n",
    "    \n",
    "    def mutate(self):\n",
    "        baby = genePCA()\n",
    "        baby.ndim += rnd.randint(-3, 3)\n",
    "        baby.ndim = np.clip(baby.ndim, 2, 16)\n",
    "        baby.pca = PCA(n_components=baby.ndim)\n",
    "        return baby\n",
    "    \n",
    "    def distance_to(self, other):\n",
    "        if isinstance(other, genePCA):\n",
    "            return float(np.abs(self.ndim - other.ndim))\n",
    "        else:\n",
    "            return 100000.0\n",
    "    \n",
    "    def fit(self, x, y=None):\n",
    "        self.pca.fit(x, y=y)\n",
    "        \n",
    "    def transform(self, x, y):\n",
    "        xt = self.pca.transform(x)\n",
    "        return np.array(xt)"
   ]
  },
  {
   "cell_type": "markdown",
   "metadata": {},
   "source": [
    "#### Linear"
   ]
  },
  {
   "cell_type": "code",
   "execution_count": 14,
   "metadata": {
    "code_folding": [
     0
    ]
   },
   "outputs": [],
   "source": [
    "class geneLinear(BaseObject): \n",
    "    def __init__(self):\n",
    "        pass\n",
    "    \n",
    "    def __repr__(self):\n",
    "        return \"Linear\"\n",
    "    \n",
    "    def mate(self, other):\n",
    "        return rnd.choice([self, other])\n",
    "    \n",
    "    def mutate(self):\n",
    "        return self\n",
    "    \n",
    "    def distance_to(self, other):\n",
    "        if isinstance(other, geneLinear):\n",
    "            return 0.0\n",
    "        else:\n",
    "            return 100000.0\n",
    "    \n",
    "    def fit(self, x, y):\n",
    "        pass\n",
    "    \n",
    "    def transform(self, x, y):\n",
    "        return np.array(x)"
   ]
  },
  {
   "cell_type": "markdown",
   "metadata": {},
   "source": [
    "#### LogisticRegression"
   ]
  },
  {
   "cell_type": "code",
   "execution_count": 15,
   "metadata": {
    "code_folding": [
     0
    ]
   },
   "outputs": [],
   "source": [
    "class geneLogisticRegression(BaseObject): \n",
    "    def __init__(self):\n",
    "        ps = {}\n",
    "        ps['penalty'] = rnd.choice(['l1','l2'])\n",
    "        ps['dual'] = rnd.choice([True, False])\n",
    "        ps['fit_intercept'] = rnd.choice([True, False])\n",
    "        \n",
    "        self.ps = ps\n",
    "        self.clf = LogisticRegression(**ps, max_iter=10000)\n",
    "        \n",
    "    def __repr__(self):\n",
    "        return \"LGRG(%s,%s,%s)\" % (self.ps['penalty'], self.ps['dual'], self.ps['fit_intercept'])\n",
    "    \n",
    "    def mate(self, other):\n",
    "        if isinstance(other, geneLogisticRegression):\n",
    "            baby = geneLogisticRegression()\n",
    "            ps = self.ps\n",
    "            if rnd.uniform(0,1)<0.5: ps['penalty'] = rnd.choice([self.ps['penalty'], other.ps['penalty']])\n",
    "            if rnd.uniform(0,1)<0.5: ps['dual'] = rnd.choice([self.ps['dual'], other.ps['dual']])\n",
    "            if rnd.uniform(0,1)<0.5: ps['fit_intercept'] = rnd.choice([self.ps['fit_intercept'], other.ps['fit_intercept']])\n",
    "            baby.clf = LogisticRegression(**ps)\n",
    "            return baby\n",
    "        else:\n",
    "            return rnd.choice([self, other])\n",
    "    \n",
    "    def mutate(self):\n",
    "        baby = geneLogisticRegression()\n",
    "        ps = self.ps\n",
    "        if rnd.uniform(0,1)<0.1: ps['penalty'] = rnd.choice(['l1','l2'])\n",
    "        if rnd.uniform(0,1)<0.1: ps['dual'] = rnd.choice([True, False])\n",
    "        if rnd.uniform(0,1)<0.1: ps['fit_intercept'] = rnd.choice([True, False])\n",
    "        baby.clf = LogisticRegression(**ps)\n",
    "        return baby\n",
    "    \n",
    "    def distance_to(self, other):\n",
    "        if isinstance(other, geneLogisticRegression):\n",
    "            return 0.0\n",
    "        else:\n",
    "            return 100000.0\n",
    "    \n",
    "    def fit(self, x, y):\n",
    "        if len(y.shape)>1:\n",
    "            y = y.reshape(-1)\n",
    "        self.clf.fit(x, y)\n",
    "        \n",
    "    def transform(self, x, y):\n",
    "        return self.clf.predict(x)"
   ]
  },
  {
   "cell_type": "markdown",
   "metadata": {},
   "source": [
    "#### DecisionTreeClassifier"
   ]
  },
  {
   "cell_type": "code",
   "execution_count": 16,
   "metadata": {
    "code_folding": [
     0
    ]
   },
   "outputs": [],
   "source": [
    "class geneDecisionTreeClassifier(BaseObject): \n",
    "    def __init__(self):\n",
    "        ps = {}\n",
    "        ps['criterion'] = rnd.choice(['gini','entropy'])\n",
    "        ps['splitter'] = rnd.choice(['best', 'random'])\n",
    "        ps['max_depth'] = rnd.choice([None, 1, 3, 5])\n",
    "        ps['max_features'] = rnd.choice([None, 0.25, 0.5, 0.8])\n",
    "        ps['min_samples_split'] = rnd.choice([2,3])\n",
    "        \n",
    "        self.ps = ps\n",
    "        self.clf = DecisionTreeClassifier(**ps)\n",
    "        \n",
    "    def __repr__(self):\n",
    "        return \"DTC(%s,%s,%s,%s,%s)\" % (self.ps['criterion'], \n",
    "                                  self.ps['splitter'], \n",
    "                                  self.ps['max_depth'],\n",
    "                                  self.ps['max_features'],\n",
    "                                  self.ps['min_samples_split'])\n",
    "    \n",
    "    def mate(self, other):\n",
    "        if isinstance(other, geneDecisionTreeClassifier):\n",
    "            baby = geneDecisionTreeClassifier()\n",
    "            ps = self.ps\n",
    "            if rnd.uniform(0,1)<0.5: ps['criterion'] = rnd.choice([self.ps['criterion'], other.ps['criterion']])\n",
    "            if rnd.uniform(0,1)<0.5: ps['splitter'] = rnd.choice([self.ps['splitter'], other.ps['splitter']])\n",
    "            if rnd.uniform(0,1)<0.5: ps['max_depth'] = rnd.choice([self.ps['max_depth'], other.ps['max_depth']])\n",
    "            if rnd.uniform(0,1)<0.5: ps['max_features'] = rnd.choice([self.ps['max_features'], other.ps['max_features']])\n",
    "            if rnd.uniform(0,1)<0.5: ps['min_samples_split'] = rnd.choice([self.ps['min_samples_split'], \n",
    "                                                                           other.ps['min_samples_split']])\n",
    "            baby.clf = DecisionTreeClassifier(**ps)\n",
    "            return baby\n",
    "        else:\n",
    "            return rnd.choice([self, other])\n",
    "    \n",
    "    def mutate(self):\n",
    "        baby = geneDecisionTreeClassifier()\n",
    "        \n",
    "        ps = self.ps\n",
    "        if rnd.uniform(0,1)<0.1: ps['criterion'] = rnd.choice(['gini','entropy'])\n",
    "        if rnd.uniform(0,1)<0.1: ps['splitter'] = rnd.choice(['best', 'random'])\n",
    "        if rnd.uniform(0,1)<0.1: ps['max_depth'] = rnd.choice([None, 1, 3, 5])\n",
    "        if rnd.uniform(0,1)<0.1: ps['max_features'] = rnd.choice([None, 0.25, 0.5, 0.8])\n",
    "        if rnd.uniform(0,1)<0.1: ps['min_samples_split'] = rnd.choice([2,3])\n",
    "        baby.clf = DecisionTreeClassifier(**ps)\n",
    "        \n",
    "        return baby\n",
    "    \n",
    "    def distance_to(self, other):\n",
    "        if isinstance(other, geneDecisionTreeClassifier):\n",
    "            return 0.0\n",
    "        else:\n",
    "            return 100000.0\n",
    "    \n",
    "    def fit(self, x, y):\n",
    "        if len(y.shape)>1:\n",
    "            y = y.reshape(-1)\n",
    "        self.clf.fit(x, y)\n",
    "        \n",
    "    def transform(self, x, y):\n",
    "        return self.clf.predict(x)"
   ]
  },
  {
   "cell_type": "markdown",
   "metadata": {},
   "source": [
    "#### SVC"
   ]
  },
  {
   "cell_type": "code",
   "execution_count": 17,
   "metadata": {
    "code_folding": [
     0
    ],
    "run_control": {
     "marked": false
    }
   },
   "outputs": [],
   "source": [
    "class geneSVC(BaseObject): \n",
    "    def __init__(self):\n",
    "        ps = {}\n",
    "        ps['C'] = rnd.choice([0.1, 1.0, 10.0])\n",
    "        ps['kernel'] = rnd.choice(['linear', 'rbf'])\n",
    "        ps['probability'] = rnd.choice([True, False])\n",
    "        \n",
    "        self.ps = ps\n",
    "        self.clf = SVC(**ps)\n",
    "        \n",
    "    def __repr__(self):\n",
    "        return \"SVC(%s,%s,%s)\" % (self.ps['C'], \n",
    "                                  self.ps['kernel'],\n",
    "                                  self.ps['probability'])\n",
    "    \n",
    "    def mate(self, other):\n",
    "        if isinstance(other, geneSVC):\n",
    "            baby = geneSVC()\n",
    "            ps = self.ps\n",
    "            if rnd.uniform(0,1)<0.5: ps['C'] = rnd.choice([self.ps['C'], other.ps['C']])\n",
    "            if rnd.uniform(0,1)<0.5: ps['kernel'] = rnd.choice([self.ps['kernel'], other.ps['kernel']])\n",
    "            if rnd.uniform(0,1)<0.5: ps['probability'] = rnd.choice([self.ps['probability'], other.ps['probability']])\n",
    "            baby.clf = SVC(**ps)\n",
    "            return baby\n",
    "        else:\n",
    "            return rnd.choice([self, other])\n",
    "    \n",
    "    def mutate(self):\n",
    "        baby = geneSVC()\n",
    "        ps = self.ps\n",
    "        if rnd.uniform(0,1)<0.1: ps['C'] = rnd.choice([0.1, 1.0, 10.0])\n",
    "        if rnd.uniform(0,1)<0.1: ps['kernel'] = rnd.choice(['linear', 'rbf'])\n",
    "        if rnd.uniform(0,1)<0.1: ps['probability'] = rnd.choice([True, False])\n",
    "    \n",
    "        baby.clf = SVC(**ps)\n",
    "        return baby\n",
    "    \n",
    "    def distance_to(self, other):\n",
    "        if isinstance(other, geneSVC):\n",
    "            return 0.0\n",
    "        else:\n",
    "            return 100000.0\n",
    "    \n",
    "    def fit(self, x, y):\n",
    "        if len(y.shape)>1:\n",
    "            y = y.reshape(-1)\n",
    "        self.clf.fit(x, y)\n",
    "        \n",
    "    def transform(self, x, y):\n",
    "        if self.ps['probability']:\n",
    "            return self.clf.predict_proba(x)\n",
    "        else:\n",
    "            return self.clf.predict(x)"
   ]
  },
  {
   "cell_type": "markdown",
   "metadata": {},
   "source": [
    "#### LinearSVC"
   ]
  },
  {
   "cell_type": "code",
   "execution_count": 18,
   "metadata": {
    "code_folding": [
     0
    ]
   },
   "outputs": [],
   "source": [
    "class geneLinearSVC(BaseObject): \n",
    "    def __init__(self):\n",
    "        ps = {}\n",
    "        ps['C'] = rnd.choice([0.5, 0.75, 0.95, 1.0])\n",
    "        \n",
    "        self.ps = ps\n",
    "        self.clf = LinearSVC(**ps, max_iter=10000)\n",
    "        \n",
    "    def __repr__(self):\n",
    "        return \"LinearSVC(%s)\" % (self.ps['C'])\n",
    "    \n",
    "    def mate(self, other):\n",
    "        if isinstance(other, geneLinearSVC):\n",
    "            baby = geneLinearSVC()\n",
    "            ps = self.ps\n",
    "            if rnd.uniform(0,1)<0.5: ps['C'] = rnd.choice([self.ps['C'], other.ps['C']])\n",
    "            baby.clf = LinearSVC(**ps)\n",
    "            return baby\n",
    "        else:\n",
    "            return rnd.choice([self, other])\n",
    "    \n",
    "    def mutate(self):\n",
    "        baby = geneLinearSVC()\n",
    "        ps = self.ps\n",
    "        if rnd.uniform(0,1)<0.1: ps['C'] = rnd.choice([0.5, 0.75, 0.95, 1.0])\n",
    "        baby.clf = LinearSVC(**ps)\n",
    "        return baby\n",
    "    \n",
    "    def distance_to(self, other):\n",
    "        if isinstance(other, geneLinearSVC):\n",
    "            return 0.0\n",
    "        else:\n",
    "            return 100000.0\n",
    "    \n",
    "    def fit(self, x, y):\n",
    "        if len(y.shape)>1:\n",
    "            y = y.reshape(-1)\n",
    "        self.clf.fit(x, y)\n",
    "        \n",
    "    def transform(self, x, y):\n",
    "        return self.clf.predict(x)"
   ]
  },
  {
   "cell_type": "markdown",
   "metadata": {},
   "source": [
    "#### KNeighborsClassifier"
   ]
  },
  {
   "cell_type": "code",
   "execution_count": 19,
   "metadata": {
    "code_folding": [
     0
    ]
   },
   "outputs": [],
   "source": [
    "class geneKNeighborsClassifier(BaseObject): \n",
    "    def __init__(self):\n",
    "        ps = {}\n",
    "        ps['weights'] = rnd.choice(['uniform', 'distance'])\n",
    "        ps['algorithm'] = rnd.choice(['auto', 'ball_tree', 'kd_tree', 'brute'])\n",
    "        ps['n_neighbors'] = rnd.choice([2, 4, 8, 15, 25])\n",
    "        ps['leaf_size'] = rnd.choice([10, 25, 50, 75])\n",
    "        ps['p'] = rnd.choice([2, 3])\n",
    "        \n",
    "        self.ps = ps\n",
    "        self.clf = KNeighborsClassifier(**ps)\n",
    "        \n",
    "    def __repr__(self):\n",
    "        return \"KNC(%s)\" % (str(self.ps))\n",
    "    \n",
    "    def mate(self, other):\n",
    "        if isinstance(other, geneKNeighborsClassifier):\n",
    "            baby = geneKNeighborsClassifier()\n",
    "            ps = self.ps\n",
    "            if rnd.uniform(0,1)<0.5: ps['weights'] = rnd.choice([self.ps['weights'], other.ps['weights']])\n",
    "            if rnd.uniform(0,1)<0.5: ps['algorithm'] = rnd.choice([self.ps['algorithm'], other.ps['algorithm']])\n",
    "            if rnd.uniform(0,1)<0.5: ps['n_neighbors'] = rnd.choice([self.ps['n_neighbors'], other.ps['n_neighbors']])\n",
    "            if rnd.uniform(0,1)<0.5: ps['leaf_size'] = rnd.choice([self.ps['leaf_size'], other.ps['leaf_size']])\n",
    "            if rnd.uniform(0,1)<0.5: ps['p'] = rnd.choice([self.ps['p'], other.ps['p']])\n",
    "            baby.clf = KNeighborsClassifier(**ps)\n",
    "            return baby\n",
    "        else:\n",
    "            return rnd.choice([self, other])\n",
    "    \n",
    "    def mutate(self):\n",
    "        baby = geneKNeighborsClassifier()\n",
    "        ps = self.ps\n",
    "        if rnd.uniform(0,1)<0.1: ps['weights'] = rnd.choice(['uniform', 'distance'])\n",
    "        if rnd.uniform(0,1)<0.1: ps['algorithm'] = rnd.choice(['auto', 'ball_tree', 'kd_tree', 'brute'])\n",
    "        if rnd.uniform(0,1)<0.1: ps['n_neighbors'] = rnd.choice([2, 4, 8, 15, 25])\n",
    "        if rnd.uniform(0,1)<0.1: ps['leaf_size'] = rnd.choice([10, 25, 50, 75])\n",
    "        if rnd.uniform(0,1)<0.1: ps['p'] = rnd.choice([2, 3])\n",
    "        baby.clf = KNeighborsClassifier(**ps)\n",
    "        return baby\n",
    "    \n",
    "    def distance_to(self, other):\n",
    "        if isinstance(other, geneKNeighborsClassifier):\n",
    "            return 0.0\n",
    "        else:\n",
    "            return 100000.0\n",
    "    \n",
    "    def fit(self, x, y):\n",
    "        if len(y.shape)>1:\n",
    "            y = y.reshape(-1)\n",
    "        self.clf.fit(x, y)\n",
    "        \n",
    "    def transform(self, x, y):\n",
    "        return self.clf.predict(x)"
   ]
  },
  {
   "cell_type": "markdown",
   "metadata": {},
   "source": [
    "#### BaggingClassifier"
   ]
  },
  {
   "cell_type": "code",
   "execution_count": 20,
   "metadata": {
    "code_folding": [
     0
    ]
   },
   "outputs": [],
   "source": [
    "class geneBaggingClassifier(BaseObject): \n",
    "    def __init__(self):\n",
    "        ps = {}\n",
    "        ps['n_estimators'] = rnd.choice([10, 50, 100, 200])\n",
    "        ps['max_samples'] = rnd.choice([0.1, 0.33, 0.75, 1.0])\n",
    "        \n",
    "        self.ps = ps\n",
    "        self.clf = BaggingClassifier(**ps)\n",
    "        \n",
    "    def __repr__(self):\n",
    "        return \"BaggingClf(%s, %s)\" % (self.ps['n_estimators'], self.ps['max_samples'])\n",
    "    \n",
    "    def mate(self, other):\n",
    "        if isinstance(other, geneBaggingClassifier):\n",
    "            baby = geneBaggingClassifier()\n",
    "            ps = self.ps\n",
    "            if rnd.uniform(0,1)<0.5: ps['n_estimators'] = rnd.choice([self.ps['n_estimators'], other.ps['n_estimators']])\n",
    "            if rnd.uniform(0,1)<0.5: ps['max_samples'] = rnd.choice([self.ps['max_samples'], other.ps['max_samples']])\n",
    "            \n",
    "            baby.clf = BaggingClassifier(**ps)\n",
    "            return baby\n",
    "        else:\n",
    "            return rnd.choice([self, other])\n",
    "    \n",
    "    def mutate(self):\n",
    "        baby = geneBaggingClassifier()\n",
    "        ps = self.ps\n",
    "        if rnd.uniform(0,1)<0.1: ps['n_estimators'] = rnd.choice([10, 50, 100, 200])\n",
    "        if rnd.uniform(0,1)<0.1: ps['max_samples'] = rnd.choice([0.1, 0.33, 0.75, 1.0])\n",
    "        \n",
    "        baby.clf = BaggingClassifier(**ps)\n",
    "        return baby\n",
    "    \n",
    "    def distance_to(self, other):\n",
    "        if isinstance(other, geneBaggingClassifier):\n",
    "            return 0.0\n",
    "        else:\n",
    "            return 100000.0\n",
    "    \n",
    "    def fit(self, x, y):\n",
    "        if len(y.shape)>1:\n",
    "            y = y.reshape(-1)\n",
    "        self.clf.fit(x, y)\n",
    "        \n",
    "    def transform(self, x, y):\n",
    "        return self.clf.predict(x)"
   ]
  },
  {
   "cell_type": "markdown",
   "metadata": {},
   "source": [
    "#### GradientBoostingClassifier"
   ]
  },
  {
   "cell_type": "code",
   "execution_count": 21,
   "metadata": {
    "code_folding": [
     0
    ]
   },
   "outputs": [],
   "source": [
    "class geneGradientBoostingClassifier(BaseObject): \n",
    "    def __init__(self):\n",
    "        ps = {}\n",
    "        ps['loss'] = rnd.choice(['deviance', 'exponential'])\n",
    "        ps['max_depth'] = rnd.choice([1, 5, 10, 15])\n",
    "        ps['max_features'] = rnd.choice(['sqrt', 'log2', None])\n",
    "        ps['learning_rate'] = rnd.choice([0.001, 0.05, 0.2])\n",
    "        ps['subsample'] = rnd.choice([0.5, 0.8, 0.95, 1.0])\n",
    "        ps['n_estimators'] = rnd.choice([10, 100, 200, 300])\n",
    "        \n",
    "        self.ps = ps\n",
    "        self.clf = GradientBoostingClassifier(**ps)\n",
    "        \n",
    "    def __repr__(self):\n",
    "        return \"BaggingClf(%s, %s)\" % (self.ps['n_estimators'], self.ps['max_samples'])\n",
    "    \n",
    "    def mate(self, other):\n",
    "        if isinstance(other, geneGradientBoostingClassifier):\n",
    "            baby = geneGradientBoostingClassifier()\n",
    "            ps = self.ps\n",
    "\n",
    "            if rnd.uniform(0,1)<0.5: ps['loss'] = rnd.choice([self.ps['loss'], other.ps['loss']])\n",
    "            if rnd.uniform(0,1)<0.5: ps['max_depth'] = rnd.choice([self.ps['max_depth'], other.ps['max_depth']])\n",
    "            if rnd.uniform(0,1)<0.5: ps['max_features'] = rnd.choice([self.ps['max_features'], other.ps['max_features']])\n",
    "            if rnd.uniform(0,1)<0.5: ps['learning_rate'] = rnd.choice([self.ps['learning_rate'], other.ps['learning_rate']])\n",
    "            if rnd.uniform(0,1)<0.5: ps['subsample'] = rnd.choice([self.ps['subsample'], other.ps['subsample']])\n",
    "            if rnd.uniform(0,1)<0.5: ps['n_estimators'] = rnd.choice([self.ps['n_estimators'], other.ps['n_estimators']])\n",
    "            \n",
    "            baby.clf = GradientBoostingClassifier(**ps)\n",
    "            return baby\n",
    "        else:\n",
    "            return rnd.choice([self, other])\n",
    "    \n",
    "    def mutate(self):\n",
    "        baby = geneGradientBoostingClassifier()\n",
    "        ps = self.ps\n",
    "        \n",
    "        if rnd.uniform(0,1)<0.1: ps['loss'] = rnd.choice(['deviance', 'exponential'])\n",
    "        if rnd.uniform(0,1)<0.1: ps['max_depth'] = rnd.choice([1, 5, 10, 15])\n",
    "        if rnd.uniform(0,1)<0.1: ps['max_features'] = rnd.choice(['sqrt', 'log2', None])\n",
    "        if rnd.uniform(0,1)<0.1: ps['learning_rate'] = rnd.choice([0.001, 0.05, 0.2])\n",
    "        if rnd.uniform(0,1)<0.1: ps['subsample'] = rnd.choice([0.5, 0.8, 0.95, 1.0])\n",
    "        if rnd.uniform(0,1)<0.1: ps['n_estimators'] = rnd.choice([10, 100, 200, 300])       \n",
    "        \n",
    "        baby.clf = GradientBoostingClassifier(**ps)\n",
    "        return baby\n",
    "    \n",
    "    def distance_to(self, other):\n",
    "        if isinstance(other, geneGradientBoostingClassifier):\n",
    "            return 0.0\n",
    "        else:\n",
    "            return 100000.0\n",
    "    \n",
    "    def fit(self, x, y):\n",
    "        if len(y.shape)>1:\n",
    "            y = y.reshape(-1)\n",
    "        self.clf.fit(x, y)\n",
    "        \n",
    "    def transform(self, x, y):\n",
    "        return self.clf.predict(x)"
   ]
  },
  {
   "cell_type": "code",
   "execution_count": null,
   "metadata": {},
   "outputs": [],
   "source": []
  },
  {
   "cell_type": "code",
   "execution_count": null,
   "metadata": {},
   "outputs": [],
   "source": []
  },
  {
   "cell_type": "code",
   "execution_count": null,
   "metadata": {},
   "outputs": [],
   "source": []
  },
  {
   "cell_type": "code",
   "execution_count": null,
   "metadata": {},
   "outputs": [],
   "source": []
  },
  {
   "cell_type": "code",
   "execution_count": null,
   "metadata": {},
   "outputs": [],
   "source": []
  },
  {
   "cell_type": "code",
   "execution_count": null,
   "metadata": {},
   "outputs": [],
   "source": []
  },
  {
   "cell_type": "code",
   "execution_count": null,
   "metadata": {},
   "outputs": [],
   "source": []
  },
  {
   "cell_type": "code",
   "execution_count": null,
   "metadata": {},
   "outputs": [],
   "source": []
  },
  {
   "cell_type": "code",
   "execution_count": null,
   "metadata": {},
   "outputs": [],
   "source": []
  },
  {
   "cell_type": "code",
   "execution_count": null,
   "metadata": {},
   "outputs": [],
   "source": []
  },
  {
   "cell_type": "code",
   "execution_count": null,
   "metadata": {},
   "outputs": [],
   "source": []
  },
  {
   "cell_type": "markdown",
   "metadata": {},
   "source": [
    "### The GA"
   ]
  },
  {
   "cell_type": "code",
   "execution_count": 22,
   "metadata": {},
   "outputs": [],
   "source": [
    "derived_list = [\n",
    "                genePCA, \n",
    "                geneLinear, \n",
    "                geneLogisticRegression, \n",
    "                #geneDecisionTreeClassifier,\n",
    "                #geneSVC, \n",
    "                geneLinearSVC,\n",
    "                geneKNeighborsClassifier,\n",
    "                geneBaggingClassifier,\n",
    "               ]\n",
    "probs = [1.0]*len(derived_list)"
   ]
  },
  {
   "cell_type": "markdown",
   "metadata": {},
   "source": [
    "#### Genome constraints"
   ]
  },
  {
   "cell_type": "code",
   "execution_count": 23,
   "metadata": {
    "code_folding": [
     0
    ]
   },
   "outputs": [],
   "source": [
    "def fails_constraints(genome):\n",
    "    try:\n",
    "        ts = genome.GetNeuronTraits()\n",
    "        o = None\n",
    "        for t in ts:\n",
    "            if t[1]=='output': \n",
    "                o = t[2]\n",
    "                break\n",
    "        if not (isinstance(o['node'], geneLogisticRegression) or \n",
    "                isinstance(o['node'], geneSVC) or\n",
    "                isinstance(o['node'], geneDecisionTreeClassifier) or\n",
    "                isinstance(o['node'], geneKNeighborsClassifier)                \n",
    "               ):\n",
    "            return True\n",
    "        else:\n",
    "            return False\n",
    "    except:\n",
    "        return True\n",
    "    return True"
   ]
  },
  {
   "cell_type": "code",
   "execution_count": null,
   "metadata": {},
   "outputs": [],
   "source": [
    "params.CustomConstraints = fails_constraints"
   ]
  },
  {
   "cell_type": "markdown",
   "metadata": {
    "code_folding": []
   },
   "source": [
    "#### Traits setup"
   ]
  },
  {
   "cell_type": "code",
   "execution_count": null,
   "metadata": {
    "code_folding": []
   },
   "outputs": [],
   "source": [
    "# merge mode\n",
    "s = ['concat',\n",
    "    # when dimensions match, these can be done, otherwise it defaults to concat\n",
    "     'add','mul','avg','min','max',\n",
    "    ]\n",
    "p = [1.0] * len(s)\n",
    "mm = {'details': {'set': s, 'probs': p},\n",
    "      'importance_coeff': 0.0,\n",
    "      'mutation_prob': 0.3,\n",
    "      'type': 'str'}\n",
    "\n",
    "params.SetNeuronTraitParameters('mm', mm)"
   ]
  },
  {
   "cell_type": "code",
   "execution_count": null,
   "metadata": {},
   "outputs": [],
   "source": [
    "node = {'details': (derived_list, probs),\n",
    "          'importance_coeff': 0.1,\n",
    "          'mutation_prob': 0.2,\n",
    "          'type': 'pyclassset'}\n",
    "\n",
    "params.SetNeuronTraitParameters('node', node)"
   ]
  },
  {
   "cell_type": "markdown",
   "metadata": {},
   "source": [
    "#### Initialize population"
   ]
  },
  {
   "cell_type": "code",
   "execution_count": null,
   "metadata": {},
   "outputs": [],
   "source": [
    "num_inputs = 1\n",
    "num_outputs = 1"
   ]
  },
  {
   "cell_type": "code",
   "execution_count": null,
   "metadata": {},
   "outputs": [],
   "source": [
    "num_input_dims = dx.shape[1]\n",
    "num_output_dims = 1"
   ]
  },
  {
   "cell_type": "code",
   "execution_count": null,
   "metadata": {},
   "outputs": [],
   "source": []
  },
  {
   "cell_type": "code",
   "execution_count": null,
   "metadata": {
    "code_folding": []
   },
   "outputs": [],
   "source": [
    "g = NEAT.Genome(0, num_inputs, 1, num_outputs, 0, NEAT.ActivationFunction.RELU,\n",
    "                    NEAT.ActivationFunction.RELU, 0, params, 0, 1)"
   ]
  },
  {
   "cell_type": "code",
   "execution_count": null,
   "metadata": {
    "code_folding": []
   },
   "outputs": [],
   "source": [
    "pop = NEAT.Population(g, params, True, 1.0, 0)\n",
    "pop.RNG.Seed(int(time.clock()*100))"
   ]
  },
  {
   "cell_type": "code",
   "execution_count": null,
   "metadata": {},
   "outputs": [],
   "source": []
  },
  {
   "cell_type": "code",
   "execution_count": null,
   "metadata": {},
   "outputs": [
    {
     "data": {
      "text/plain": [
       "((891, 9), (891,))"
      ]
     },
     "execution_count": 31,
     "metadata": {},
     "output_type": "execute_result"
    }
   ],
   "source": [
    "dx.shape, dy.shape"
   ]
  },
  {
   "cell_type": "code",
   "execution_count": null,
   "metadata": {},
   "outputs": [],
   "source": [
    "#dx[0:3]"
   ]
  },
  {
   "cell_type": "code",
   "execution_count": null,
   "metadata": {},
   "outputs": [],
   "source": [
    "#dy[0:3]"
   ]
  },
  {
   "cell_type": "code",
   "execution_count": null,
   "metadata": {},
   "outputs": [],
   "source": []
  },
  {
   "cell_type": "code",
   "execution_count": null,
   "metadata": {},
   "outputs": [],
   "source": [
    "gr = NEAT.Genome2NX(pop.Species[0].Individuals[0])"
   ]
  },
  {
   "cell_type": "code",
   "execution_count": null,
   "metadata": {},
   "outputs": [
    {
     "data": {
      "text/plain": [
       "[(1, {}), (2, {'mm': 'min', 'node': LGRG(l2,False,True)})]"
      ]
     },
     "execution_count": 35,
     "metadata": {},
     "output_type": "execute_result"
    }
   ],
   "source": [
    "gr.nodes(data=1)"
   ]
  },
  {
   "cell_type": "markdown",
   "metadata": {},
   "source": [
    "#### Activate graph"
   ]
  },
  {
   "cell_type": "code",
   "execution_count": null,
   "metadata": {
    "code_folding": [
     0
    ],
    "run_control": {
     "marked": false
    }
   },
   "outputs": [],
   "source": [
    "def activate_graph(gr, inputs, targets, num_outputs=1, fit=True):\n",
    "    allnodes = list(nx.dfs_postorder_nodes(gr))[::-1]\n",
    "    for a in allnodes: gr.node[a]['act'] = None\n",
    "    \n",
    "    # separate input from non-input nodes\n",
    "    allnodes = [x for x in allnodes if x > num_inputs]\n",
    "    \n",
    "    # input the data\n",
    "    for i,inp in zip(range(1, num_inputs+1), inputs): \n",
    "        gr.node[i]['act'] = np.array(inp).reshape(inp.shape[0], -1)\n",
    "        \n",
    "    # pass through the graph\n",
    "    for an in allnodes:\n",
    "        #print(gr.node[a], end=' ')\n",
    "        mm = gr.node[an]['mm']\n",
    "        \n",
    "        # collect the inputs to this node\n",
    "        \n",
    "        # also sort the incoming edges by id for consistency\n",
    "        inedg = list(gr.in_edges(an))\n",
    "        inps = [gr.node[i]['act'] for i,o in inedg]\n",
    "        \n",
    "        if (mm == 'concat') or (len(inps)==1) or (not all([x.shape[1] == inps[0].shape[1] for x in inps])):  \n",
    "            if len(inps)>1:\n",
    "                iii = np.concatenate(inps, axis=1)\n",
    "            else:\n",
    "                if isinstance(inps, list):\n",
    "                    iii = inps[0]\n",
    "                else:\n",
    "                    iii = inps\n",
    "        else:\n",
    "            iii = np.array(inps)\n",
    "            if mm == 'add':\n",
    "                iii = np.sum(inps, axis=0)\n",
    "            elif mm == 'mul':\n",
    "                iii = np.prod(inps, axis=0)\n",
    "            elif mm == 'avg':\n",
    "                iii = np.mean(inps, axis=0)\n",
    "            elif mm == 'min':\n",
    "                iii = np.min(inps, axis=0)\n",
    "            elif mm == 'max':\n",
    "                iii = np.max(inps, axis=0)\n",
    "            else:\n",
    "                iii = np.array(iii)\n",
    "        \n",
    "        if fit: gr.node[an]['node'].fit(iii, targets)\n",
    "        act = gr.node[an]['node'].transform(iii, targets).reshape(iii.shape[0], -1)\n",
    "        \n",
    "        # store activation\n",
    "        gr.node[an]['act'] = act\n",
    "\n",
    "    outputs = [gr.node[o]['act'] for o in allnodes[-num_outputs:]]\n",
    "    return np.array(outputs)[0]"
   ]
  },
  {
   "cell_type": "code",
   "execution_count": null,
   "metadata": {},
   "outputs": [],
   "source": []
  },
  {
   "cell_type": "code",
   "execution_count": null,
   "metadata": {},
   "outputs": [
    {
     "data": {
      "text/plain": [
       "(891, 1)"
      ]
     },
     "execution_count": 37,
     "metadata": {},
     "output_type": "execute_result"
    }
   ],
   "source": [
    "try:\n",
    "    a = activate_graph(gr, [dx], dy)\n",
    "    a.shape\n",
    "except Exception as ex:\n",
    "    print(ex)"
   ]
  },
  {
   "cell_type": "code",
   "execution_count": null,
   "metadata": {},
   "outputs": [],
   "source": []
  },
  {
   "cell_type": "markdown",
   "metadata": {},
   "source": [
    "#### Evaluate"
   ]
  },
  {
   "cell_type": "code",
   "execution_count": null,
   "metadata": {
    "code_folding": [
     3
    ]
   },
   "outputs": [],
   "source": [
    "# evaluation function\n",
    "pred_mode = 'c'\n",
    "\n",
    "def evaluate(args):\n",
    "    idx, gr, dx, dy, ltr, ntr, precomp = args\n",
    "    ntr = [x for x in ntr if x[1]!='input']\n",
    "    \n",
    "    if pred_mode=='r':\n",
    "        pdy = np.digitize(dy, bins=np.linspace(min(dy), max(dy),10))\n",
    "    else:\n",
    "        pdy = dy\n",
    "    \n",
    "    try:\n",
    "        acc = 0 \n",
    "        \n",
    "        for trial in range(num_trials):\n",
    "\n",
    "            skf = StratifiedKFold(n_splits=CV_splits, shuffle=True, \n",
    "                                  random_state = rnd.randint(0, 100000)\n",
    "                                 )\n",
    "            cvavg_tr = 0\n",
    "            cvavg_ts = 0\n",
    "            for tr, ts in (skf.split(dx, pdy)):\n",
    "                x_train = dx[tr]\n",
    "                y_train = dy[tr]\n",
    "                x_test = dx[ts]\n",
    "                y_test = dy[ts]\n",
    "\n",
    "                a_tr = activate_graph(gr, [x_train], y_train, fit=True)\n",
    "                a_ts = activate_graph(gr, [x_test], y_test, fit=False)\n",
    "\n",
    "                def fixx(x):\n",
    "                    if x.shape[1] > 1: \n",
    "                        x = np.sum(x, axis=1)\n",
    "                        x = np.round((np.tanh(x) + 1.0)/2.0)\n",
    "                    return x.reshape(x.shape[0],-1)\n",
    "\n",
    "                a = fixx(a_tr)\n",
    "                b = fixx(a_ts)\n",
    "\n",
    "                acc_tr = np.sum(a.reshape(-1) == y_train.reshape(-1)) / len(a.reshape(-1))\n",
    "                acc_ts = np.sum(b.reshape(-1) == y_test.reshape(-1)) / len(b.reshape(-1))\n",
    "                cvavg_tr += acc_tr\n",
    "                cvavg_ts += acc_ts\n",
    "\n",
    "            acc += float(cvavg_ts / CV_splits)\n",
    "        \n",
    "        acc /= num_trials\n",
    "        \n",
    "    except Exception as ex:\n",
    "        \n",
    "        print(ex)\n",
    "        acc = 0.0\n",
    "    \n",
    "    f = acc\n",
    "    \n",
    "    return idx, f, None"
   ]
  },
  {
   "cell_type": "code",
   "execution_count": null,
   "metadata": {
    "code_folding": []
   },
   "outputs": [],
   "source": [
    "def decide(x):\n",
    "    return x "
   ]
  },
  {
   "cell_type": "markdown",
   "metadata": {},
   "source": [
    "#### Cluster init"
   ]
  },
  {
   "cell_type": "markdown",
   "metadata": {
    "scrolled": true
   },
   "source": [
    "##### IPs"
   ]
  },
  {
   "cell_type": "code",
   "execution_count": null,
   "metadata": {},
   "outputs": [],
   "source": [
    "if socket.gethostname() == 'laptop':\n",
    "    cluster='192.168.0.108:8786'\n",
    "elif socket.gethostname() == 'desktop':\n",
    "    clsuter='192.168.0.108:8786'\n",
    "else:\n",
    "    cluster='172.31.43.76:8786'"
   ]
  },
  {
   "cell_type": "markdown",
   "metadata": {},
   "source": [
    "##### Scatter objects"
   ]
  },
  {
   "cell_type": "code",
   "execution_count": null,
   "metadata": {},
   "outputs": [
    {
     "name": "stdout",
     "output_type": "stream",
     "text": [
      "Connecting..\n"
     ]
    },
    {
     "data": {
      "text/html": [
       "<table style=\"border: 2px solid white;\">\n",
       "<tr>\n",
       "<td style=\"vertical-align: top; border: 0px solid white\">\n",
       "<h3>Client</h3>\n",
       "<ul>\n",
       "  <li><b>Scheduler: </b>tcp://192.168.0.108:8786\n",
       "  <li><b>Dashboard: </b><a href='http://192.168.0.108:8787/status' target='_blank'>http://192.168.0.108:8787/status</a>\n",
       "</ul>\n",
       "</td>\n",
       "<td style=\"vertical-align: top; border: 0px solid white\">\n",
       "<h3>Cluster</h3>\n",
       "<ul>\n",
       "  <li><b>Workers: </b>16</li>\n",
       "  <li><b>Cores: </b>16</li>\n",
       "  <li><b>Memory: </b>96.77 GB</li>\n",
       "</ul>\n",
       "</td>\n",
       "</tr>\n",
       "</table>"
      ],
      "text/plain": [
       "<Client: scheduler='tcp://192.168.0.108:8786' processes=16 cores=16>"
      ]
     },
     "execution_count": 41,
     "metadata": {},
     "output_type": "execute_result"
    },
    {
     "name": "stdout",
     "output_type": "stream",
     "text": [
      "Scattering data to cluster..\n",
      "done in 2.1494197845458984 seconds\n"
     ]
    }
   ],
   "source": [
    "import time\n",
    "st = time.time()\n",
    "print('Connecting..')\n",
    "if cluster:\n",
    "    client = Client(cluster)\n",
    "else:\n",
    "    client = Client()\n",
    "client.restart(timeout=600)\n",
    "# push the data to the cluster\n",
    "print('Scattering data to cluster..')\n",
    "debugxy=0\n",
    "if not debugxy:\n",
    "    fx = client.scatter(dx, broadcast=True, direct=True)\n",
    "    fy = client.scatter(dy, broadcast=True, direct=True)\n",
    "else:\n",
    "    fx, fy = None, None\n",
    "print(f'done in {time.time()-st} seconds')"
   ]
  },
  {
   "cell_type": "code",
   "execution_count": null,
   "metadata": {},
   "outputs": [],
   "source": []
  },
  {
   "cell_type": "code",
   "execution_count": null,
   "metadata": {},
   "outputs": [],
   "source": [
    "#evaluate((0, NEAT.Genome2NX(pop.Species[0].Individuals[2]), dx, dy))"
   ]
  },
  {
   "cell_type": "markdown",
   "metadata": {},
   "source": [
    "### Parameters"
   ]
  },
  {
   "cell_type": "code",
   "execution_count": null,
   "metadata": {},
   "outputs": [],
   "source": [
    "num_trials = 5\n",
    "CV_splits = 5"
   ]
  },
  {
   "cell_type": "raw",
   "metadata": {
    "scrolled": true
   },
   "source": []
  },
  {
   "cell_type": "code",
   "execution_count": null,
   "metadata": {},
   "outputs": [],
   "source": [
    "parallel = 1\n",
    "precomp = None\n",
    "verbose=1\n",
    "use_local_search=0\n",
    "display_whole_pop = 0\n",
    "display_max_species = 8\n",
    "initeval = 0\n",
    "evaluations = 2000\n",
    "display_pop_each = 80000\n",
    "once = False\n",
    "x_shape, ys = dx.shape[1], 1\n",
    "population = params.PopulationSize\n",
    "\n",
    "penalize_stangation = 1\n",
    "penalize_stagnation_evals = 2400\n",
    "\n",
    "max_stagnation = 5000\n",
    "\n",
    "max_nodeslinks_to_output = 4\n",
    "\n",
    "evhist = []\n",
    "best_ever = 0\n",
    "best_gs = []"
   ]
  },
  {
   "cell_type": "markdown",
   "metadata": {},
   "source": [
    "#### Utility stuff"
   ]
  },
  {
   "cell_type": "code",
   "execution_count": null,
   "metadata": {},
   "outputs": [],
   "source": [
    "def poplen(pop):\n",
    "    return sum([len(x.Individuals) for x in pop.Species])"
   ]
  },
  {
   "cell_type": "code",
   "execution_count": null,
   "metadata": {
    "code_folding": []
   },
   "outputs": [],
   "source": [
    "def prettydict(d, nonl=False):\n",
    "    i,t,di = d\n",
    "    if not nonl:\n",
    "        ks = '%d - %s: ' % (i, t)\n",
    "    else:\n",
    "        return '%d - %s' % (i, t)\n",
    "    s = []\n",
    "    for k,v in sorted(list(di.items())):\n",
    "        if isinstance(v, float):\n",
    "            s.append( '%s %3.3f' % (k[0:1], v) )\n",
    "        else:\n",
    "            s.append( '%s %s' % (k[0:1], v) )\n",
    "    return ks + ', '.join(s)"
   ]
  },
  {
   "cell_type": "code",
   "execution_count": null,
   "metadata": {
    "code_folding": []
   },
   "outputs": [],
   "source": [
    "def species_display(pop):\n",
    "    genomes = [x.GetLeader() for x in pop.Species][0:display_max_species]\n",
    "    f, axes = plt.subplots(1, len(genomes), figsize=(len(genomes) * 4.5, 14))\n",
    "    print('Species Representatives:')\n",
    "    if len(genomes)>1:\n",
    "        for i,(ax, g) in enumerate(zip(axes, genomes)):\n",
    "            try:\n",
    "                img = NEAT.viz.Draw(g, size=(300, 400))[:, 0:230]\n",
    "                ax.imshow(img)\n",
    "                ax.set_title('%3.6f | %3.2f%%' % (decide(g.GetFitness()),\n",
    "                                                  (len(pop.Species[i].Individuals)/poplen(pop))*100 ))\n",
    "                s = '\\n'.join([prettydict(x) for x in g.GetNeuronTraits() if x[1] != 'input'][0:8])\n",
    "                s += '\\n=============\\n'\n",
    "                s += '\\n'.join([prettydict(x, nonl=True) for x in g.GetLinkTraits(False)][0:8])\n",
    "                ax.set_xlabel(s)\n",
    "            except Exception as ex:\n",
    "                print(ex)\n",
    "    else:\n",
    "        try:\n",
    "            g = pop.GetBestGenome()\n",
    "            img = NEAT.viz.Draw(g, size=(300, 400))[:, 0:230]\n",
    "            axes.imshow(img)\n",
    "            axes.set_title('%3.6f' % (decide(g.GetFitness())))\n",
    "            s = '\\n'.join([prettydict(x) for x in g.GetNeuronTraits() if x[1] != 'input'][0:8])\n",
    "            s += '\\n=============\\n'\n",
    "            s += '\\n'.join([prettydict(x, nonl=True) for x in g.GetLinkTraits(False)][0:8])\n",
    "            axes.set_xlabel(s)\n",
    "        except Exception as ex:\n",
    "            print(ex)\n",
    "    f.tight_layout()\n",
    "    plt.show()"
   ]
  },
  {
   "cell_type": "code",
   "execution_count": null,
   "metadata": {},
   "outputs": [],
   "source": []
  },
  {
   "cell_type": "code",
   "execution_count": null,
   "metadata": {},
   "outputs": [],
   "source": []
  },
  {
   "cell_type": "markdown",
   "metadata": {},
   "source": [
    "### Main loop"
   ]
  },
  {
   "cell_type": "code",
   "execution_count": null,
   "metadata": {
    "code_folding": [
     6,
     14,
     113,
     120,
     136,
     153,
     258
    ],
    "scrolled": true
   },
   "outputs": [
    {
     "name": "stderr",
     "output_type": "stream",
     "text": [
      "\r",
      "0it [00:00, ?it/s]"
     ]
    },
    {
     "name": "stdout",
     "output_type": "stream",
     "text": [
      "============================================================\n",
      "rtNEAT phase\n",
      "============================================================\n"
     ]
    },
    {
     "name": "stderr",
     "output_type": "stream",
     "text": [
      "Evaluated: 0 CTresh: 1.250000 Species: 2 Last fitness: 0.000000 [] (Elapsed Time: 0:00:00) /  0.0 s/individuals"
     ]
    },
    {
     "name": "stdout",
     "output_type": "stream",
     "text": [
      "NEW RECORD!\n",
      "Evaluations: 2 Fitness: 0.7885455177997487\n",
      "-------- nodes: 2 -------- \n",
      "[2, 'output', {'mm': 'avg', 'node': LGRG(l1,False,True)}]\n",
      "-------- links: 1 -------- \n",
      "[1, 2, {}, -5.285612295148894]\n",
      "----------------------- \n",
      "Species Representatives:\n"
     ]
    },
    {
     "data": {
      "image/png": "[encoded data removed]",
      "text/plain": [
       "<Figure size 648x1008 with 2 Axes>"
      ]
     },
     "metadata": {
      "needs_background": "light"
     },
     "output_type": "display_data"
    },
    {
     "name": "stderr",
     "output_type": "stream",
     "text": [
      "Evaluated: 4 CTresh: 1.250000 Species: 2 Last fitness: 0.000000 [] (Elapsed Time: 0:00:00) \\  4.2 individuals/s"
     ]
    },
    {
     "name": "stdout",
     "output_type": "stream",
     "text": [
      "NEW RECORD!\n",
      "Evaluations: 5 Fitness: 0.7894668923574724\n",
      "-------- nodes: 2 -------- \n",
      "[2, 'output', {'mm': 'avg', 'node': LGRG(l1,False,False)}]\n",
      "-------- links: 1 -------- \n",
      "[1, 2, {}, -5.7203755881637335]\n",
      "----------------------- \n",
      "Species Representatives:\n"
     ]
    },
    {
     "data": {
      "image/png": "[encoded data removed]",
      "text/plain": [
       "<Figure size 648x1008 with 2 Axes>"
      ]
     },
     "metadata": {
      "needs_background": "light"
     },
     "output_type": "display_data"
    },
    {
     "name": "stderr",
     "output_type": "stream",
     "text": [
      "Evaluated: 6 CTresh: 1.250000 Species: 2 Last fitness: 0.787374 [] (Elapsed Time: 0:00:01) /  3.6 individuals/s"
     ]
    },
    {
     "name": "stdout",
     "output_type": "stream",
     "text": [
      "NEW RECORD!\n",
      "Evaluations: 7 Fitness: 0.7930640080261382\n",
      "-------- nodes: 2 -------- \n",
      "[2, 'output', {'mm': 'concat', 'node': LGRG(l2,False,True)}]\n",
      "-------- links: 1 -------- \n",
      "[1, 2, {}, -3.5394489851314574]\n",
      "----------------------- \n",
      "Species Representatives:\n"
     ]
    },
    {
     "data": {
      "image/png": "[encoded data removed]",
      "text/plain": [
       "<Figure size 648x1008 with 2 Axes>"
      ]
     },
     "metadata": {
      "needs_background": "light"
     },
     "output_type": "display_data"
    },
    {
     "name": "stderr",
     "output_type": "stream",
     "text": [
      "Evaluated: 7 CTresh: 1.250000 Species: 2 Last fitness: 0.793064 [] (Elapsed Time: 0:00:02) -  3.3 individuals/s"
     ]
    },
    {
     "name": "stdout",
     "output_type": "stream",
     "text": [
      "NEW RECORD!\n",
      "Evaluations: 11 Fitness: 0.793450434376781\n",
      "-------- nodes: 2 -------- \n",
      "[2, 'output', {'mm': 'min', 'node': LGRG(l2,False,False)}]\n",
      "-------- links: 1 -------- \n",
      "[1, 2, {}, -1.4831335151102394]\n",
      "----------------------- \n",
      "Species Representatives:\n"
     ]
    },
    {
     "data": {
      "image/png": "[encoded data removed]",
      "text/plain": [
       "<Figure size 648x1008 with 2 Axes>"
      ]
     },
     "metadata": {
      "needs_background": "light"
     },
     "output_type": "display_data"
    },
    {
     "name": "stderr",
     "output_type": "stream",
     "text": [
      "Evaluated: 21 CTresh: 1.250000 Species: 2 Last fitness: 0.788091 [] (Elapsed Time: 0:00:02) |  8.0 individuals/s"
     ]
    },
    {
     "name": "stdout",
     "output_type": "stream",
     "text": [
      "NEW RECORD!\n",
      "Evaluations: 24 Fitness: 0.7939489188367774\n",
      "-------- nodes: 2 -------- \n",
      "[2, 'output', {'mm': 'min', 'node': LGRG(l2,False,True)}]\n",
      "-------- links: 1 -------- \n",
      "[1, 2, {}, -5.466916454490274]\n",
      "----------------------- \n",
      "Species Representatives:\n"
     ]
    },
    {
     "data": {
      "image/png": "[encoded data removed]",
      "text/plain": [
       "<Figure size 648x1008 with 2 Axes>"
      ]
     },
     "metadata": {
      "needs_background": "light"
     },
     "output_type": "display_data"
    },
    {
     "name": "stderr",
     "output_type": "stream",
     "text": [
      "Evaluated: 32 CTresh: 1.250000 Species: 2 Last fitness: 0.000000 [] (Elapsed Time: 0:00:03) \\ 10.2 individuals/s"
     ]
    },
    {
     "name": "stdout",
     "output_type": "stream",
     "text": [
      "NEW RECORD!\n",
      "Evaluations: 35 Fitness: 0.7946457728899381\n",
      "-------- nodes: 2 -------- \n",
      "[2, 'output', {'mm': 'mul', 'node': LGRG(l2,False,False)}]\n",
      "-------- links: 1 -------- \n",
      "[1, 2, {}, -5.977004045154899]\n",
      "----------------------- \n",
      "Species Representatives:\n"
     ]
    },
    {
     "data": {
      "image/png": "[encoded data removed]",
      "text/plain": [
       "<Figure size 648x1008 with 2 Axes>"
      ]
     },
     "metadata": {
      "needs_background": "light"
     },
     "output_type": "display_data"
    },
    {
     "name": "stderr",
     "output_type": "stream",
     "text": [
      "68it [00:31,  1.63s/it].250000 Species: 2 Last fitness: 0.627414 [] (Elapsed Time: 0:00:30) /  2.2 individuals/s"
     ]
    }
   ],
   "source": [
    "once = False\n",
    "#evhist = []\n",
    "best_ever = 0\n",
    "best_gs = []\n",
    "\n",
    "nfl = 1\n",
    "g = NEAT.Genome(0, num_inputs, 1, num_outputs, 0, NEAT.ActivationFunction.RELU,\n",
    "                    NEAT.ActivationFunction.RELU, 0, params, 0, nfl)\n",
    "pop = NEAT.Population(g, params, True, 1.0, 0)\n",
    "pop.RNG.Seed(int(time.clock()*100))\n",
    "#pop.Parameters.AllowClones = False\n",
    "evhist = []\n",
    "\n",
    "# rtNEAT code\n",
    "try:\n",
    "    \n",
    "    if initeval: \n",
    "        if verbose:\n",
    "            print('============================================================')\n",
    "            print(\"Please wait for the initial evaluation to complete.\")\n",
    "        now = time.time()\n",
    "        genome_list = []\n",
    "        for s in pop.Species:\n",
    "            for i in s.Individuals:\n",
    "                genome_list.append(i)\n",
    "        sys.stdout.flush()\n",
    "        # turn them into NX networks\n",
    "        grlist = [NEAT.Genome2NX(x, with_weights=1) for x in genome_list]\n",
    "        ltrlist = [x.GetLinkTraits(1) for x in genome_list]\n",
    "        ntrlist = [x.GetNeuronTraits() for x in genome_list]\n",
    "        idlist = [x.GetID() for x in genome_list]\n",
    "        if parallel:\n",
    "            args = list(zip(idlist,\n",
    "                            grlist,\n",
    "                            [fx]*len(grlist),\n",
    "                            [fy]*len(grlist),\n",
    "                            ltrlist,\n",
    "                            ntrlist, \n",
    "                            [precomp]*len(grlist)\n",
    "                            ))\n",
    "        else:\n",
    "            args = list(zip(idlist,\n",
    "                            grlist,\n",
    "                            [dx]*len(grlist),\n",
    "                            [dy]*len(grlist),\n",
    "                            ltrlist,\n",
    "                            ntrlist,\n",
    "                            [precomp]*len(grlist)\n",
    "                            ))\n",
    "\n",
    "        # evaluate all individuals\n",
    "        fitnesses = [0] * len(grlist)\n",
    "        if verbose:\n",
    "            bar = ProgressBar(initial_value=0, max_value=len(grlist))\n",
    "        fff = {}\n",
    "        rss = {}\n",
    "        if parallel:\n",
    "            cp = [client.submit(evaluate, x) for x in args]\n",
    "            for i,ftr in enumerate(as_completed(cp)):\n",
    "                idx, fitness, rsx  = ftr.result()\n",
    "                fff[idx] = fitness\n",
    "                rss[idx] = rsx\n",
    "                if verbose:\n",
    "                    bar.update(i)\n",
    "        else:\n",
    "            for i in range(len(grlist)):\n",
    "                idx, fitness, rsx = evaluate(args[i])\n",
    "                fff[idx] = fitness\n",
    "                rss[idx] = rsx\n",
    "                if verbose:\n",
    "                    bar.update(i)                \n",
    "        if verbose:\n",
    "            bar.finish()\n",
    "\n",
    "        fitness_list = []\n",
    "        rsx_list = []\n",
    "        for gnm in genome_list:\n",
    "            gnm.SetFitness( fff[gnm.GetID()] )\n",
    "            fitness_list.append( fff[gnm.GetID()] )\n",
    "            rsx_list.append( rss[gnm.GetID()] )\n",
    "            if use_local_search:\n",
    "                for qx,w in zip(gnm.LinkGenes,rss[gnm.GetID()]): qx.Weight = w\n",
    "            gnm.SetEvaluated()\n",
    "\n",
    "        bidx = argmax(fitness_list)\n",
    "        best = fitness_list[bidx]\n",
    "        #if initeval: evhist.append(decide(best))\n",
    "        if best > best_ever:\n",
    "            if verbose:\n",
    "                print('NEW RECORD!')\n",
    "                print('Evaluations:', 0,\n",
    "                      'Fitness:', decide(best),\n",
    "                      'Species:', len(pop.Species))\n",
    "            best_gs.append([NEAT.Genome2NX(genome_list[bidx], with_weights=1), \n",
    "                            genome_list[bidx].GetLinkTraits(1),\n",
    "                            genome_list[bidx].GetNeuronTraits(),\n",
    "                            rsx_list[bidx]\n",
    "                           ])\n",
    "            best_bs = best_gs[-3:]\n",
    "            if verbose:\n",
    "                print(f'-------- nodes: {genome_list[bidx].NumNeurons()} -------- ')\n",
    "                print('\\n'.join([str(x) for x in genome_list[bidx].GetNeuronTraits() \n",
    "                                 if x[1] != 'input'][0:max_nodeslinks_to_output]))\n",
    "                print(f'-------- links: {genome_list[bidx].NumLinks()} -------- ')\n",
    "                print('\\n'.join([str(x) for x in genome_list[bidx].GetLinkTraits(1)][0:max_nodeslinks_to_output]))\n",
    "                print('----------------------- ')\n",
    "            best_ever = best\n",
    "            if viz and verbose:\n",
    "                species_display(pop)\n",
    "\n",
    "        if verbose:\n",
    "            print(\"Evaluation took\", '%3.2f' % (time.time() - now), \"seconds.\")\n",
    "            \n",
    "    else: \n",
    "        # No initial evaluation, start off with small random fitness\n",
    "        for s in pop.Species:\n",
    "            for i in s.Individuals:\n",
    "                i.SetFitness(np.random.rand()/1000)\n",
    "                i.SetEvaluated()              \n",
    "\n",
    "    if parallel: \n",
    "        genome_list = NEAT.GetGenomeList(pop)\n",
    "        grlist = [NEAT.Genome2NX(x, with_weights=1) for x in genome_list]\n",
    "        ltrlist = [x.GetLinkTraits(1) for x in genome_list]\n",
    "        ntrlist = [x.GetNeuronTraits() for x in genome_list]\n",
    "        idlist = [x.GetID() for x in genome_list]\n",
    "        args = list(zip(idlist,\n",
    "                        grlist,\n",
    "                        [fx]*len(grlist),\n",
    "                        [fy]*len(grlist),\n",
    "                        ltrlist,\n",
    "                        ntrlist,\n",
    "                        [precomp]*len(grlist)\n",
    "                        ))\n",
    "        cp = [client.submit(evaluate, x) for x in args]\n",
    "\n",
    "    if verbose: \n",
    "        print('============================================================')\n",
    "        print('rtNEAT phase')\n",
    "        print('============================================================')\n",
    "\n",
    "        format_custom_text = FormatCustomText('CTresh: %(ctr).6f Species: %(sp)d Last fitness: %(fitness).6f %(vr)s',\n",
    "            dict(\n",
    "                sp=0,\n",
    "                fitness=0.0,\n",
    "                vr=str([]),\n",
    "                ctr=0.0,\n",
    "            ),)\n",
    "\n",
    "        widgets = ['Evaluated: ', Counter('%(value)d'), ' ', format_custom_text,\n",
    "                   ' (', Timer(), ') ', RotatingMarker(), FileTransferSpeed(unit='individuals') ]\n",
    "        bar = ProgressBar(widgets=widgets, initial_value=0, max_value=evaluations)\n",
    "\n",
    "    if parallel: \n",
    "        # parallel continious loop\n",
    "        seq = as_completed(cp)\n",
    "        i=0\n",
    "        olds = []\n",
    "        under_evaluation_now = len(cp)\n",
    "        for f in tqdm(seq):\n",
    "            if i >= evaluations:\n",
    "                [x.cancel() for x in cp]\n",
    "                break\n",
    "            if verbose:\n",
    "                if i > 0: bar.update(i)\n",
    "            i += 1\n",
    "\n",
    "            # get result from evaluation\n",
    "            idx, fitness, rsx = f.result()\n",
    "            if 1:\n",
    "                if idx not in olds:\n",
    "                    # set that individual's fitness\n",
    "                    pop.AccessGenomeByID(idx).SetFitness(fitness)\n",
    "                    pop.AccessGenomeByID(idx).SetEvaluated()\n",
    "                    under_evaluation_now -= 1\n",
    "\n",
    "                    thegenome = pop.AccessGenomeByID(idx)\n",
    "\n",
    "                    #  apply the local search back to genome\n",
    "                    if use_local_search:\n",
    "                        for qx,w in zip(thegenome.LinkGenes,rsx): qx.Weight = w\n",
    "\n",
    "                    # get best fitness in population and print it\n",
    "                    evhist.append(decide(fitness))\n",
    "                    if fitness > best_ever:\n",
    "                        if verbose:\n",
    "                            print('NEW RECORD!')\n",
    "                            print('Evaluations:', i,\n",
    "                                  'Fitness:', decide(fitness))\n",
    "                        best_gs.append([NEAT.Genome2NX(thegenome, with_weights=1),\n",
    "                                        thegenome.GetLinkTraits(1),\n",
    "                                        thegenome.GetNeuronTraits(),\n",
    "                                        rsx\n",
    "                                       ])\n",
    "                        if verbose:\n",
    "                            print(f'-------- nodes: {thegenome.NumNeurons()} -------- ')\n",
    "                            print('\\n'.join([str(x) for x in thegenome.GetNeuronTraits() if x[1] != 'input'][0:max_nodeslinks_to_output]))\n",
    "                            print(f'-------- links: {thegenome.NumLinks()} -------- ')\n",
    "                            print('\\n'.join([str(x) for x in thegenome.GetLinkTraits(1)][0:max_nodeslinks_to_output]))\n",
    "                            print('----------------------- ')\n",
    "                        best_ever = fitness\n",
    "                        if viz and verbose:\n",
    "                            species_display(pop)\n",
    "                    elif (i%display_pop_each)==0: \n",
    "                        if viz and verbose:\n",
    "                            species_display(pop)\n",
    "\n",
    "                else:\n",
    "                    if verbose: \n",
    "                        print(f'Fitness of genome #{idx} was not set.')\n",
    "\n",
    "            #except Exception as ex:\n",
    "            #    print(ex)\n",
    "            if verbose:\n",
    "                format_custom_text.update_mapping(fitness=decide(fitness),\n",
    "                                                  sp=len(pop.Species),\n",
    "                                                  ctr=pop.Parameters.CompatTreshold)\n",
    "\n",
    "\n",
    "            # apply exploration pressure to species\n",
    "            if penalize_stangation:\n",
    "                maxfit = max([x.GetFitness() for x in NEAT.GetGenomeList(pop)])\n",
    "                for s in pop.Species:\n",
    "                    if s.EvalsNoImprovement > penalize_stagnation_evals:\n",
    "                        bf = max([x.GetFitness() for x in s.Individuals])\n",
    "                        # make an exception if that species contains the best genome so far\n",
    "                        if bf < maxfit:\n",
    "                            for ind in s.Individuals:\n",
    "                                ind.SetFitness(0.000000001)\n",
    "\n",
    "            if all([x.EvalsNoImprovement > max_stagnation for x in pop.Species]):\n",
    "                break\n",
    "\n",
    "            # create new baby and add to list of tasks\n",
    "            # only add new babies if the population under evaluation is below N%\n",
    "            if under_evaluation_now <= (population*(1/3)):\n",
    "                if not once:\n",
    "                    once=True\n",
    "                    if verbose:\n",
    "                        print(f'rtNEAT reproduction cycle started at evaluation #{i}')\n",
    "\n",
    "                old = NEAT.Genome()\n",
    "                baby = pop.Tick(old)\n",
    "\n",
    "                if old.GetID() != -1:\n",
    "                    olds.append(old.GetID())\n",
    "\n",
    "                newf = client.submit(evaluate, (baby.GetID(),\n",
    "                                                NEAT.Genome2NX(baby, with_weights=1),\n",
    "                                                fx,\n",
    "                                                fy,\n",
    "                                                baby.GetLinkTraits(1),\n",
    "                                                baby.GetNeuronTraits(),\n",
    "                                                precomp\n",
    "                                                ))\n",
    "                seq.add(newf)\n",
    "                under_evaluation_now += 1\n",
    "\n",
    "    else: \n",
    "\n",
    "        # continuous loop\n",
    "        for i in tqdm(range(evaluations)):\n",
    "            if verbose:\n",
    "                bar.update(i)\n",
    "\n",
    "            # get the new baby\n",
    "            old = NEAT.Genome()\n",
    "            baby = pop.Tick(old)\n",
    "\n",
    "            # evaluate it\n",
    "            f = evaluate((baby.GetID(),\n",
    "                          NEAT.Genome2NX(baby, with_weights=1),\n",
    "                          dx,\n",
    "                          dy,\n",
    "                          baby.GetLinkTraits(1),\n",
    "                          baby.GetNeuronTraits(),\n",
    "                          precomp\n",
    "                          ))\n",
    "\n",
    "            fitness = f[1]\n",
    "            rsx = f[2]\n",
    "\n",
    "            baby.SetFitness(fitness)\n",
    "            baby.SetEvaluated()\n",
    "\n",
    "            # apply the local search back to genome\n",
    "            if use_local_search:\n",
    "                for qx,w in zip(baby.LinkGenes,rsx): qx.Weight = w\n",
    "\n",
    "            # get best fitness in population and print it\n",
    "            #evhist.append(decide(fitness))\n",
    "            if fitness > best_ever:\n",
    "                evhist.append(fitness)\n",
    "                if verbose:\n",
    "                    print('NEW RECORD!')\n",
    "                    print('Evaluations:', i,\n",
    "                          'Fitness:', decide(fitness))\n",
    "                best_gs.append([NEAT.Genome2NX(baby, with_weights=1),\n",
    "                               baby.GetLinkTraits(1),\n",
    "                               baby.GetNeuronTraits(),\n",
    "                               rsx])\n",
    "                best_bs = best_gs[-3:]\n",
    "                if verbose:                    \n",
    "                    print(f'-------- nodes: {baby.NumNeurons()} -------- ')\n",
    "                    print('\\n'.join([str(x) for x in baby.GetNeuronTraits() if x[1] != 'input'][0:max_nodeslinks_to_output]))\n",
    "                    print(f'-------- links: {baby.NumLinks()} -------- ')\n",
    "                    print('\\n'.join([str(x) for x in baby.GetLinkTraits(1)][0:max_nodeslinks_to_output]))\n",
    "                    print('----------------------- ')\n",
    "                best_ever = fitness\n",
    "                if viz and verbose:\n",
    "                    species_display(pop)\n",
    "            elif (i%display_pop_each)==0: \n",
    "                if viz and verbose:\n",
    "                    species_display(pop)\n",
    "\n",
    "            if all([x.EvalsNoImprovement > max_stagnation for x in pop.Species]):\n",
    "                break\n",
    "\n",
    "            if (i%50000)==0:\n",
    "                _=gc.collect()\n",
    "\n",
    "            #spechist.append([len(pop.Species), pop.Parameters.CompatTreshold])\n",
    "\n",
    "            if verbose:\n",
    "                format_custom_text.update_mapping(fitness=decide(f[1]),\n",
    "                                                  sp=len(pop.Species),\n",
    "                                                  ctr=pop.Parameters.CompatTreshold)\n",
    "\n",
    "except KeyboardInterrupt:\n",
    "    pass\n",
    "\n",
    "except Exception as ex:\n",
    "    print(ex)"
   ]
  },
  {
   "cell_type": "code",
   "execution_count": null,
   "metadata": {
    "code_folding": []
   },
   "outputs": [],
   "source": [
    "#%debug"
   ]
  },
  {
   "cell_type": "code",
   "execution_count": null,
   "metadata": {},
   "outputs": [],
   "source": []
  },
  {
   "cell_type": "code",
   "execution_count": null,
   "metadata": {},
   "outputs": [],
   "source": [
    "plot(array(evhist)[array(evhist)>0.50]);"
   ]
  },
  {
   "cell_type": "code",
   "execution_count": null,
   "metadata": {},
   "outputs": [],
   "source": []
  },
  {
   "cell_type": "code",
   "execution_count": null,
   "metadata": {},
   "outputs": [],
   "source": [
    "best_gs[-1]"
   ]
  },
  {
   "cell_type": "code",
   "execution_count": null,
   "metadata": {},
   "outputs": [],
   "source": [
    "np.sum(activate_graph(best_gs[-1][0], [dx], dy, num_outputs=1, fit=True).reshape(-1) == dy.reshape(-1)) / dy.shape[0]"
   ]
  },
  {
   "cell_type": "code",
   "execution_count": null,
   "metadata": {},
   "outputs": [],
   "source": []
  },
  {
   "cell_type": "code",
   "execution_count": null,
   "metadata": {},
   "outputs": [],
   "source": []
  },
  {
   "cell_type": "code",
   "execution_count": null,
   "metadata": {},
   "outputs": [],
   "source": [
    "client.restart(timeout=600)"
   ]
  },
  {
   "cell_type": "code",
   "execution_count": null,
   "metadata": {},
   "outputs": [],
   "source": []
  },
  {
   "cell_type": "code",
   "execution_count": null,
   "metadata": {},
   "outputs": [],
   "source": [
    "# make submission\n",
    "mytest = dx_test_df.iloc[:,1:9].values"
   ]
  },
  {
   "cell_type": "code",
   "execution_count": null,
   "metadata": {},
   "outputs": [],
   "source": [
    "activate_graph(best_gs[-1][0], [mytest], dy, num_outputs=1, fit=True).reshape(-1)"
   ]
  },
  {
   "cell_type": "code",
   "execution_count": null,
   "metadata": {},
   "outputs": [],
   "source": [
    "testPredictions = activate_graph(best_gs[-1][0], [mytest], dy, num_outputs=1, fit=True).reshape(-1)\n",
    "pdtest = pd.DataFrame({'PassengerId': dx_test_df.PassengerId.astype(int),\n",
    "                        'Survived': testPredictions.astype(int)})\n",
    "pdtest.to_csv('titanic_skneat_1.csv', index=False)# make submission"
   ]
  },
  {
   "cell_type": "code",
   "execution_count": null,
   "metadata": {},
   "outputs": [],
   "source": []
  },
  {
   "cell_type": "code",
   "execution_count": null,
   "metadata": {},
   "outputs": [],
   "source": []
  },
  {
   "cell_type": "code",
   "execution_count": null,
   "metadata": {},
   "outputs": [],
   "source": []
  },
  {
   "cell_type": "code",
   "execution_count": null,
   "metadata": {},
   "outputs": [],
   "source": []
  },
  {
   "cell_type": "code",
   "execution_count": null,
   "metadata": {},
   "outputs": [],
   "source": []
  }
 ],
 "metadata": {
  "kernelspec": {
   "display_name": "Python 3",
   "language": "python",
   "name": "python3"
  },
  "language_info": {
   "codemirror_mode": {
    "name": "ipython",
    "version": 3
   },
   "file_extension": ".py",
   "mimetype": "text/x-python",
   "name": "python",
   "nbconvert_exporter": "python",
   "pygments_lexer": "ipython3",
   "version": "3.6.7"
  },
  "toc": {
   "base_numbering": 1,
   "nav_menu": {},
   "number_sections": true,
   "sideBar": true,
   "skip_h1_title": false,
   "title_cell": "Table of Contents",
   "title_sidebar": "Contents",
   "toc_cell": false,
   "toc_position": {
    "height": "calc(100% - 180px)",
    "left": "10px",
    "top": "150px",
    "width": "227.145px"
   },
   "toc_section_display": true,
   "toc_window_display": true
  }
 },
 "nbformat": 4,
 "nbformat_minor": 2
}
